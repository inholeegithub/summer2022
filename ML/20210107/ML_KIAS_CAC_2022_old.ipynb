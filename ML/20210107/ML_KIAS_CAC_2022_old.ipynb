{
 "cells": [
  {
   "cell_type": "markdown",
   "id": "0024d40c",
   "metadata": {},
   "source": [
    "# 4 types\n",
    "\n",
    "supervised learning\n",
    "\n",
    "unsupervised learning\n",
    "\n",
    "reinforcement learning\n",
    "\n",
    "evolutionary learning\n",
    "\n",
    "# 3 elements\n",
    "\n",
    "representation\n",
    "\n",
    "evaluation\n",
    "\n",
    "optimization\n",
    "\n",
    "# Python, jupyter notebook, numpy, matplotlib, scikit-learn, keras/tensorflow, pytorch, GPU\n",
    "\n",
    "http://incredible.egloos.com/7448629"
   ]
  },
  {
   "cell_type": "markdown",
   "id": "96626bd0",
   "metadata": {},
   "source": [
    "conda create -n testAI\n",
    "conda activate testAI\n",
    "conda install tensorflow\n",
    "pip install keras\n",
    "pip install jupyter notebook\n",
    "pip install matplotlib\n",
    "pip install opencv-python\n",
    "pip install imageio\n",
    "pip install imgaug\n",
    "pip install xgboost\n",
    "pip install lightgbm\n",
    "pip install catboost\n",
    "pip install bayesian-optimization\n",
    "pip install scikit-optimize\n",
    "pip install mlens\n",
    "pip install deslib\n",
    "pip install graphviz\n",
    "pip install pydot\n",
    "\n",
    "{cuda, NVIDIA GPU}\n",
    "{\n",
    "conda install -c anaconda cudatoolkit\n",
    "conda install -c anaconda cudnn\n",
    "conda install -c anaconda tensorflow-gpu\n",
    "\n",
    "conda list cudatoolkit\n",
    "conda list cudnn\n",
    "nvidia-smi\n",
    "nvcc --version\n",
    "}"
   ]
  },
  {
   "cell_type": "markdown",
   "id": "94e90022",
   "metadata": {},
   "source": [
    "aa=[]\n",
    "bb=[]\n",
    "colors =[]\n",
    "afile=open(\"fort.11\",\"r\")\n",
    "ii=0\n",
    "for line in afile:\n",
    "    if len(line.split()) ==4:\n",
    "        continue\n",
    "    if len(line.split()) ==2:\n",
    "        ii=ii+1\n",
    "        bb.append(float(line.split()[1]))\n",
    "        aa.append(int(line.split()[0]))\n",
    "        colors.append(float(line.split()[0])/230.)\n",
    "afile.close()\n",
    "aa=np.array(aa)\n",
    "bb=np.array(bb)\n",
    "colors=np.array(colors)\n",
    "\n",
    "http://incredible.egloos.com/7506439\n"
   ]
  },
  {
   "cell_type": "markdown",
   "id": "656d8926",
   "metadata": {},
   "source": [
    "https://machinelearningmastery.com/setup-python-environment-machine-learning-deep-learning-anaconda/\n",
    "\n",
    "conda install -c anaconda cudatoolkit conda install -c anaconda cudnn conda install -c anaconda tensorflow-gpu\n",
    "\n",
    "conda list cudatoolkit conda list cudnn\n",
    "\n",
    "nvidia-smi nvcc --version\n",
    "\n",
    "pip install statsmodels\n",
    "\n",
    "download  --> *.py\n",
    "\n",
    "control shift -1\n",
    "\n",
    "a\n",
    "\n",
    "b\n",
    "\n",
    "conda env remove --name ENVIRONMENT\n"
   ]
  },
  {
   "cell_type": "code",
   "execution_count": 1,
   "id": "09f1b799",
   "metadata": {
    "ExecuteTime": {
     "end_time": "2022-06-25T07:54:30.774547Z",
     "start_time": "2022-06-25T07:54:30.760546Z"
    }
   },
   "outputs": [
    {
     "name": "stdout",
     "output_type": "stream",
     "text": [
      "Python: 3.9.12 (main, Apr  4 2022, 05:22:27) [MSC v.1916 64 bit (AMD64)]\n"
     ]
    }
   ],
   "source": [
    "# Python version\n",
    "import sys\n",
    "print('Python: {}'.format(sys.version))"
   ]
  },
  {
   "cell_type": "code",
   "execution_count": 2,
   "id": "3691459b",
   "metadata": {
    "ExecuteTime": {
     "end_time": "2022-06-25T07:54:40.494879Z",
     "start_time": "2022-06-25T07:54:30.776536Z"
    },
    "scrolled": true
   },
   "outputs": [
    {
     "name": "stdout",
     "output_type": "stream",
     "text": [
      "numpy: 1.21.5\n",
      "matplotlib: 3.5.1\n",
      "pandas: 1.4.0\n",
      "scipy: 1.7.3\n",
      "sklearn: 1.0.2\n",
      "lightgbm: 3.2.1\n",
      "xgboost: 1.3.3\n"
     ]
    },
    {
     "name": "stderr",
     "output_type": "stream",
     "text": [
      "C:\\Users\\ihlee\\anaconda3\\envs\\testAI\\lib\\site-packages\\xgboost\\compat.py:31: FutureWarning: pandas.Int64Index is deprecated and will be removed from pandas in a future version. Use pandas.Index with the appropriate dtype instead.\n",
      "  from pandas import MultiIndex, Int64Index\n"
     ]
    },
    {
     "name": "stdout",
     "output_type": "stream",
     "text": [
      "catboost: 0.26.1\n",
      "tensorflow: 2.5.0\n"
     ]
    }
   ],
   "source": [
    "import numpy\n",
    "print('numpy: %s' % numpy.__version__)\n",
    "import matplotlib\n",
    "print('matplotlib: %s' % matplotlib.__version__)\n",
    "import pandas\n",
    "print('pandas: %s' % pandas.__version__)\n",
    "import scipy\n",
    "print('scipy: %s' % scipy.__version__)\n",
    "if False:\n",
    "# statsmodels\n",
    "    import statsmodels\n",
    "    print('statsmodels: %s' % statsmodels.__version__)\n",
    "import sklearn\n",
    "print('sklearn: %s' % sklearn.__version__)\n",
    "import lightgbm as lgb\n",
    "print('lightgbm: %s' % lgb.__version__)\n",
    "import xgboost\n",
    "print('xgboost: %s' % xgboost.__version__)\n",
    "import catboost\n",
    "print('catboost: %s' % catboost.__version__)\n",
    "import tensorflow\n",
    "print('tensorflow: %s' % tensorflow.__version__)\n",
    "if False:\n",
    "    import keras\n",
    "    print('keras: %s' % keras.__version__)"
   ]
  },
  {
   "cell_type": "markdown",
   "id": "4f77ab9e",
   "metadata": {},
   "source": [
    "conda install -c anaconda cudatoolkit\n",
    "conda install -c anaconda cudnn\n",
    "conda install -c anaconda tensorflow-gpu\n",
    "\n",
    "conda list cudatoolkit\n",
    "conda list cudnn\n",
    "\n",
    "nvidia-smi\n",
    "nvcc --version"
   ]
  },
  {
   "cell_type": "code",
   "execution_count": 3,
   "id": "2477f414",
   "metadata": {
    "ExecuteTime": {
     "end_time": "2022-06-25T07:54:40.509854Z",
     "start_time": "2022-06-25T07:54:40.496861Z"
    },
    "scrolled": true
   },
   "outputs": [
    {
     "name": "stdout",
     "output_type": "stream",
     "text": [
      "OrderedDict([('cpu_compiler', 'C:/Program Files (x86)/Microsoft Visual Studio/2019/Community/VC/Tools/MSVC/14.29.30037/bin/HostX64/x64/cl.exe'), ('cuda_compute_capabilities', ['compute_35', 'compute_52', 'compute_60', 'compute_61', 'compute_70', 'compute_75', 'compute_80']), ('cuda_version', '64_113'), ('cudart_dll_name', 'cudart64_113.dll'), ('cudnn_dll_name', 'cudnn64_8.dll'), ('cudnn_version', '64_8'), ('is_cuda_build', True), ('is_rocm_build', False), ('is_tensorrt_build', False), ('msvcp_dll_names', 'msvcp140.dll,msvcp140_1.dll'), ('nvcuda_dll_name', 'nvcuda.dll')])\n",
      "64_113\n",
      "64_8\n"
     ]
    }
   ],
   "source": [
    "import tensorflow.python.platform.build_info as build\n",
    "print(build.build_info)\n",
    "print(build.build_info['cuda_version'])\n",
    "print(build.build_info['cudnn_version'])"
   ]
  },
  {
   "cell_type": "code",
   "execution_count": 4,
   "id": "99c9f331",
   "metadata": {
    "ExecuteTime": {
     "end_time": "2022-06-25T07:56:45.374531Z",
     "start_time": "2022-06-25T07:54:40.511851Z"
    }
   },
   "outputs": [
    {
     "data": {
      "text/plain": [
       "[name: \"/device:CPU:0\"\n",
       " device_type: \"CPU\"\n",
       " memory_limit: 268435456\n",
       " locality {\n",
       " }\n",
       " incarnation: 17713190664029825084,\n",
       " name: \"/device:GPU:0\"\n",
       " device_type: \"GPU\"\n",
       " memory_limit: 1417120974\n",
       " locality {\n",
       "   bus_id: 1\n",
       "   links {\n",
       "   }\n",
       " }\n",
       " incarnation: 14465731102355913772\n",
       " physical_device_desc: \"device: 0, name: NVIDIA GeForce GTX 750 Ti, pci bus id: 0000:01:00.0, compute capability: 5.0\"]"
      ]
     },
     "execution_count": 4,
     "metadata": {},
     "output_type": "execute_result"
    }
   ],
   "source": [
    "from tensorflow.python.client import device_lib\n",
    "device_lib.list_local_devices()"
   ]
  },
  {
   "cell_type": "code",
   "execution_count": 5,
   "id": "9ecf997f",
   "metadata": {
    "ExecuteTime": {
     "end_time": "2022-06-25T07:56:45.404519Z",
     "start_time": "2022-06-25T07:56:45.376518Z"
    }
   },
   "outputs": [
    {
     "name": "stdout",
     "output_type": "stream",
     "text": [
      "WARNING:tensorflow:From C:\\Users\\ihlee\\AppData\\Local\\Temp/ipykernel_8688/28396742.py:2: is_gpu_available (from tensorflow.python.framework.test_util) is deprecated and will be removed in a future version.\n",
      "Instructions for updating:\n",
      "Use `tf.config.list_physical_devices('GPU')` instead.\n",
      "True\n",
      "/device:GPU:0\n"
     ]
    },
    {
     "data": {
      "text/plain": [
       "[PhysicalDevice(name='/physical_device:GPU:0', device_type='GPU')]"
      ]
     },
     "execution_count": 5,
     "metadata": {},
     "output_type": "execute_result"
    }
   ],
   "source": [
    "import tensorflow as tf\n",
    "print(tf.test.is_gpu_available())\n",
    "print(tf.test.gpu_device_name())\n",
    "tf.config.experimental.list_physical_devices(device_type='GPU')"
   ]
  },
  {
   "cell_type": "code",
   "execution_count": 6,
   "id": "0cd1f5bb",
   "metadata": {
    "ExecuteTime": {
     "end_time": "2022-06-25T07:56:45.434513Z",
     "start_time": "2022-06-25T07:56:45.406500Z"
    },
    "scrolled": true
   },
   "outputs": [
    {
     "name": "stdout",
     "output_type": "stream",
     "text": [
      "2.5.0\n",
      "OrderedDict([('cpu_compiler', 'C:/Program Files (x86)/Microsoft Visual Studio/2019/Community/VC/Tools/MSVC/14.29.30037/bin/HostX64/x64/cl.exe'), ('cuda_compute_capabilities', ['compute_35', 'compute_52', 'compute_60', 'compute_61', 'compute_70', 'compute_75', 'compute_80']), ('cuda_version', '64_113'), ('cudart_dll_name', 'cudart64_113.dll'), ('cudnn_dll_name', 'cudnn64_8.dll'), ('cudnn_version', '64_8'), ('is_cuda_build', True), ('is_rocm_build', False), ('is_tensorrt_build', False), ('msvcp_dll_names', 'msvcp140.dll,msvcp140_1.dll'), ('nvcuda_dll_name', 'nvcuda.dll')])\n",
      "[name: \"/device:CPU:0\"\n",
      "device_type: \"CPU\"\n",
      "memory_limit: 268435456\n",
      "locality {\n",
      "}\n",
      "incarnation: 16441506281473048681\n",
      ", name: \"/device:GPU:0\"\n",
      "device_type: \"GPU\"\n",
      "memory_limit: 1417120974\n",
      "locality {\n",
      "  bus_id: 1\n",
      "  links {\n",
      "  }\n",
      "}\n",
      "incarnation: 14434691434434435900\n",
      "physical_device_desc: \"device: 0, name: NVIDIA GeForce GTX 750 Ti, pci bus id: 0000:01:00.0, compute capability: 5.0\"\n",
      "]\n"
     ]
    }
   ],
   "source": [
    "import tensorflow\n",
    "print(tensorflow.__version__)\n",
    "import tensorflow.python.platform.build_info as build\n",
    "print(build.build_info)\n",
    "\n",
    "import tensorflow as tf\n",
    "tf.test.is_gpu_available()\n",
    "tf.test.is_built_with_cuda()\n",
    "\n",
    "tf.config.list_physical_devices('GPU')\n",
    "tf.config.list_physical_devices('CPU')\n",
    "\n",
    "from tensorflow.python.client import device_lib\n",
    "print(device_lib.list_local_devices())"
   ]
  },
  {
   "cell_type": "markdown",
   "id": "aa3a3429",
   "metadata": {},
   "source": [
    "\n",
    "to use GPU: \"0\"   \"1\"    \"0,1\"\n",
    "\n",
    "control-alt-del --> performance --> GPU usage/percentage, memory, temperature\n",
    "\n",
    "for CPU:  \"-1\""
   ]
  },
  {
   "cell_type": "code",
   "execution_count": 7,
   "id": "5b64d527",
   "metadata": {
    "ExecuteTime": {
     "end_time": "2022-06-25T07:56:45.449504Z",
     "start_time": "2022-06-25T07:56:45.436498Z"
    }
   },
   "outputs": [],
   "source": [
    "import os\n",
    "os.environ[\"CUDA_VISIBLE_DEVICES\"]=\"0\"\n",
    "gpus = tf.config.experimental.list_physical_devices('GPU')\n",
    "if gpus:\n",
    "    try:\n",
    "        tf.config.experimental.set_memory_growth(gpus[0], True)\n",
    "    except RuntimeError as e:\n",
    "        print(e)"
   ]
  },
  {
   "cell_type": "code",
   "execution_count": 8,
   "id": "2357c907",
   "metadata": {
    "ExecuteTime": {
     "end_time": "2022-06-25T07:56:49.155307Z",
     "start_time": "2022-06-25T07:56:45.450492Z"
    }
   },
   "outputs": [
    {
     "name": "stdout",
     "output_type": "stream",
     "text": [
      "CPU\n",
      "Epoch 1/3\n",
      "67/67 [==============================] - 1s 5ms/step - loss: 1155.4696 - accuracy: 0.1099\n",
      "Epoch 2/3\n",
      "67/67 [==============================] - 0s 5ms/step - loss: 2.3072 - accuracy: 0.1124\n",
      "Epoch 3/3\n",
      "67/67 [==============================] - 0s 6ms/step - loss: 2.3021 - accuracy: 0.1124\n",
      "GPU, batch_size dependent\n",
      "Epoch 1/3\n",
      "67/67 [==============================] - 1s 6ms/step - loss: 2.3020 - accuracy: 0.1124\n",
      "Epoch 2/3\n",
      "67/67 [==============================] - 0s 5ms/step - loss: 2.3019 - accuracy: 0.1124\n",
      "Epoch 3/3\n",
      "67/67 [==============================] - 0s 5ms/step - loss: 2.3018 - accuracy: 0.1124\n"
     ]
    }
   ],
   "source": [
    "import tensorflow as tf\n",
    "import numpy as np\n",
    "(x_train, y_train), (x_test, y_test) = tf.keras.datasets.mnist.load_data()\n",
    "# numpy -- > tensor\n",
    "x_train = tf.convert_to_tensor(x_train, dtype=tf.float32)\n",
    "x_test = tf.convert_to_tensor(x_test, dtype=tf.float32)\n",
    "y_train = tf.one_hot(y_train, depth=len(np.unique(y_train)))\n",
    "y_test = tf.one_hot(y_test, depth=len(np.unique(y_train)))\n",
    "model = tf.keras.Sequential()\n",
    "model.add(tf.keras.layers.Flatten())\n",
    "model.add(tf.keras.layers.Dense(100, activation='relu'))\n",
    "model.add(tf.keras.layers.Dense(100, activation='relu'))\n",
    "model.add(tf.keras.layers.Dense(10, activation='softmax'))\n",
    "model.compile(loss=tf.keras.losses.categorical_crossentropy, optimizer=tf.keras.optimizers.SGD(), metrics=['accuracy'])\n",
    "print(\"CPU\")\n",
    "with tf.device(\"/device:CPU:0\"):\n",
    "    model.fit(x_train, y_train, batch_size=900, epochs=3)\n",
    "print(\"GPU, batch_size dependent\")\n",
    "with tf.device(\"/device:GPU:0\"):\n",
    "    model.fit(x_train, y_train, batch_size=900, epochs=3)"
   ]
  },
  {
   "cell_type": "markdown",
   "id": "df29646f",
   "metadata": {},
   "source": [
    "error message : mouse capture --> google --> stackoverflow.com\n",
    "\n",
    "https://machinelearningmastery.com/\n",
    "\n",
    "https://github.com/jakevdp/PythonDataScienceHandbook\n",
    "\n",
    "kaggle.com\n",
    "\n",
    "medium.com\n"
   ]
  },
  {
   "cell_type": "markdown",
   "id": "1c60ca3c",
   "metadata": {},
   "source": [
    "https://machinelearningmastery.com/repeated-k-fold-cross-validation-with-python/"
   ]
  },
  {
   "cell_type": "code",
   "execution_count": 9,
   "id": "9c54fe73",
   "metadata": {
    "ExecuteTime": {
     "end_time": "2022-06-25T07:56:57.749656Z",
     "start_time": "2022-06-25T07:56:49.158306Z"
    }
   },
   "outputs": [
    {
     "name": "stdout",
     "output_type": "stream",
     "text": [
      "(1000, 20)\n",
      "(1000,)\n",
      "[ 3.09434646  1.51658079 -0.26702159 -1.93730608 -1.41636893  2.10574155\n",
      "  3.84636834 -2.2513449  -0.61542662 -5.39583947 -0.48939403 -1.21989079\n",
      "  0.92764958  1.61863108  0.79314288  0.1984768  -2.9673391  -0.81177834\n",
      " -1.7756556   3.61202634]\n",
      "1\n",
      "Accuracy: 0.867 (0.031)\n"
     ]
    }
   ],
   "source": [
    "# evaluate a logistic regression model using repeated k-fold cross-validation\n",
    "from numpy import mean\n",
    "from numpy import std\n",
    "from sklearn.datasets import make_classification\n",
    "from sklearn.model_selection import RepeatedKFold\n",
    "from sklearn.model_selection import cross_val_score\n",
    "from sklearn.linear_model import LogisticRegression\n",
    "# create dataset\n",
    "X, y = make_classification(n_samples=1000, n_features=20, n_informative=15, n_redundant=5, random_state=1)\n",
    "print(X.shape)\n",
    "print(y.shape)\n",
    "print(X[10,:])\n",
    "print(y[10])\n",
    "# prepare the cross-validation procedure\n",
    "cv = RepeatedKFold(n_splits=10, n_repeats=3, random_state=1)\n",
    "# create model\n",
    "model = LogisticRegression()\n",
    "# evaluate model\n",
    "scores = cross_val_score(model, X, y, scoring='accuracy', cv=cv, n_jobs=-1)\n",
    "# report performance\n",
    "print('Accuracy: %.3f (%.3f)' % (mean(scores), std(scores)))"
   ]
  },
  {
   "cell_type": "markdown",
   "id": "348fc260",
   "metadata": {},
   "source": [
    "mouse capture, tab, shift tab\n",
    "\n",
    "shift tab"
   ]
  },
  {
   "cell_type": "code",
   "execution_count": 10,
   "id": "5fd92bd5",
   "metadata": {
    "ExecuteTime": {
     "end_time": "2022-06-25T07:57:02.084036Z",
     "start_time": "2022-06-25T07:56:57.751655Z"
    }
   },
   "outputs": [
    {
     "name": "stdout",
     "output_type": "stream",
     "text": [
      ">1 mean=0.8680 se=0.011\n",
      ">2 mean=0.8675 se=0.008\n",
      ">3 mean=0.8673 se=0.006\n",
      ">4 mean=0.8670 se=0.006\n",
      ">5 mean=0.8658 se=0.005\n",
      ">6 mean=0.8655 se=0.004\n",
      ">7 mean=0.8651 se=0.004\n",
      ">8 mean=0.8651 se=0.004\n",
      ">9 mean=0.8656 se=0.003\n",
      ">10 mean=0.8658 se=0.003\n",
      ">11 mean=0.8655 se=0.003\n",
      ">12 mean=0.8654 se=0.003\n",
      ">13 mean=0.8652 se=0.003\n",
      ">14 mean=0.8651 se=0.003\n",
      ">15 mean=0.8653 se=0.003\n"
     ]
    },
    {
     "data": {
      "image/png": "[encoded data removed]",
      "text/plain": [
       "<Figure size 432x288 with 1 Axes>"
      ]
     },
     "metadata": {
      "needs_background": "light"
     },
     "output_type": "display_data"
    }
   ],
   "source": [
    "# compare the number of repeats for repeated k-fold cross-validation\n",
    "from scipy.stats import sem\n",
    "from numpy import mean\n",
    "from numpy import std\n",
    "from sklearn.datasets import make_classification\n",
    "from sklearn.model_selection import RepeatedKFold\n",
    "from sklearn.model_selection import cross_val_score\n",
    "from sklearn.linear_model import LogisticRegression\n",
    "from matplotlib import pyplot\n",
    "\n",
    "# evaluate a model with a given number of repeats\n",
    "def evaluate_model(X, y, repeats):\n",
    "\t# prepare the cross-validation procedure\n",
    "\tcv = RepeatedKFold(n_splits=10, n_repeats=repeats, random_state=1)\n",
    "\t# create model\n",
    "\tmodel = LogisticRegression()\n",
    "\t# evaluate model\n",
    "\tscores = cross_val_score(model, X, y, scoring='accuracy', cv=cv, n_jobs=-1)\n",
    "\treturn scores\n",
    "\n",
    "# create dataset\n",
    "X, y = make_classification(n_samples=1000, n_features=20, n_informative=15, n_redundant=5, random_state=1)\n",
    "# configurations to test\n",
    "repeats = range(1,16)\n",
    "results = list()\n",
    "for r in repeats:\n",
    "    # evaluate using a given number of repeats\n",
    "    scores = evaluate_model(X, y, r)\n",
    "    # summarize\n",
    "    print('>%d mean=%.4f se=%.3f' % (r, mean(scores), sem(scores)))\n",
    "    # store\n",
    "    results.append(scores)\n",
    "# plot the results\n",
    "pyplot.boxplot(results, labels=[str(r) for r in repeats], showmeans=True)\n",
    "pyplot.show()"
   ]
  },
  {
   "cell_type": "code",
   "execution_count": 11,
   "id": "00516d00",
   "metadata": {
    "ExecuteTime": {
     "end_time": "2022-06-25T07:57:02.338896Z",
     "start_time": "2022-06-25T07:57:02.086036Z"
    }
   },
   "outputs": [
    {
     "data": {
      "image/png": "[encoded data removed]",
      "text/plain": [
       "<Figure size 432x288 with 1 Axes>"
      ]
     },
     "metadata": {
      "needs_background": "light"
     },
     "output_type": "display_data"
    }
   ],
   "source": [
    "# scatter plot of blobs dataset\n",
    "from sklearn.datasets import make_blobs\n",
    "from matplotlib import pyplot\n",
    "from pandas import DataFrame\n",
    "# generate 2d classification dataset\n",
    "X, y = make_blobs(n_samples=1000, centers=3, n_features=2, cluster_std=2, random_state=2)\n",
    "# scatter plot, dots colored by class value\n",
    "df = DataFrame(dict(x=X[:,0], y=X[:,1], label=y))\n",
    "colors = {0:'red', 1:'blue', 2:'green'}\n",
    "fig, ax = pyplot.subplots()\n",
    "grouped = df.groupby('label')\n",
    "for key, group in grouped:\n",
    "    group.plot(ax=ax, kind='scatter', x='x', y='y', label=key, color=colors[key])\n",
    "pyplot.show()"
   ]
  },
  {
   "cell_type": "code",
   "execution_count": 12,
   "id": "93d999f8",
   "metadata": {
    "ExecuteTime": {
     "end_time": "2022-06-25T07:57:42.090839Z",
     "start_time": "2022-06-25T07:57:02.340875Z"
    },
    "scrolled": true
   },
   "outputs": [
    {
     "name": "stdout",
     "output_type": "stream",
     "text": [
      "(100, 2) (1000, 2)\n",
      "(100, 3) (1000, 3)\n",
      "Train: 0.860, Test: 0.803\n"
     ]
    },
    {
     "data": {
      "image/png": "[encoded data removed]",
      "text/plain": [
       "<Figure size 432x288 with 1 Axes>"
      ]
     },
     "metadata": {
      "needs_background": "light"
     },
     "output_type": "display_data"
    }
   ],
   "source": [
    "# develop an MLP for blobs dataset\n",
    "from sklearn.datasets import make_blobs\n",
    "from tensorflow.keras.utils import to_categorical\n",
    "from tensorflow.keras.models import Sequential\n",
    "from tensorflow.keras.layers import Dense\n",
    "from matplotlib import pyplot\n",
    "# generate 2D classification dataset\n",
    "X, y = make_blobs(n_samples=1100, centers=3, n_features=2, cluster_std=2, random_state=2)\n",
    "# one hot encode output variable\n",
    "y = to_categorical(y)\n",
    "# split into train and test\n",
    "n_train = 100\n",
    "trainX, testX = X[:n_train, :], X[n_train:, :]\n",
    "trainy, testy = y[:n_train], y[n_train:]\n",
    "print(trainX.shape, testX.shape)\n",
    "print(trainy.shape, testy.shape)\n",
    "# define model\n",
    "model = Sequential()\n",
    "model.add(Dense(25, input_dim=2, activation='relu'))\n",
    "model.add(Dense(3, activation='softmax'))\n",
    "model.compile(loss='categorical_crossentropy', optimizer='adam', metrics=['accuracy'])\n",
    "# fit model\n",
    "history = model.fit(trainX, trainy, validation_data=(testX, testy), epochs=500, verbose=0)\n",
    "# evaluate the model\n",
    "_, train_acc = model.evaluate(trainX, trainy, verbose=0)\n",
    "_, test_acc = model.evaluate(testX, testy, verbose=0)\n",
    "print('Train: %.3f, Test: %.3f' % (train_acc, test_acc))\n",
    "# learning curves of model accuracy\n",
    "pyplot.plot(history.history['accuracy'], label='train')\n",
    "pyplot.plot(history.history['val_accuracy'], label='test')\n",
    "pyplot.legend()\n",
    "pyplot.show()"
   ]
  },
  {
   "cell_type": "markdown",
   "id": "0e2e2df6",
   "metadata": {},
   "source": [
    "to see vanishing gradient problem"
   ]
  },
  {
   "cell_type": "code",
   "execution_count": 13,
   "id": "1ae2dc38",
   "metadata": {
    "ExecuteTime": {
     "end_time": "2022-06-25T07:57:52.002567Z",
     "start_time": "2022-06-25T07:57:42.092841Z"
    }
   },
   "outputs": [
    {
     "data": {
      "image/png": "[encoded data removed]",
      "text/plain": [
       "<Figure size 576x432 with 1 Axes>"
      ]
     },
     "metadata": {
      "needs_background": "light"
     },
     "output_type": "display_data"
    },
    {
     "name": "stdout",
     "output_type": "stream",
     "text": [
      "32/32 [==============================] - 0s 2ms/step - loss: 0.2020 - acc: 0.9860\n",
      "[0.20204871892929077, 0.9860000014305115]\n"
     ]
    }
   ],
   "source": [
    "from sklearn.datasets import make_circles\n",
    "import matplotlib.pyplot as plt\n",
    "# make data: two circles on x-y plane as a classification problem\n",
    "X, y = make_circles(n_samples=1000, factor=0.5, noise=0.1)\n",
    "plt.figure(figsize=(8,6))\n",
    "plt.scatter(X[:,0], X[:,1], c=y)\n",
    "plt.show()\n",
    "\n",
    "#import tensorflow.keras.layers.InputLayer()\n",
    "from tensorflow.keras.layers import Dense\n",
    "from tensorflow.keras import Sequential\n",
    "model = Sequential([\n",
    "#    Input(shape=(2,)),\n",
    "    tensorflow.keras.layers.InputLayer(input_shape=(2,)),\n",
    "    Dense(5, \"relu\"),\n",
    "    Dense(1, \"sigmoid\")\n",
    "])\n",
    "model.compile(optimizer=\"adam\", loss=\"binary_crossentropy\", metrics=[\"acc\"])\n",
    "model.fit(X, y, batch_size=32, epochs=100, verbose=0)\n",
    "print(model.evaluate(X,y))"
   ]
  },
  {
   "cell_type": "code",
   "execution_count": 14,
   "id": "ed079895",
   "metadata": {
    "ExecuteTime": {
     "end_time": "2022-06-25T07:58:03.460630Z",
     "start_time": "2022-06-25T07:57:52.003566Z"
    }
   },
   "outputs": [
    {
     "name": "stdout",
     "output_type": "stream",
     "text": [
      "32/32 [==============================] - 0s 2ms/step - loss: 0.6932 - acc: 0.5000\n",
      "[0.6931630969047546, 0.5]\n"
     ]
    }
   ],
   "source": [
    "model = Sequential([\n",
    "#    Input(shape=(2,)),\n",
    "    tensorflow.keras.layers.InputLayer(input_shape=(2,)),\n",
    "    Dense(5, \"sigmoid\"),\n",
    "    Dense(5, \"sigmoid\"),\n",
    "    Dense(5, \"sigmoid\"),\n",
    "    Dense(1, \"sigmoid\")\n",
    "])\n",
    "model.compile(optimizer=\"adam\", loss=\"binary_crossentropy\", metrics=[\"acc\"])\n",
    "model.fit(X, y, batch_size=32, epochs=100, verbose=0)\n",
    "print(model.evaluate(X,y))"
   ]
  },
  {
   "cell_type": "code",
   "execution_count": 15,
   "id": "a4ca7878",
   "metadata": {
    "ExecuteTime": {
     "end_time": "2022-06-25T07:58:14.888757Z",
     "start_time": "2022-06-25T07:58:03.462629Z"
    }
   },
   "outputs": [
    {
     "name": "stdout",
     "output_type": "stream",
     "text": [
      "32/32 [==============================] - 0s 2ms/step - loss: 0.0156 - acc: 0.9970\n",
      "[0.01559185329824686, 0.996999979019165]\n"
     ]
    }
   ],
   "source": [
    "model = Sequential([\n",
    "#    Input(shape=(2,)),\n",
    "    tensorflow.keras.layers.InputLayer(input_shape=(2,)),\n",
    "    Dense(5, \"relu\"),\n",
    "    Dense(5, \"relu\"),\n",
    "    Dense(5, \"relu\"),\n",
    "    Dense(1, \"sigmoid\")\n",
    "])\n",
    "model.compile(optimizer=\"adam\", loss=\"binary_crossentropy\", metrics=[\"acc\"])\n",
    "model.fit(X, y, batch_size=32, epochs=100, verbose=0)\n",
    "print(model.evaluate(X,y))"
   ]
  },
  {
   "cell_type": "code",
   "execution_count": 16,
   "id": "69584680",
   "metadata": {
    "ExecuteTime": {
     "end_time": "2022-06-25T07:58:16.492573Z",
     "start_time": "2022-06-25T07:58:14.889758Z"
    }
   },
   "outputs": [
    {
     "name": "stdout",
     "output_type": "stream",
     "text": [
      "Epoch 1/100\n",
      "4/4 [==============================] - 0s 3ms/step - loss: 0.2646\n",
      "Epoch 2/100\n",
      "4/4 [==============================] - 0s 2ms/step - loss: 0.2600\n",
      "Epoch 3/100\n",
      "4/4 [==============================] - 0s 3ms/step - loss: 0.2562\n",
      "Epoch 4/100\n",
      "4/4 [==============================] - 0s 3ms/step - loss: 0.2550\n",
      "Epoch 5/100\n",
      "4/4 [==============================] - 0s 3ms/step - loss: 0.2543\n",
      "Epoch 6/100\n",
      "4/4 [==============================] - 0s 3ms/step - loss: 0.2539\n",
      "Epoch 7/100\n",
      "4/4 [==============================] - 0s 3ms/step - loss: 0.2535\n",
      "Epoch 8/100\n",
      "4/4 [==============================] - 0s 2ms/step - loss: 0.2531\n",
      "Epoch 9/100\n",
      "4/4 [==============================] - 0s 3ms/step - loss: 0.2531\n",
      "Epoch 10/100\n",
      "4/4 [==============================] - 0s 3ms/step - loss: 0.2528\n",
      "Epoch 11/100\n",
      "4/4 [==============================] - 0s 3ms/step - loss: 0.2524\n",
      "Epoch 12/100\n",
      "4/4 [==============================] - 0s 2ms/step - loss: 0.2520\n",
      "Epoch 13/100\n",
      "4/4 [==============================] - 0s 3ms/step - loss: 0.2515\n",
      "Epoch 14/100\n",
      "4/4 [==============================] - 0s 3ms/step - loss: 0.2512\n",
      "Epoch 15/100\n",
      "4/4 [==============================] - 0s 2ms/step - loss: 0.2507\n",
      "Epoch 16/100\n",
      "4/4 [==============================] - 0s 2ms/step - loss: 0.2504\n",
      "Epoch 17/100\n",
      "4/4 [==============================] - 0s 2ms/step - loss: 0.2495\n",
      "Epoch 18/100\n",
      "4/4 [==============================] - 0s 2ms/step - loss: 0.2501\n",
      "Epoch 19/100\n",
      "4/4 [==============================] - 0s 2ms/step - loss: 0.2494\n",
      "Epoch 20/100\n",
      "4/4 [==============================] - 0s 2ms/step - loss: 0.2489\n",
      "Epoch 21/100\n",
      "4/4 [==============================] - 0s 2ms/step - loss: 0.2487\n",
      "Epoch 22/100\n",
      "4/4 [==============================] - 0s 2ms/step - loss: 0.2484\n",
      "Epoch 23/100\n",
      "4/4 [==============================] - 0s 2ms/step - loss: 0.2482\n",
      "Epoch 24/100\n",
      "4/4 [==============================] - 0s 2ms/step - loss: 0.2478\n",
      "Epoch 25/100\n",
      "4/4 [==============================] - 0s 2ms/step - loss: 0.2474\n",
      "Epoch 26/100\n",
      "4/4 [==============================] - 0s 3ms/step - loss: 0.2472\n",
      "Epoch 27/100\n",
      "4/4 [==============================] - 0s 3ms/step - loss: 0.2469\n",
      "Epoch 28/100\n",
      "4/4 [==============================] - 0s 2ms/step - loss: 0.2466\n",
      "Epoch 29/100\n",
      "4/4 [==============================] - 0s 2ms/step - loss: 0.2458\n",
      "Epoch 30/100\n",
      "4/4 [==============================] - 0s 2ms/step - loss: 0.2461\n",
      "Epoch 31/100\n",
      "4/4 [==============================] - 0s 3ms/step - loss: 0.2456\n",
      "Epoch 32/100\n",
      "4/4 [==============================] - 0s 3ms/step - loss: 0.2453\n",
      "Epoch 33/100\n",
      "4/4 [==============================] - 0s 3ms/step - loss: 0.2445\n",
      "Epoch 34/100\n",
      "4/4 [==============================] - 0s 3ms/step - loss: 0.2446\n",
      "Epoch 35/100\n",
      "4/4 [==============================] - 0s 2ms/step - loss: 0.2439\n",
      "Epoch 36/100\n",
      "4/4 [==============================] - 0s 2ms/step - loss: 0.2437\n",
      "Epoch 37/100\n",
      "4/4 [==============================] - 0s 2ms/step - loss: 0.2432\n",
      "Epoch 38/100\n",
      "4/4 [==============================] - 0s 2ms/step - loss: 0.2424\n",
      "Epoch 39/100\n",
      "4/4 [==============================] - 0s 2ms/step - loss: 0.2422\n",
      "Epoch 40/100\n",
      "4/4 [==============================] - 0s 3ms/step - loss: 0.2420\n",
      "Epoch 41/100\n",
      "4/4 [==============================] - 0s 2ms/step - loss: 0.2410\n",
      "Epoch 42/100\n",
      "4/4 [==============================] - 0s 2ms/step - loss: 0.2403\n",
      "Epoch 43/100\n",
      "4/4 [==============================] - 0s 2ms/step - loss: 0.2406\n",
      "Epoch 44/100\n",
      "4/4 [==============================] - 0s 3ms/step - loss: 0.2394\n",
      "Epoch 45/100\n",
      "4/4 [==============================] - 0s 2ms/step - loss: 0.2390\n",
      "Epoch 46/100\n",
      "4/4 [==============================] - 0s 2ms/step - loss: 0.2378\n",
      "Epoch 47/100\n",
      "4/4 [==============================] - 0s 2ms/step - loss: 0.2376\n",
      "Epoch 48/100\n",
      "4/4 [==============================] - 0s 3ms/step - loss: 0.2375\n",
      "Epoch 49/100\n",
      "4/4 [==============================] - 0s 3ms/step - loss: 0.2366\n",
      "Epoch 50/100\n",
      "4/4 [==============================] - 0s 2ms/step - loss: 0.2357\n",
      "Epoch 51/100\n",
      "4/4 [==============================] - 0s 2ms/step - loss: 0.2353\n",
      "Epoch 52/100\n",
      "4/4 [==============================] - 0s 2ms/step - loss: 0.2344\n",
      "Epoch 53/100\n",
      "4/4 [==============================] - 0s 2ms/step - loss: 0.2335\n",
      "Epoch 54/100\n",
      "4/4 [==============================] - 0s 3ms/step - loss: 0.2331\n",
      "Epoch 55/100\n",
      "4/4 [==============================] - 0s 2ms/step - loss: 0.2322\n",
      "Epoch 56/100\n",
      "4/4 [==============================] - 0s 3ms/step - loss: 0.2309\n",
      "Epoch 57/100\n",
      "4/4 [==============================] - 0s 2ms/step - loss: 0.2299\n",
      "Epoch 58/100\n",
      "4/4 [==============================] - 0s 2ms/step - loss: 0.2307\n",
      "Epoch 59/100\n",
      "4/4 [==============================] - 0s 2ms/step - loss: 0.2282\n",
      "Epoch 60/100\n",
      "4/4 [==============================] - 0s 2ms/step - loss: 0.2267\n",
      "Epoch 61/100\n",
      "4/4 [==============================] - 0s 2ms/step - loss: 0.2272\n",
      "Epoch 62/100\n",
      "4/4 [==============================] - 0s 3ms/step - loss: 0.2253\n",
      "Epoch 63/100\n",
      "4/4 [==============================] - 0s 2ms/step - loss: 0.2241\n",
      "Epoch 64/100\n",
      "4/4 [==============================] - 0s 3ms/step - loss: 0.2237\n",
      "Epoch 65/100\n",
      "4/4 [==============================] - 0s 3ms/step - loss: 0.2217\n",
      "Epoch 66/100\n",
      "4/4 [==============================] - 0s 2ms/step - loss: 0.2202\n",
      "Epoch 67/100\n",
      "4/4 [==============================] - 0s 2ms/step - loss: 0.2190\n",
      "Epoch 68/100\n",
      "4/4 [==============================] - 0s 2ms/step - loss: 0.2181\n",
      "Epoch 69/100\n",
      "4/4 [==============================] - 0s 2ms/step - loss: 0.2164\n",
      "Epoch 70/100\n",
      "4/4 [==============================] - 0s 2ms/step - loss: 0.2155\n",
      "Epoch 71/100\n",
      "4/4 [==============================] - 0s 3ms/step - loss: 0.2140\n",
      "Epoch 72/100\n",
      "4/4 [==============================] - 0s 2ms/step - loss: 0.2104\n",
      "Epoch 73/100\n",
      "4/4 [==============================] - 0s 3ms/step - loss: 0.2117\n",
      "Epoch 74/100\n",
      "4/4 [==============================] - 0s 2ms/step - loss: 0.2072\n",
      "Epoch 75/100\n",
      "4/4 [==============================] - 0s 3ms/step - loss: 0.2077\n",
      "Epoch 76/100\n",
      "4/4 [==============================] - 0s 4ms/step - loss: 0.2049\n",
      "Epoch 77/100\n",
      "4/4 [==============================] - 0s 2ms/step - loss: 0.2023\n",
      "Epoch 78/100\n",
      "4/4 [==============================] - 0s 2ms/step - loss: 0.1994\n",
      "Epoch 79/100\n",
      "4/4 [==============================] - 0s 3ms/step - loss: 0.1976\n",
      "Epoch 80/100\n",
      "4/4 [==============================] - 0s 2ms/step - loss: 0.1977\n",
      "Epoch 81/100\n",
      "4/4 [==============================] - 0s 3ms/step - loss: 0.1940\n",
      "Epoch 82/100\n",
      "4/4 [==============================] - 0s 3ms/step - loss: 0.1890\n",
      "Epoch 83/100\n",
      "4/4 [==============================] - 0s 2ms/step - loss: 0.1890\n",
      "Epoch 84/100\n",
      "4/4 [==============================] - 0s 3ms/step - loss: 0.1855\n",
      "Epoch 85/100\n",
      "4/4 [==============================] - 0s 3ms/step - loss: 0.1849\n",
      "Epoch 86/100\n",
      "4/4 [==============================] - 0s 3ms/step - loss: 0.1794\n",
      "Epoch 87/100\n",
      "4/4 [==============================] - 0s 2ms/step - loss: 0.1771\n",
      "Epoch 88/100\n",
      "4/4 [==============================] - 0s 3ms/step - loss: 0.1742\n",
      "Epoch 89/100\n",
      "4/4 [==============================] - 0s 3ms/step - loss: 0.1702\n",
      "Epoch 90/100\n",
      "4/4 [==============================] - 0s 3ms/step - loss: 0.1659\n",
      "Epoch 91/100\n",
      "4/4 [==============================] - 0s 3ms/step - loss: 0.1615\n",
      "Epoch 92/100\n",
      "4/4 [==============================] - 0s 3ms/step - loss: 0.1596\n",
      "Epoch 93/100\n",
      "4/4 [==============================] - 0s 3ms/step - loss: 0.1601\n",
      "Epoch 94/100\n",
      "4/4 [==============================] - 0s 3ms/step - loss: 0.1522\n",
      "Epoch 95/100\n",
      "4/4 [==============================] - 0s 3ms/step - loss: 0.1437\n",
      "Epoch 96/100\n",
      "4/4 [==============================] - 0s 3ms/step - loss: 0.1484\n",
      "Epoch 97/100\n",
      "4/4 [==============================] - 0s 2ms/step - loss: 0.1395\n",
      "Epoch 98/100\n",
      "4/4 [==============================] - 0s 3ms/step - loss: 0.1322\n",
      "Epoch 99/100\n",
      "4/4 [==============================] - 0s 2ms/step - loss: 0.1356\n",
      "Epoch 100/100\n",
      "4/4 [==============================] - 0s 2ms/step - loss: 0.1273\n",
      "[[0.]\n",
      " [1.]\n",
      " [1.]\n",
      " [0.]]\n",
      "[array([[1.1478548 , 0.04579153],\n",
      "       [0.4405186 , 1.1150725 ]], dtype=float32), array([-0.04811459,  0.01421857], dtype=float32)]\n",
      "[array([[-0.3382746 , -0.5554208 , -0.4928489 ,  0.9425071 , -0.13816912,\n",
      "         0.08766073, -0.56534636, -0.2985658 ],\n",
      "       [ 0.4268478 ,  0.41344056,  0.6230883 ,  0.31439954,  0.08274128,\n",
      "         1.0071988 ,  0.4438099 , -0.49796513]], dtype=float32), array([-0.02673174,  0.30193028, -0.02404042, -0.01688824, -0.04660424,\n",
      "       -0.17411275,  0.33472338,  0.        ], dtype=float32)]\n",
      "[array([[-0.09417994,  0.11291266,  0.23997715,  0.14142855,  0.38448614,\n",
      "         0.57747835, -0.47719434,  0.21825737],\n",
      "       [-0.5483561 , -0.04404584,  0.2835752 ,  0.5653233 ,  0.6215954 ,\n",
      "         0.08695054,  0.60090804, -0.3784873 ],\n",
      "       [-0.67983425,  0.2674417 , -0.104581  , -0.1736805 ,  0.26085323,\n",
      "         0.61586595, -0.36055827,  0.07016819],\n",
      "       [ 0.4672611 ,  0.15502173,  0.45719278, -0.50643307,  0.08529589,\n",
      "         0.44577068, -0.5421254 , -0.38370377],\n",
      "       [ 0.2924634 , -0.48411563,  0.35548723, -0.02211975, -0.27030784,\n",
      "        -0.18183614, -0.15581898, -0.43813542],\n",
      "       [ 0.8054375 , -0.31221578, -0.0238548 ,  0.48126003, -0.08131218,\n",
      "        -0.4731316 , -0.5610611 ,  0.44042072],\n",
      "       [-0.10958891,  0.07355755, -0.28669795, -0.40719154,  0.5758676 ,\n",
      "         0.01310752,  0.5302072 , -0.0804803 ],\n",
      "       [ 0.22346777,  0.21972388,  0.54121155,  0.31687552,  0.40429407,\n",
      "         0.44093508, -0.39456892,  0.26304746]], dtype=float32), array([-0.48634842,  0.05844413,  0.05069456, -0.19326092,  0.06589767,\n",
      "       -0.01417557,  0.5873061 , -0.07359244], dtype=float32)]\n",
      "[array([[-1.0950981 ],\n",
      "       [-0.00122024],\n",
      "       [ 0.28688088],\n",
      "       [-0.39068976],\n",
      "       [ 0.44812217],\n",
      "       [ 0.19505216],\n",
      "       [-1.0085535 ],\n",
      "       [-0.7577099 ]], dtype=float32), array([0.13761643], dtype=float32)]\n"
     ]
    }
   ],
   "source": [
    "from tensorflow.keras.models import Sequential\n",
    "from tensorflow.keras.layers import Dense, Dropout, Activation\n",
    "# from keras.optimizers import SGD\n",
    "from tensorflow.keras.optimizers import SGD\n",
    "import numpy as np\n",
    "\n",
    "X = np.array([[0,0],[0,1],[1,0],[1,1]])\n",
    "y = np.array([[0],[1],[1],[0]])\n",
    "model = Sequential()\n",
    "model.add(Dense(2, input_dim=2, activation='relu'))\n",
    "model.add(Dense(8,activation='relu'))\n",
    "model.add(Dense(8,activation='relu'))\n",
    "model.add(Dense(1, activation='sigmoid'))\n",
    "sgd = SGD(learning_rate=0.1)\n",
    "#model.compile(loss='binary_crossentropy', optimizer=sgd)\n",
    "model.compile(loss='mean_squared_error', optimizer=sgd)\n",
    "#model.compile(loss='mean_squared_error', optimizer='adam')\n",
    "model.fit(X, y, batch_size=1, epochs=100)\n",
    "#print(model.predict_proba(X))\n",
    "print(model.predict(X).round())\n",
    "for layer in model.layers:\n",
    "    weights = layer.get_weights()\n",
    "    print(weights)\n",
    "model.save_weights(\"model.h5\")"
   ]
  },
  {
   "cell_type": "code",
   "execution_count": 17,
   "id": "c482c82c",
   "metadata": {
    "ExecuteTime": {
     "end_time": "2022-06-25T07:58:22.881853Z",
     "start_time": "2022-06-25T07:58:16.493606Z"
    }
   },
   "outputs": [
    {
     "name": "stdout",
     "output_type": "stream",
     "text": [
      "Epoch 1/500\n",
      "4/4 [==============================] - 0s 2ms/step - loss: 0.7257\n",
      "Epoch 2/500\n",
      "4/4 [==============================] - 0s 3ms/step - loss: 0.7226\n",
      "Epoch 3/500\n",
      "4/4 [==============================] - 0s 3ms/step - loss: 0.7194\n",
      "Epoch 4/500\n",
      "4/4 [==============================] - 0s 3ms/step - loss: 0.7065\n",
      "Epoch 5/500\n",
      "4/4 [==============================] - 0s 3ms/step - loss: 0.7013\n",
      "Epoch 6/500\n",
      "4/4 [==============================] - 0s 2ms/step - loss: 0.6988\n",
      "Epoch 7/500\n",
      "4/4 [==============================] - 0s 3ms/step - loss: 0.6964\n",
      "Epoch 8/500\n",
      "4/4 [==============================] - 0s 3ms/step - loss: 0.6926\n",
      "Epoch 9/500\n",
      "4/4 [==============================] - 0s 2ms/step - loss: 0.6921\n",
      "Epoch 10/500\n",
      "4/4 [==============================] - 0s 3ms/step - loss: 0.6900\n",
      "Epoch 11/500\n",
      "4/4 [==============================] - 0s 3ms/step - loss: 0.6893\n",
      "Epoch 12/500\n",
      "4/4 [==============================] - 0s 3ms/step - loss: 0.6863\n",
      "Epoch 13/500\n",
      "4/4 [==============================] - 0s 2ms/step - loss: 0.6859\n",
      "Epoch 14/500\n",
      "4/4 [==============================] - 0s 2ms/step - loss: 0.6840\n",
      "Epoch 15/500\n",
      "4/4 [==============================] - 0s 3ms/step - loss: 0.6806\n",
      "Epoch 16/500\n",
      "4/4 [==============================] - 0s 2ms/step - loss: 0.6800\n",
      "Epoch 17/500\n",
      "4/4 [==============================] - 0s 2ms/step - loss: 0.6779\n",
      "Epoch 18/500\n",
      "4/4 [==============================] - 0s 2ms/step - loss: 0.6750\n",
      "Epoch 19/500\n",
      "4/4 [==============================] - 0s 3ms/step - loss: 0.6727\n",
      "Epoch 20/500\n",
      "4/4 [==============================] - 0s 2ms/step - loss: 0.6697\n",
      "Epoch 21/500\n",
      "4/4 [==============================] - 0s 2ms/step - loss: 0.6660\n",
      "Epoch 22/500\n",
      "4/4 [==============================] - 0s 2ms/step - loss: 0.6638\n",
      "Epoch 23/500\n",
      "4/4 [==============================] - 0s 2ms/step - loss: 0.6595\n",
      "Epoch 24/500\n",
      "4/4 [==============================] - 0s 3ms/step - loss: 0.6601\n",
      "Epoch 25/500\n",
      "4/4 [==============================] - 0s 3ms/step - loss: 0.6554\n",
      "Epoch 26/500\n",
      "4/4 [==============================] - 0s 3ms/step - loss: 0.6532\n",
      "Epoch 27/500\n",
      "4/4 [==============================] - 0s 4ms/step - loss: 0.6447\n",
      "Epoch 28/500\n",
      "4/4 [==============================] - 0s 3ms/step - loss: 0.6470\n",
      "Epoch 29/500\n",
      "4/4 [==============================] - 0s 2ms/step - loss: 0.6393\n",
      "Epoch 30/500\n",
      "4/4 [==============================] - 0s 3ms/step - loss: 0.6354\n",
      "Epoch 31/500\n",
      "4/4 [==============================] - 0s 3ms/step - loss: 0.6289\n",
      "Epoch 32/500\n",
      "4/4 [==============================] - 0s 3ms/step - loss: 0.6272\n",
      "Epoch 33/500\n",
      "4/4 [==============================] - 0s 2ms/step - loss: 0.6224\n",
      "Epoch 34/500\n",
      "4/4 [==============================] - 0s 2ms/step - loss: 0.6121\n",
      "Epoch 35/500\n",
      "4/4 [==============================] - 0s 2ms/step - loss: 0.6131\n",
      "Epoch 36/500\n",
      "4/4 [==============================] - 0s 2ms/step - loss: 0.6039\n",
      "Epoch 37/500\n",
      "4/4 [==============================] - 0s 2ms/step - loss: 0.5984\n",
      "Epoch 38/500\n",
      "4/4 [==============================] - 0s 3ms/step - loss: 0.5909\n",
      "Epoch 39/500\n",
      "4/4 [==============================] - 0s 2ms/step - loss: 0.5837\n",
      "Epoch 40/500\n",
      "4/4 [==============================] - 0s 2ms/step - loss: 0.5813\n",
      "Epoch 41/500\n",
      "4/4 [==============================] - 0s 2ms/step - loss: 0.5683\n",
      "Epoch 42/500\n",
      "4/4 [==============================] - 0s 2ms/step - loss: 0.5666\n",
      "Epoch 43/500\n",
      "4/4 [==============================] - 0s 2ms/step - loss: 0.5533\n",
      "Epoch 44/500\n",
      "4/4 [==============================] - 0s 2ms/step - loss: 0.5540\n",
      "Epoch 45/500\n",
      "4/4 [==============================] - 0s 2ms/step - loss: 0.5440\n",
      "Epoch 46/500\n",
      "4/4 [==============================] - 0s 2ms/step - loss: 0.5271\n",
      "Epoch 47/500\n",
      "4/4 [==============================] - 0s 2ms/step - loss: 0.5386\n",
      "Epoch 48/500\n",
      "4/4 [==============================] - 0s 2ms/step - loss: 0.5171\n",
      "Epoch 49/500\n",
      "4/4 [==============================] - 0s 3ms/step - loss: 0.5152\n",
      "Epoch 50/500\n",
      "4/4 [==============================] - 0s 3ms/step - loss: 0.5013\n",
      "Epoch 51/500\n",
      "4/4 [==============================] - 0s 3ms/step - loss: 0.4979\n",
      "Epoch 52/500\n",
      "4/4 [==============================] - 0s 2ms/step - loss: 0.4879\n",
      "Epoch 53/500\n",
      "4/4 [==============================] - 0s 2ms/step - loss: 0.4736\n",
      "Epoch 54/500\n",
      "4/4 [==============================] - 0s 3ms/step - loss: 0.4736\n",
      "Epoch 55/500\n",
      "4/4 [==============================] - 0s 2ms/step - loss: 0.4643\n",
      "Epoch 56/500\n",
      "4/4 [==============================] - 0s 2ms/step - loss: 0.4508\n",
      "Epoch 57/500\n",
      "4/4 [==============================] - 0s 2ms/step - loss: 0.4477\n",
      "Epoch 58/500\n",
      "4/4 [==============================] - 0s 2ms/step - loss: 0.4382\n",
      "Epoch 59/500\n",
      "4/4 [==============================] - 0s 3ms/step - loss: 0.4256\n",
      "Epoch 60/500\n",
      "4/4 [==============================] - 0s 3ms/step - loss: 0.4266\n",
      "Epoch 61/500\n",
      "4/4 [==============================] - 0s 2ms/step - loss: 0.4094\n",
      "Epoch 62/500\n",
      "4/4 [==============================] - 0s 3ms/step - loss: 0.3922\n",
      "Epoch 63/500\n",
      "4/4 [==============================] - 0s 2ms/step - loss: 0.3807\n",
      "Epoch 64/500\n",
      "4/4 [==============================] - 0s 2ms/step - loss: 0.3722\n",
      "Epoch 65/500\n",
      "4/4 [==============================] - 0s 2ms/step - loss: 0.3518\n",
      "Epoch 66/500\n",
      "4/4 [==============================] - 0s 2ms/step - loss: 0.3422\n",
      "Epoch 67/500\n",
      "4/4 [==============================] - 0s 2ms/step - loss: 0.3316\n",
      "Epoch 68/500\n",
      "4/4 [==============================] - 0s 3ms/step - loss: 0.3108\n",
      "Epoch 69/500\n",
      "4/4 [==============================] - 0s 3ms/step - loss: 0.3140\n",
      "Epoch 70/500\n",
      "4/4 [==============================] - 0s 2ms/step - loss: 0.2915\n",
      "Epoch 71/500\n",
      "4/4 [==============================] - 0s 2ms/step - loss: 0.2755\n",
      "Epoch 72/500\n",
      "4/4 [==============================] - 0s 3ms/step - loss: 0.2675\n",
      "Epoch 73/500\n",
      "4/4 [==============================] - 0s 3ms/step - loss: 0.2543\n",
      "Epoch 74/500\n",
      "4/4 [==============================] - 0s 2ms/step - loss: 0.2420\n",
      "Epoch 75/500\n",
      "4/4 [==============================] - 0s 2ms/step - loss: 0.2247\n",
      "Epoch 76/500\n",
      "4/4 [==============================] - 0s 3ms/step - loss: 0.2224\n",
      "Epoch 77/500\n",
      "4/4 [==============================] - 0s 3ms/step - loss: 0.2044\n",
      "Epoch 78/500\n",
      "4/4 [==============================] - 0s 2ms/step - loss: 0.1855\n",
      "Epoch 79/500\n",
      "4/4 [==============================] - 0s 2ms/step - loss: 0.1902\n",
      "Epoch 80/500\n",
      "4/4 [==============================] - 0s 2ms/step - loss: 0.1779\n",
      "Epoch 81/500\n",
      "4/4 [==============================] - 0s 2ms/step - loss: 0.1641\n",
      "Epoch 82/500\n",
      "4/4 [==============================] - 0s 2ms/step - loss: 0.1497\n",
      "Epoch 83/500\n",
      "4/4 [==============================] - 0s 2ms/step - loss: 0.1525\n",
      "Epoch 84/500\n",
      "4/4 [==============================] - 0s 3ms/step - loss: 0.1443\n",
      "Epoch 85/500\n",
      "4/4 [==============================] - 0s 3ms/step - loss: 0.1350\n",
      "Epoch 86/500\n",
      "4/4 [==============================] - 0s 2ms/step - loss: 0.1282\n",
      "Epoch 87/500\n",
      "4/4 [==============================] - 0s 3ms/step - loss: 0.1194\n",
      "Epoch 88/500\n",
      "4/4 [==============================] - 0s 2ms/step - loss: 0.1172\n",
      "Epoch 89/500\n",
      "4/4 [==============================] - 0s 3ms/step - loss: 0.1082\n",
      "Epoch 90/500\n",
      "4/4 [==============================] - 0s 3ms/step - loss: 0.1030\n",
      "Epoch 91/500\n",
      "4/4 [==============================] - 0s 3ms/step - loss: 0.1007\n",
      "Epoch 92/500\n",
      "4/4 [==============================] - 0s 2ms/step - loss: 0.0956\n",
      "Epoch 93/500\n",
      "4/4 [==============================] - 0s 3ms/step - loss: 0.0907\n",
      "Epoch 94/500\n",
      "4/4 [==============================] - 0s 2ms/step - loss: 0.0886\n",
      "Epoch 95/500\n",
      "4/4 [==============================] - 0s 3ms/step - loss: 0.0828\n",
      "Epoch 96/500\n",
      "4/4 [==============================] - 0s 3ms/step - loss: 0.0787\n",
      "Epoch 97/500\n",
      "4/4 [==============================] - 0s 3ms/step - loss: 0.0786\n",
      "Epoch 98/500\n",
      "4/4 [==============================] - 0s 2ms/step - loss: 0.0725\n",
      "Epoch 99/500\n",
      "4/4 [==============================] - 0s 2ms/step - loss: 0.0690\n",
      "Epoch 100/500\n",
      "4/4 [==============================] - 0s 4ms/step - loss: 0.0698\n",
      "Epoch 101/500\n",
      "4/4 [==============================] - 0s 3ms/step - loss: 0.0676\n",
      "Epoch 102/500\n",
      "4/4 [==============================] - 0s 3ms/step - loss: 0.0637\n",
      "Epoch 103/500\n",
      "4/4 [==============================] - 0s 3ms/step - loss: 0.0610\n",
      "Epoch 104/500\n"
     ]
    },
    {
     "name": "stdout",
     "output_type": "stream",
     "text": [
      "4/4 [==============================] - 0s 3ms/step - loss: 0.0595\n",
      "Epoch 105/500\n",
      "4/4 [==============================] - 0s 2ms/step - loss: 0.0574\n",
      "Epoch 106/500\n",
      "4/4 [==============================] - 0s 3ms/step - loss: 0.0552\n",
      "Epoch 107/500\n",
      "4/4 [==============================] - 0s 3ms/step - loss: 0.0528\n",
      "Epoch 108/500\n",
      "4/4 [==============================] - 0s 2ms/step - loss: 0.0513\n",
      "Epoch 109/500\n",
      "4/4 [==============================] - 0s 2ms/step - loss: 0.0504\n",
      "Epoch 110/500\n",
      "4/4 [==============================] - 0s 3ms/step - loss: 0.0482\n",
      "Epoch 111/500\n",
      "4/4 [==============================] - 0s 3ms/step - loss: 0.0463\n",
      "Epoch 112/500\n",
      "4/4 [==============================] - 0s 3ms/step - loss: 0.0458\n",
      "Epoch 113/500\n",
      "4/4 [==============================] - 0s 2ms/step - loss: 0.0437\n",
      "Epoch 114/500\n",
      "4/4 [==============================] - 0s 3ms/step - loss: 0.0423\n",
      "Epoch 115/500\n",
      "4/4 [==============================] - 0s 3ms/step - loss: 0.0419\n",
      "Epoch 116/500\n",
      "4/4 [==============================] - 0s 3ms/step - loss: 0.0405\n",
      "Epoch 117/500\n",
      "4/4 [==============================] - 0s 3ms/step - loss: 0.0396\n",
      "Epoch 118/500\n",
      "4/4 [==============================] - 0s 3ms/step - loss: 0.0383\n",
      "Epoch 119/500\n",
      "4/4 [==============================] - 0s 3ms/step - loss: 0.0370\n",
      "Epoch 120/500\n",
      "4/4 [==============================] - 0s 2ms/step - loss: 0.0363\n",
      "Epoch 121/500\n",
      "4/4 [==============================] - 0s 2ms/step - loss: 0.0352\n",
      "Epoch 122/500\n",
      "4/4 [==============================] - 0s 3ms/step - loss: 0.0342\n",
      "Epoch 123/500\n",
      "4/4 [==============================] - 0s 3ms/step - loss: 0.0334\n",
      "Epoch 124/500\n",
      "4/4 [==============================] - 0s 4ms/step - loss: 0.0326\n",
      "Epoch 125/500\n",
      "4/4 [==============================] - 0s 3ms/step - loss: 0.0317\n",
      "Epoch 126/500\n",
      "4/4 [==============================] - 0s 3ms/step - loss: 0.0310\n",
      "Epoch 127/500\n",
      "4/4 [==============================] - 0s 3ms/step - loss: 0.0306\n",
      "Epoch 128/500\n",
      "4/4 [==============================] - 0s 3ms/step - loss: 0.0296\n",
      "Epoch 129/500\n",
      "4/4 [==============================] - 0s 3ms/step - loss: 0.0288\n",
      "Epoch 130/500\n",
      "4/4 [==============================] - 0s 3ms/step - loss: 0.0281\n",
      "Epoch 131/500\n",
      "4/4 [==============================] - 0s 2ms/step - loss: 0.0273\n",
      "Epoch 132/500\n",
      "4/4 [==============================] - 0s 3ms/step - loss: 0.0274\n",
      "Epoch 133/500\n",
      "4/4 [==============================] - 0s 3ms/step - loss: 0.0266\n",
      "Epoch 134/500\n",
      "4/4 [==============================] - 0s 3ms/step - loss: 0.0260\n",
      "Epoch 135/500\n",
      "4/4 [==============================] - 0s 3ms/step - loss: 0.0252\n",
      "Epoch 136/500\n",
      "4/4 [==============================] - 0s 3ms/step - loss: 0.0246\n",
      "Epoch 137/500\n",
      "4/4 [==============================] - 0s 3ms/step - loss: 0.0241\n",
      "Epoch 138/500\n",
      "4/4 [==============================] - 0s 3ms/step - loss: 0.0238\n",
      "Epoch 139/500\n",
      "4/4 [==============================] - 0s 3ms/step - loss: 0.0233\n",
      "Epoch 140/500\n",
      "4/4 [==============================] - 0s 3ms/step - loss: 0.0230\n",
      "Epoch 141/500\n",
      "4/4 [==============================] - 0s 4ms/step - loss: 0.0224\n",
      "Epoch 142/500\n",
      "4/4 [==============================] - 0s 3ms/step - loss: 0.0220\n",
      "Epoch 143/500\n",
      "4/4 [==============================] - 0s 3ms/step - loss: 0.0216\n",
      "Epoch 144/500\n",
      "4/4 [==============================] - 0s 4ms/step - loss: 0.0211\n",
      "Epoch 145/500\n",
      "4/4 [==============================] - 0s 3ms/step - loss: 0.0207\n",
      "Epoch 146/500\n",
      "4/4 [==============================] - 0s 4ms/step - loss: 0.0204\n",
      "Epoch 147/500\n",
      "4/4 [==============================] - 0s 3ms/step - loss: 0.0200\n",
      "Epoch 148/500\n",
      "4/4 [==============================] - 0s 2ms/step - loss: 0.0196\n",
      "Epoch 149/500\n",
      "4/4 [==============================] - 0s 3ms/step - loss: 0.0191\n",
      "Epoch 150/500\n",
      "4/4 [==============================] - 0s 3ms/step - loss: 0.0191\n",
      "Epoch 151/500\n",
      "4/4 [==============================] - 0s 3ms/step - loss: 0.0187\n",
      "Epoch 152/500\n",
      "4/4 [==============================] - 0s 2ms/step - loss: 0.0183\n",
      "Epoch 153/500\n",
      "4/4 [==============================] - 0s 3ms/step - loss: 0.0180\n",
      "Epoch 154/500\n",
      "4/4 [==============================] - 0s 3ms/step - loss: 0.0177\n",
      "Epoch 155/500\n",
      "4/4 [==============================] - 0s 2ms/step - loss: 0.0175\n",
      "Epoch 156/500\n",
      "4/4 [==============================] - 0s 3ms/step - loss: 0.0171\n",
      "Epoch 157/500\n",
      "4/4 [==============================] - 0s 2ms/step - loss: 0.0168\n",
      "Epoch 158/500\n",
      "4/4 [==============================] - 0s 3ms/step - loss: 0.0166\n",
      "Epoch 159/500\n",
      "4/4 [==============================] - 0s 2ms/step - loss: 0.0163\n",
      "Epoch 160/500\n",
      "4/4 [==============================] - 0s 2ms/step - loss: 0.0161\n",
      "Epoch 161/500\n",
      "4/4 [==============================] - 0s 3ms/step - loss: 0.0158\n",
      "Epoch 162/500\n",
      "4/4 [==============================] - 0s 2ms/step - loss: 0.0156\n",
      "Epoch 163/500\n",
      "4/4 [==============================] - 0s 2ms/step - loss: 0.0153\n",
      "Epoch 164/500\n",
      "4/4 [==============================] - 0s 3ms/step - loss: 0.0150\n",
      "Epoch 165/500\n",
      "4/4 [==============================] - 0s 2ms/step - loss: 0.0149\n",
      "Epoch 166/500\n",
      "4/4 [==============================] - 0s 3ms/step - loss: 0.0147\n",
      "Epoch 167/500\n",
      "4/4 [==============================] - 0s 3ms/step - loss: 0.0145\n",
      "Epoch 168/500\n",
      "4/4 [==============================] - 0s 2ms/step - loss: 0.0144\n",
      "Epoch 169/500\n",
      "4/4 [==============================] - 0s 2ms/step - loss: 0.0140\n",
      "Epoch 170/500\n",
      "4/4 [==============================] - 0s 2ms/step - loss: 0.0139\n",
      "Epoch 171/500\n",
      "4/4 [==============================] - 0s 2ms/step - loss: 0.0137\n",
      "Epoch 172/500\n",
      "4/4 [==============================] - 0s 2ms/step - loss: 0.0135\n",
      "Epoch 173/500\n",
      "4/4 [==============================] - 0s 2ms/step - loss: 0.0133\n",
      "Epoch 174/500\n",
      "4/4 [==============================] - 0s 2ms/step - loss: 0.0131\n",
      "Epoch 175/500\n",
      "4/4 [==============================] - 0s 2ms/step - loss: 0.0130\n",
      "Epoch 176/500\n",
      "4/4 [==============================] - 0s 3ms/step - loss: 0.0128\n",
      "Epoch 177/500\n",
      "4/4 [==============================] - 0s 2ms/step - loss: 0.0127\n",
      "Epoch 178/500\n",
      "4/4 [==============================] - 0s 3ms/step - loss: 0.0124\n",
      "Epoch 179/500\n",
      "4/4 [==============================] - 0s 3ms/step - loss: 0.0123\n",
      "Epoch 180/500\n",
      "4/4 [==============================] - 0s 2ms/step - loss: 0.0121\n",
      "Epoch 181/500\n",
      "4/4 [==============================] - 0s 2ms/step - loss: 0.0120\n",
      "Epoch 182/500\n",
      "4/4 [==============================] - 0s 3ms/step - loss: 0.0119\n",
      "Epoch 183/500\n",
      "4/4 [==============================] - 0s 3ms/step - loss: 0.0117\n",
      "Epoch 184/500\n",
      "4/4 [==============================] - 0s 2ms/step - loss: 0.0115\n",
      "Epoch 185/500\n",
      "4/4 [==============================] - 0s 3ms/step - loss: 0.0114\n",
      "Epoch 186/500\n",
      "4/4 [==============================] - 0s 3ms/step - loss: 0.0113\n",
      "Epoch 187/500\n",
      "4/4 [==============================] - 0s 3ms/step - loss: 0.0111\n",
      "Epoch 188/500\n",
      "4/4 [==============================] - 0s 2ms/step - loss: 0.0110\n",
      "Epoch 189/500\n",
      "4/4 [==============================] - 0s 2ms/step - loss: 0.0108\n",
      "Epoch 190/500\n",
      "4/4 [==============================] - 0s 3ms/step - loss: 0.0107\n",
      "Epoch 191/500\n",
      "4/4 [==============================] - 0s 2ms/step - loss: 0.0106\n",
      "Epoch 192/500\n",
      "4/4 [==============================] - 0s 2ms/step - loss: 0.0105\n",
      "Epoch 193/500\n",
      "4/4 [==============================] - 0s 3ms/step - loss: 0.0104\n",
      "Epoch 194/500\n",
      "4/4 [==============================] - 0s 3ms/step - loss: 0.0102\n",
      "Epoch 195/500\n",
      "4/4 [==============================] - 0s 2ms/step - loss: 0.0101\n",
      "Epoch 196/500\n",
      "4/4 [==============================] - 0s 3ms/step - loss: 0.0100\n",
      "Epoch 197/500\n",
      "4/4 [==============================] - 0s 2ms/step - loss: 0.0100\n",
      "Epoch 198/500\n",
      "4/4 [==============================] - 0s 3ms/step - loss: 0.0098\n",
      "Epoch 199/500\n",
      "4/4 [==============================] - 0s 2ms/step - loss: 0.0097\n",
      "Epoch 200/500\n",
      "4/4 [==============================] - 0s 2ms/step - loss: 0.0096\n",
      "Epoch 201/500\n",
      "4/4 [==============================] - 0s 3ms/step - loss: 0.0095\n",
      "Epoch 202/500\n",
      "4/4 [==============================] - 0s 3ms/step - loss: 0.0094\n",
      "Epoch 203/500\n",
      "4/4 [==============================] - 0s 3ms/step - loss: 0.0093\n",
      "Epoch 204/500\n",
      "4/4 [==============================] - 0s 2ms/step - loss: 0.0092\n",
      "Epoch 205/500\n",
      "4/4 [==============================] - 0s 3ms/step - loss: 0.0091\n",
      "Epoch 206/500\n"
     ]
    },
    {
     "name": "stdout",
     "output_type": "stream",
     "text": [
      "4/4 [==============================] - 0s 3ms/step - loss: 0.0090\n",
      "Epoch 207/500\n",
      "4/4 [==============================] - 0s 3ms/step - loss: 0.0090\n",
      "Epoch 208/500\n",
      "4/4 [==============================] - 0s 2ms/step - loss: 0.0088\n",
      "Epoch 209/500\n",
      "4/4 [==============================] - 0s 2ms/step - loss: 0.0087\n",
      "Epoch 210/500\n",
      "4/4 [==============================] - 0s 3ms/step - loss: 0.0087\n",
      "Epoch 211/500\n",
      "4/4 [==============================] - 0s 2ms/step - loss: 0.0085\n",
      "Epoch 212/500\n",
      "4/4 [==============================] - 0s 2ms/step - loss: 0.0085\n",
      "Epoch 213/500\n",
      "4/4 [==============================] - 0s 3ms/step - loss: 0.0084\n",
      "Epoch 214/500\n",
      "4/4 [==============================] - 0s 3ms/step - loss: 0.0083\n",
      "Epoch 215/500\n",
      "4/4 [==============================] - 0s 3ms/step - loss: 0.0082\n",
      "Epoch 216/500\n",
      "4/4 [==============================] - 0s 3ms/step - loss: 0.0082\n",
      "Epoch 217/500\n",
      "4/4 [==============================] - 0s 3ms/step - loss: 0.0081\n",
      "Epoch 218/500\n",
      "4/4 [==============================] - 0s 2ms/step - loss: 0.0080\n",
      "Epoch 219/500\n",
      "4/4 [==============================] - 0s 2ms/step - loss: 0.0079\n",
      "Epoch 220/500\n",
      "4/4 [==============================] - 0s 2ms/step - loss: 0.0078\n",
      "Epoch 221/500\n",
      "4/4 [==============================] - 0s 3ms/step - loss: 0.0078\n",
      "Epoch 222/500\n",
      "4/4 [==============================] - 0s 3ms/step - loss: 0.0077\n",
      "Epoch 223/500\n",
      "4/4 [==============================] - 0s 2ms/step - loss: 0.0076\n",
      "Epoch 224/500\n",
      "4/4 [==============================] - 0s 3ms/step - loss: 0.0076\n",
      "Epoch 225/500\n",
      "4/4 [==============================] - 0s 3ms/step - loss: 0.0075\n",
      "Epoch 226/500\n",
      "4/4 [==============================] - 0s 3ms/step - loss: 0.0074\n",
      "Epoch 227/500\n",
      "4/4 [==============================] - 0s 3ms/step - loss: 0.0074\n",
      "Epoch 228/500\n",
      "4/4 [==============================] - 0s 3ms/step - loss: 0.0073\n",
      "Epoch 229/500\n",
      "4/4 [==============================] - 0s 2ms/step - loss: 0.0072\n",
      "Epoch 230/500\n",
      "4/4 [==============================] - 0s 3ms/step - loss: 0.0072\n",
      "Epoch 231/500\n",
      "4/4 [==============================] - 0s 2ms/step - loss: 0.0071\n",
      "Epoch 232/500\n",
      "4/4 [==============================] - 0s 2ms/step - loss: 0.0071\n",
      "Epoch 233/500\n",
      "4/4 [==============================] - 0s 2ms/step - loss: 0.0070\n",
      "Epoch 234/500\n",
      "4/4 [==============================] - 0s 2ms/step - loss: 0.0069\n",
      "Epoch 235/500\n",
      "4/4 [==============================] - 0s 3ms/step - loss: 0.0069\n",
      "Epoch 236/500\n",
      "4/4 [==============================] - 0s 3ms/step - loss: 0.0068\n",
      "Epoch 237/500\n",
      "4/4 [==============================] - 0s 2ms/step - loss: 0.0068\n",
      "Epoch 238/500\n",
      "4/4 [==============================] - 0s 2ms/step - loss: 0.0067\n",
      "Epoch 239/500\n",
      "4/4 [==============================] - 0s 3ms/step - loss: 0.0067\n",
      "Epoch 240/500\n",
      "4/4 [==============================] - 0s 3ms/step - loss: 0.0066\n",
      "Epoch 241/500\n",
      "4/4 [==============================] - 0s 2ms/step - loss: 0.0065\n",
      "Epoch 242/500\n",
      "4/4 [==============================] - 0s 3ms/step - loss: 0.0065\n",
      "Epoch 243/500\n",
      "4/4 [==============================] - 0s 2ms/step - loss: 0.0065\n",
      "Epoch 244/500\n",
      "4/4 [==============================] - 0s 3ms/step - loss: 0.0064\n",
      "Epoch 245/500\n",
      "4/4 [==============================] - 0s 3ms/step - loss: 0.0063\n",
      "Epoch 246/500\n",
      "4/4 [==============================] - 0s 2ms/step - loss: 0.0063\n",
      "Epoch 247/500\n",
      "4/4 [==============================] - 0s 2ms/step - loss: 0.0063\n",
      "Epoch 248/500\n",
      "4/4 [==============================] - 0s 3ms/step - loss: 0.0062\n",
      "Epoch 249/500\n",
      "4/4 [==============================] - 0s 2ms/step - loss: 0.0061\n",
      "Epoch 250/500\n",
      "4/4 [==============================] - 0s 3ms/step - loss: 0.0061\n",
      "Epoch 251/500\n",
      "4/4 [==============================] - 0s 3ms/step - loss: 0.0061\n",
      "Epoch 252/500\n",
      "4/4 [==============================] - 0s 2ms/step - loss: 0.0060\n",
      "Epoch 253/500\n",
      "4/4 [==============================] - 0s 2ms/step - loss: 0.0060\n",
      "Epoch 254/500\n",
      "4/4 [==============================] - 0s 3ms/step - loss: 0.0059\n",
      "Epoch 255/500\n",
      "4/4 [==============================] - 0s 3ms/step - loss: 0.0059\n",
      "Epoch 256/500\n",
      "4/4 [==============================] - 0s 2ms/step - loss: 0.0058\n",
      "Epoch 257/500\n",
      "4/4 [==============================] - 0s 2ms/step - loss: 0.0058\n",
      "Epoch 258/500\n",
      "4/4 [==============================] - 0s 3ms/step - loss: 0.0058\n",
      "Epoch 259/500\n",
      "4/4 [==============================] - 0s 2ms/step - loss: 0.0057\n",
      "Epoch 260/500\n",
      "4/4 [==============================] - 0s 2ms/step - loss: 0.0057\n",
      "Epoch 261/500\n",
      "4/4 [==============================] - 0s 2ms/step - loss: 0.0056\n",
      "Epoch 262/500\n",
      "4/4 [==============================] - 0s 3ms/step - loss: 0.0056\n",
      "Epoch 263/500\n",
      "4/4 [==============================] - 0s 3ms/step - loss: 0.0055\n",
      "Epoch 264/500\n",
      "4/4 [==============================] - 0s 2ms/step - loss: 0.0055\n",
      "Epoch 265/500\n",
      "4/4 [==============================] - 0s 3ms/step - loss: 0.0055\n",
      "Epoch 266/500\n",
      "4/4 [==============================] - 0s 3ms/step - loss: 0.0054\n",
      "Epoch 267/500\n",
      "4/4 [==============================] - 0s 3ms/step - loss: 0.0054\n",
      "Epoch 268/500\n",
      "4/4 [==============================] - 0s 3ms/step - loss: 0.0054\n",
      "Epoch 269/500\n",
      "4/4 [==============================] - 0s 3ms/step - loss: 0.0053\n",
      "Epoch 270/500\n",
      "4/4 [==============================] - 0s 2ms/step - loss: 0.0053\n",
      "Epoch 271/500\n",
      "4/4 [==============================] - 0s 3ms/step - loss: 0.0053\n",
      "Epoch 272/500\n",
      "4/4 [==============================] - 0s 3ms/step - loss: 0.0052\n",
      "Epoch 273/500\n",
      "4/4 [==============================] - 0s 2ms/step - loss: 0.0052\n",
      "Epoch 274/500\n",
      "4/4 [==============================] - 0s 2ms/step - loss: 0.0051\n",
      "Epoch 275/500\n",
      "4/4 [==============================] - 0s 2ms/step - loss: 0.0051\n",
      "Epoch 276/500\n",
      "4/4 [==============================] - 0s 2ms/step - loss: 0.0051\n",
      "Epoch 277/500\n",
      "4/4 [==============================] - 0s 2ms/step - loss: 0.0050\n",
      "Epoch 278/500\n",
      "4/4 [==============================] - 0s 2ms/step - loss: 0.0050\n",
      "Epoch 279/500\n",
      "4/4 [==============================] - 0s 2ms/step - loss: 0.0050\n",
      "Epoch 280/500\n",
      "4/4 [==============================] - 0s 2ms/step - loss: 0.0049\n",
      "Epoch 281/500\n",
      "4/4 [==============================] - 0s 2ms/step - loss: 0.0049\n",
      "Epoch 282/500\n",
      "4/4 [==============================] - 0s 2ms/step - loss: 0.0049\n",
      "Epoch 283/500\n",
      "4/4 [==============================] - 0s 2ms/step - loss: 0.0049\n",
      "Epoch 284/500\n",
      "4/4 [==============================] - 0s 3ms/step - loss: 0.0048\n",
      "Epoch 285/500\n",
      "4/4 [==============================] - 0s 2ms/step - loss: 0.0048\n",
      "Epoch 286/500\n",
      "4/4 [==============================] - 0s 2ms/step - loss: 0.0048\n",
      "Epoch 287/500\n",
      "4/4 [==============================] - 0s 2ms/step - loss: 0.0047\n",
      "Epoch 288/500\n",
      "4/4 [==============================] - 0s 3ms/step - loss: 0.0047\n",
      "Epoch 289/500\n",
      "4/4 [==============================] - 0s 2ms/step - loss: 0.0047\n",
      "Epoch 290/500\n",
      "4/4 [==============================] - 0s 2ms/step - loss: 0.0046\n",
      "Epoch 291/500\n",
      "4/4 [==============================] - 0s 2ms/step - loss: 0.0046\n",
      "Epoch 292/500\n",
      "4/4 [==============================] - 0s 2ms/step - loss: 0.0046\n",
      "Epoch 293/500\n",
      "4/4 [==============================] - 0s 3ms/step - loss: 0.0046\n",
      "Epoch 294/500\n",
      "4/4 [==============================] - 0s 2ms/step - loss: 0.0045\n",
      "Epoch 295/500\n",
      "4/4 [==============================] - 0s 2ms/step - loss: 0.0045\n",
      "Epoch 296/500\n",
      "4/4 [==============================] - 0s 2ms/step - loss: 0.0045\n",
      "Epoch 297/500\n",
      "4/4 [==============================] - 0s 3ms/step - loss: 0.0045\n",
      "Epoch 298/500\n",
      "4/4 [==============================] - 0s 2ms/step - loss: 0.0044\n",
      "Epoch 299/500\n",
      "4/4 [==============================] - 0s 3ms/step - loss: 0.0044\n",
      "Epoch 300/500\n",
      "4/4 [==============================] - 0s 3ms/step - loss: 0.0044\n",
      "Epoch 301/500\n",
      "4/4 [==============================] - 0s 3ms/step - loss: 0.0044\n",
      "Epoch 302/500\n",
      "4/4 [==============================] - 0s 2ms/step - loss: 0.0043\n",
      "Epoch 303/500\n",
      "4/4 [==============================] - 0s 2ms/step - loss: 0.0043\n",
      "Epoch 304/500\n",
      "4/4 [==============================] - 0s 2ms/step - loss: 0.0043\n",
      "Epoch 305/500\n",
      "4/4 [==============================] - 0s 2ms/step - loss: 0.0042\n",
      "Epoch 306/500\n",
      "4/4 [==============================] - 0s 3ms/step - loss: 0.0042\n",
      "Epoch 307/500\n",
      "4/4 [==============================] - 0s 3ms/step - loss: 0.0042\n",
      "Epoch 308/500\n"
     ]
    },
    {
     "name": "stdout",
     "output_type": "stream",
     "text": [
      "4/4 [==============================] - 0s 3ms/step - loss: 0.0042\n",
      "Epoch 309/500\n",
      "4/4 [==============================] - 0s 3ms/step - loss: 0.0041\n",
      "Epoch 310/500\n",
      "4/4 [==============================] - 0s 2ms/step - loss: 0.0041\n",
      "Epoch 311/500\n",
      "4/4 [==============================] - 0s 2ms/step - loss: 0.0041\n",
      "Epoch 312/500\n",
      "4/4 [==============================] - 0s 3ms/step - loss: 0.0041\n",
      "Epoch 313/500\n",
      "4/4 [==============================] - 0s 3ms/step - loss: 0.0041\n",
      "Epoch 314/500\n",
      "4/4 [==============================] - 0s 2ms/step - loss: 0.0040\n",
      "Epoch 315/500\n",
      "4/4 [==============================] - 0s 2ms/step - loss: 0.0040\n",
      "Epoch 316/500\n",
      "4/4 [==============================] - 0s 3ms/step - loss: 0.0040\n",
      "Epoch 317/500\n",
      "4/4 [==============================] - 0s 2ms/step - loss: 0.0040\n",
      "Epoch 318/500\n",
      "4/4 [==============================] - 0s 3ms/step - loss: 0.0039\n",
      "Epoch 319/500\n",
      "4/4 [==============================] - 0s 2ms/step - loss: 0.0039\n",
      "Epoch 320/500\n",
      "4/4 [==============================] - 0s 2ms/step - loss: 0.0039\n",
      "Epoch 321/500\n",
      "4/4 [==============================] - 0s 2ms/step - loss: 0.0039\n",
      "Epoch 322/500\n",
      "4/4 [==============================] - 0s 3ms/step - loss: 0.0039\n",
      "Epoch 323/500\n",
      "4/4 [==============================] - 0s 3ms/step - loss: 0.0038\n",
      "Epoch 324/500\n",
      "4/4 [==============================] - 0s 3ms/step - loss: 0.0038\n",
      "Epoch 325/500\n",
      "4/4 [==============================] - 0s 3ms/step - loss: 0.0038\n",
      "Epoch 326/500\n",
      "4/4 [==============================] - 0s 3ms/step - loss: 0.0038\n",
      "Epoch 327/500\n",
      "4/4 [==============================] - 0s 2ms/step - loss: 0.0038\n",
      "Epoch 328/500\n",
      "4/4 [==============================] - 0s 2ms/step - loss: 0.0037\n",
      "Epoch 329/500\n",
      "4/4 [==============================] - 0s 3ms/step - loss: 0.0037\n",
      "Epoch 330/500\n",
      "4/4 [==============================] - 0s 3ms/step - loss: 0.0037\n",
      "Epoch 331/500\n",
      "4/4 [==============================] - 0s 2ms/step - loss: 0.0037\n",
      "Epoch 332/500\n",
      "4/4 [==============================] - 0s 2ms/step - loss: 0.0037\n",
      "Epoch 333/500\n",
      "4/4 [==============================] - 0s 2ms/step - loss: 0.0036\n",
      "Epoch 334/500\n",
      "4/4 [==============================] - 0s 2ms/step - loss: 0.0036\n",
      "Epoch 335/500\n",
      "4/4 [==============================] - 0s 2ms/step - loss: 0.0036\n",
      "Epoch 336/500\n",
      "4/4 [==============================] - 0s 2ms/step - loss: 0.0036\n",
      "Epoch 337/500\n",
      "4/4 [==============================] - 0s 3ms/step - loss: 0.0036\n",
      "Epoch 338/500\n",
      "4/4 [==============================] - 0s 2ms/step - loss: 0.0036\n",
      "Epoch 339/500\n",
      "4/4 [==============================] - 0s 2ms/step - loss: 0.0035\n",
      "Epoch 340/500\n",
      "4/4 [==============================] - 0s 3ms/step - loss: 0.0035\n",
      "Epoch 341/500\n",
      "4/4 [==============================] - 0s 3ms/step - loss: 0.0035\n",
      "Epoch 342/500\n",
      "4/4 [==============================] - 0s 2ms/step - loss: 0.0035\n",
      "Epoch 343/500\n",
      "4/4 [==============================] - 0s 2ms/step - loss: 0.0035\n",
      "Epoch 344/500\n",
      "4/4 [==============================] - 0s 3ms/step - loss: 0.0035\n",
      "Epoch 345/500\n",
      "4/4 [==============================] - 0s 2ms/step - loss: 0.0034\n",
      "Epoch 346/500\n",
      "4/4 [==============================] - 0s 3ms/step - loss: 0.0034\n",
      "Epoch 347/500\n",
      "4/4 [==============================] - 0s 3ms/step - loss: 0.0034\n",
      "Epoch 348/500\n",
      "4/4 [==============================] - 0s 3ms/step - loss: 0.0034\n",
      "Epoch 349/500\n",
      "4/4 [==============================] - 0s 3ms/step - loss: 0.0034\n",
      "Epoch 350/500\n",
      "4/4 [==============================] - 0s 3ms/step - loss: 0.0034\n",
      "Epoch 351/500\n",
      "4/4 [==============================] - 0s 2ms/step - loss: 0.0033\n",
      "Epoch 352/500\n",
      "4/4 [==============================] - 0s 2ms/step - loss: 0.0033\n",
      "Epoch 353/500\n",
      "4/4 [==============================] - 0s 2ms/step - loss: 0.0033\n",
      "Epoch 354/500\n",
      "4/4 [==============================] - 0s 3ms/step - loss: 0.0033\n",
      "Epoch 355/500\n",
      "4/4 [==============================] - 0s 2ms/step - loss: 0.0033\n",
      "Epoch 356/500\n",
      "4/4 [==============================] - 0s 4ms/step - loss: 0.0033\n",
      "Epoch 357/500\n",
      "4/4 [==============================] - 0s 3ms/step - loss: 0.0032\n",
      "Epoch 358/500\n",
      "4/4 [==============================] - 0s 3ms/step - loss: 0.0032\n",
      "Epoch 359/500\n",
      "4/4 [==============================] - 0s 2ms/step - loss: 0.0032\n",
      "Epoch 360/500\n",
      "4/4 [==============================] - 0s 3ms/step - loss: 0.0032\n",
      "Epoch 361/500\n",
      "4/4 [==============================] - 0s 3ms/step - loss: 0.0032\n",
      "Epoch 362/500\n",
      "4/4 [==============================] - 0s 3ms/step - loss: 0.0032\n",
      "Epoch 363/500\n",
      "4/4 [==============================] - 0s 2ms/step - loss: 0.0032\n",
      "Epoch 364/500\n",
      "4/4 [==============================] - 0s 3ms/step - loss: 0.0031\n",
      "Epoch 365/500\n",
      "4/4 [==============================] - 0s 3ms/step - loss: 0.0031\n",
      "Epoch 366/500\n",
      "4/4 [==============================] - 0s 2ms/step - loss: 0.0031\n",
      "Epoch 367/500\n",
      "4/4 [==============================] - 0s 3ms/step - loss: 0.0031\n",
      "Epoch 368/500\n",
      "4/4 [==============================] - 0s 2ms/step - loss: 0.0031\n",
      "Epoch 369/500\n",
      "4/4 [==============================] - 0s 3ms/step - loss: 0.0031\n",
      "Epoch 370/500\n",
      "4/4 [==============================] - 0s 3ms/step - loss: 0.0031\n",
      "Epoch 371/500\n",
      "4/4 [==============================] - 0s 3ms/step - loss: 0.0030\n",
      "Epoch 372/500\n",
      "4/4 [==============================] - 0s 3ms/step - loss: 0.0030\n",
      "Epoch 373/500\n",
      "4/4 [==============================] - 0s 2ms/step - loss: 0.0030\n",
      "Epoch 374/500\n",
      "4/4 [==============================] - 0s 2ms/step - loss: 0.0030\n",
      "Epoch 375/500\n",
      "4/4 [==============================] - 0s 3ms/step - loss: 0.0030\n",
      "Epoch 376/500\n",
      "4/4 [==============================] - 0s 2ms/step - loss: 0.0030\n",
      "Epoch 377/500\n",
      "4/4 [==============================] - 0s 3ms/step - loss: 0.0030\n",
      "Epoch 378/500\n",
      "4/4 [==============================] - 0s 3ms/step - loss: 0.0029\n",
      "Epoch 379/500\n",
      "4/4 [==============================] - 0s 3ms/step - loss: 0.0029\n",
      "Epoch 380/500\n",
      "4/4 [==============================] - 0s 3ms/step - loss: 0.0029\n",
      "Epoch 381/500\n",
      "4/4 [==============================] - 0s 2ms/step - loss: 0.0029\n",
      "Epoch 382/500\n",
      "4/4 [==============================] - 0s 3ms/step - loss: 0.0029\n",
      "Epoch 383/500\n",
      "4/4 [==============================] - 0s 2ms/step - loss: 0.0029\n",
      "Epoch 384/500\n",
      "4/4 [==============================] - 0s 3ms/step - loss: 0.0029\n",
      "Epoch 385/500\n",
      "4/4 [==============================] - 0s 2ms/step - loss: 0.0029\n",
      "Epoch 386/500\n",
      "4/4 [==============================] - 0s 3ms/step - loss: 0.0029\n",
      "Epoch 387/500\n",
      "4/4 [==============================] - 0s 2ms/step - loss: 0.0028\n",
      "Epoch 388/500\n",
      "4/4 [==============================] - 0s 3ms/step - loss: 0.0028\n",
      "Epoch 389/500\n",
      "4/4 [==============================] - 0s 2ms/step - loss: 0.0028\n",
      "Epoch 390/500\n",
      "4/4 [==============================] - 0s 3ms/step - loss: 0.0028\n",
      "Epoch 391/500\n",
      "4/4 [==============================] - 0s 3ms/step - loss: 0.0028\n",
      "Epoch 392/500\n",
      "4/4 [==============================] - 0s 3ms/step - loss: 0.0028\n",
      "Epoch 393/500\n",
      "4/4 [==============================] - 0s 3ms/step - loss: 0.0028\n",
      "Epoch 394/500\n",
      "4/4 [==============================] - 0s 3ms/step - loss: 0.0028\n",
      "Epoch 395/500\n",
      "4/4 [==============================] - 0s 2ms/step - loss: 0.0027\n",
      "Epoch 396/500\n",
      "4/4 [==============================] - 0s 3ms/step - loss: 0.0027\n",
      "Epoch 397/500\n",
      "4/4 [==============================] - 0s 3ms/step - loss: 0.0027\n",
      "Epoch 398/500\n",
      "4/4 [==============================] - 0s 2ms/step - loss: 0.0027\n",
      "Epoch 399/500\n",
      "4/4 [==============================] - 0s 2ms/step - loss: 0.0027\n",
      "Epoch 400/500\n",
      "4/4 [==============================] - 0s 3ms/step - loss: 0.0027\n",
      "Epoch 401/500\n",
      "4/4 [==============================] - 0s 2ms/step - loss: 0.0027\n",
      "Epoch 402/500\n",
      "4/4 [==============================] - 0s 2ms/step - loss: 0.0027\n",
      "Epoch 403/500\n",
      "4/4 [==============================] - 0s 2ms/step - loss: 0.0027\n",
      "Epoch 404/500\n",
      "4/4 [==============================] - 0s 2ms/step - loss: 0.0027\n",
      "Epoch 405/500\n",
      "4/4 [==============================] - 0s 3ms/step - loss: 0.0026\n",
      "Epoch 406/500\n",
      "4/4 [==============================] - 0s 2ms/step - loss: 0.0026\n",
      "Epoch 407/500\n",
      "4/4 [==============================] - 0s 3ms/step - loss: 0.0026\n",
      "Epoch 408/500\n",
      "4/4 [==============================] - 0s 3ms/step - loss: 0.0026\n",
      "Epoch 409/500\n",
      "4/4 [==============================] - 0s 3ms/step - loss: 0.0026\n",
      "Epoch 410/500\n"
     ]
    },
    {
     "name": "stdout",
     "output_type": "stream",
     "text": [
      "4/4 [==============================] - 0s 2ms/step - loss: 0.0026\n",
      "Epoch 411/500\n",
      "4/4 [==============================] - 0s 2ms/step - loss: 0.0026\n",
      "Epoch 412/500\n",
      "4/4 [==============================] - 0s 2ms/step - loss: 0.0026\n",
      "Epoch 413/500\n",
      "4/4 [==============================] - 0s 2ms/step - loss: 0.0026\n",
      "Epoch 414/500\n",
      "4/4 [==============================] - 0s 3ms/step - loss: 0.0025\n",
      "Epoch 415/500\n",
      "4/4 [==============================] - 0s 2ms/step - loss: 0.0025\n",
      "Epoch 416/500\n",
      "4/4 [==============================] - 0s 2ms/step - loss: 0.0025\n",
      "Epoch 417/500\n",
      "4/4 [==============================] - 0s 3ms/step - loss: 0.0025\n",
      "Epoch 418/500\n",
      "4/4 [==============================] - 0s 2ms/step - loss: 0.0025\n",
      "Epoch 419/500\n",
      "4/4 [==============================] - 0s 2ms/step - loss: 0.0025\n",
      "Epoch 420/500\n",
      "4/4 [==============================] - 0s 2ms/step - loss: 0.0025\n",
      "Epoch 421/500\n",
      "4/4 [==============================] - 0s 2ms/step - loss: 0.0025\n",
      "Epoch 422/500\n",
      "4/4 [==============================] - 0s 2ms/step - loss: 0.0025\n",
      "Epoch 423/500\n",
      "4/4 [==============================] - 0s 2ms/step - loss: 0.0025\n",
      "Epoch 424/500\n",
      "4/4 [==============================] - 0s 3ms/step - loss: 0.0025\n",
      "Epoch 425/500\n",
      "4/4 [==============================] - 0s 3ms/step - loss: 0.0024\n",
      "Epoch 426/500\n",
      "4/4 [==============================] - 0s 3ms/step - loss: 0.0024\n",
      "Epoch 427/500\n",
      "4/4 [==============================] - 0s 2ms/step - loss: 0.0024\n",
      "Epoch 428/500\n",
      "4/4 [==============================] - 0s 2ms/step - loss: 0.0024\n",
      "Epoch 429/500\n",
      "4/4 [==============================] - 0s 3ms/step - loss: 0.0024\n",
      "Epoch 430/500\n",
      "4/4 [==============================] - 0s 2ms/step - loss: 0.0024\n",
      "Epoch 431/500\n",
      "4/4 [==============================] - 0s 3ms/step - loss: 0.0024\n",
      "Epoch 432/500\n",
      "4/4 [==============================] - 0s 2ms/step - loss: 0.0024\n",
      "Epoch 433/500\n",
      "4/4 [==============================] - 0s 3ms/step - loss: 0.0024\n",
      "Epoch 434/500\n",
      "4/4 [==============================] - 0s 2ms/step - loss: 0.0024\n",
      "Epoch 435/500\n",
      "4/4 [==============================] - 0s 3ms/step - loss: 0.0024\n",
      "Epoch 436/500\n",
      "4/4 [==============================] - 0s 2ms/step - loss: 0.0023\n",
      "Epoch 437/500\n",
      "4/4 [==============================] - 0s 2ms/step - loss: 0.0023\n",
      "Epoch 438/500\n",
      "4/4 [==============================] - 0s 2ms/step - loss: 0.0023\n",
      "Epoch 439/500\n",
      "4/4 [==============================] - 0s 2ms/step - loss: 0.0023\n",
      "Epoch 440/500\n",
      "4/4 [==============================] - 0s 3ms/step - loss: 0.0023\n",
      "Epoch 441/500\n",
      "4/4 [==============================] - 0s 3ms/step - loss: 0.0023\n",
      "Epoch 442/500\n",
      "4/4 [==============================] - 0s 2ms/step - loss: 0.0023\n",
      "Epoch 443/500\n",
      "4/4 [==============================] - 0s 2ms/step - loss: 0.0023\n",
      "Epoch 444/500\n",
      "4/4 [==============================] - 0s 3ms/step - loss: 0.0023\n",
      "Epoch 445/500\n",
      "4/4 [==============================] - 0s 3ms/step - loss: 0.0023\n",
      "Epoch 446/500\n",
      "4/4 [==============================] - 0s 2ms/step - loss: 0.0023\n",
      "Epoch 447/500\n",
      "4/4 [==============================] - 0s 2ms/step - loss: 0.0023\n",
      "Epoch 448/500\n",
      "4/4 [==============================] - 0s 2ms/step - loss: 0.0022\n",
      "Epoch 449/500\n",
      "4/4 [==============================] - 0s 2ms/step - loss: 0.0022\n",
      "Epoch 450/500\n",
      "4/4 [==============================] - 0s 2ms/step - loss: 0.0022\n",
      "Epoch 451/500\n",
      "4/4 [==============================] - 0s 2ms/step - loss: 0.0022\n",
      "Epoch 452/500\n",
      "4/4 [==============================] - 0s 2ms/step - loss: 0.0022\n",
      "Epoch 453/500\n",
      "4/4 [==============================] - 0s 2ms/step - loss: 0.0022\n",
      "Epoch 454/500\n",
      "4/4 [==============================] - 0s 3ms/step - loss: 0.0022\n",
      "Epoch 455/500\n",
      "4/4 [==============================] - 0s 2ms/step - loss: 0.0022\n",
      "Epoch 456/500\n",
      "4/4 [==============================] - 0s 2ms/step - loss: 0.0022\n",
      "Epoch 457/500\n",
      "4/4 [==============================] - 0s 3ms/step - loss: 0.0022\n",
      "Epoch 458/500\n",
      "4/4 [==============================] - 0s 3ms/step - loss: 0.0022\n",
      "Epoch 459/500\n",
      "4/4 [==============================] - 0s 3ms/step - loss: 0.0022\n",
      "Epoch 460/500\n",
      "4/4 [==============================] - 0s 3ms/step - loss: 0.0022\n",
      "Epoch 461/500\n",
      "4/4 [==============================] - 0s 3ms/step - loss: 0.0022\n",
      "Epoch 462/500\n",
      "4/4 [==============================] - 0s 3ms/step - loss: 0.0021\n",
      "Epoch 463/500\n",
      "4/4 [==============================] - 0s 2ms/step - loss: 0.0021\n",
      "Epoch 464/500\n",
      "4/4 [==============================] - 0s 3ms/step - loss: 0.0021\n",
      "Epoch 465/500\n",
      "4/4 [==============================] - 0s 2ms/step - loss: 0.0021\n",
      "Epoch 466/500\n",
      "4/4 [==============================] - 0s 2ms/step - loss: 0.0021\n",
      "Epoch 467/500\n",
      "4/4 [==============================] - 0s 2ms/step - loss: 0.0021\n",
      "Epoch 468/500\n",
      "4/4 [==============================] - 0s 2ms/step - loss: 0.0021\n",
      "Epoch 469/500\n",
      "4/4 [==============================] - 0s 2ms/step - loss: 0.0021\n",
      "Epoch 470/500\n",
      "4/4 [==============================] - 0s 3ms/step - loss: 0.0021\n",
      "Epoch 471/500\n",
      "4/4 [==============================] - 0s 2ms/step - loss: 0.0021\n",
      "Epoch 472/500\n",
      "4/4 [==============================] - 0s 2ms/step - loss: 0.0021\n",
      "Epoch 473/500\n",
      "4/4 [==============================] - 0s 3ms/step - loss: 0.0021\n",
      "Epoch 474/500\n",
      "4/4 [==============================] - 0s 2ms/step - loss: 0.0021\n",
      "Epoch 475/500\n",
      "4/4 [==============================] - 0s 3ms/step - loss: 0.0021\n",
      "Epoch 476/500\n",
      "4/4 [==============================] - 0s 2ms/step - loss: 0.0020\n",
      "Epoch 477/500\n",
      "4/4 [==============================] - 0s 3ms/step - loss: 0.0020\n",
      "Epoch 478/500\n",
      "4/4 [==============================] - 0s 3ms/step - loss: 0.0020\n",
      "Epoch 479/500\n",
      "4/4 [==============================] - 0s 2ms/step - loss: 0.0020\n",
      "Epoch 480/500\n",
      "4/4 [==============================] - 0s 2ms/step - loss: 0.0020\n",
      "Epoch 481/500\n",
      "4/4 [==============================] - 0s 3ms/step - loss: 0.0020\n",
      "Epoch 482/500\n",
      "4/4 [==============================] - 0s 2ms/step - loss: 0.0020\n",
      "Epoch 483/500\n",
      "4/4 [==============================] - 0s 2ms/step - loss: 0.0020\n",
      "Epoch 484/500\n",
      "4/4 [==============================] - 0s 3ms/step - loss: 0.0020\n",
      "Epoch 485/500\n",
      "4/4 [==============================] - 0s 3ms/step - loss: 0.0020\n",
      "Epoch 486/500\n",
      "4/4 [==============================] - 0s 2ms/step - loss: 0.0020\n",
      "Epoch 487/500\n",
      "4/4 [==============================] - 0s 3ms/step - loss: 0.0020\n",
      "Epoch 488/500\n",
      "4/4 [==============================] - 0s 3ms/step - loss: 0.0020\n",
      "Epoch 489/500\n",
      "4/4 [==============================] - 0s 2ms/step - loss: 0.0020\n",
      "Epoch 490/500\n",
      "4/4 [==============================] - 0s 3ms/step - loss: 0.0020\n",
      "Epoch 491/500\n",
      "4/4 [==============================] - 0s 3ms/step - loss: 0.0020\n",
      "Epoch 492/500\n",
      "4/4 [==============================] - 0s 3ms/step - loss: 0.0019\n",
      "Epoch 493/500\n",
      "4/4 [==============================] - 0s 3ms/step - loss: 0.0019\n",
      "Epoch 494/500\n",
      "4/4 [==============================] - 0s 4ms/step - loss: 0.0019\n",
      "Epoch 495/500\n",
      "4/4 [==============================] - 0s 2ms/step - loss: 0.0019\n",
      "Epoch 496/500\n",
      "4/4 [==============================] - 0s 3ms/step - loss: 0.0019\n",
      "Epoch 497/500\n",
      "4/4 [==============================] - 0s 3ms/step - loss: 0.0019\n",
      "Epoch 498/500\n",
      "4/4 [==============================] - 0s 2ms/step - loss: 0.0019\n",
      "Epoch 499/500\n",
      "4/4 [==============================] - 0s 2ms/step - loss: 0.0019\n",
      "Epoch 500/500\n",
      "4/4 [==============================] - 0s 2ms/step - loss: 0.0019\n",
      "[[0.]\n",
      " [1.]\n",
      " [1.]\n",
      " [0.]]\n",
      "[array([[ 0.07297563, -2.3450718 ],\n",
      "       [ 2.296149  , -0.1880492 ]], dtype=float32), array([-1.0186547,  1.1426119], dtype=float32)]\n",
      "[array([[-0.8536728 , -1.4663877 , -0.47169775,  1.3153701 , -0.8007872 ,\n",
      "         1.8793982 , -0.37608108, -1.5351071 ],\n",
      "       [ 0.86285627, -1.3709081 ,  0.1016805 ,  1.4165888 ,  0.80922085,\n",
      "        -1.900927  , -0.43543673,  1.5514294 ]], dtype=float32), array([ 0.08970065,  0.07096381, -0.44583645,  0.13289492,  0.08409551,\n",
      "       -0.19993605,  0.0260286 ,  0.1612845 ], dtype=float32)]\n",
      "[array([[-1.1421838 ],\n",
      "       [ 1.9173509 ],\n",
      "       [ 0.6127285 ],\n",
      "       [ 1.9281715 ],\n",
      "       [-1.0926661 ],\n",
      "       [-2.6171014 ],\n",
      "       [ 0.29942578],\n",
      "       [-2.1686642 ]], dtype=float32), array([1.4943984], dtype=float32)]\n"
     ]
    }
   ],
   "source": [
    "from tensorflow.keras.models import Sequential\n",
    "from tensorflow.keras.layers import Dense, Dropout, Activation\n",
    "# from keras.optimizers import SGD\n",
    "from tensorflow.keras.optimizers import SGD\n",
    "from tensorflow.keras.optimizers import Adam\n",
    "import numpy as np\n",
    "X = np.array([[0,0],[0,1],[1,0],[1,1]])\n",
    "y = np.array([[0],[1],[1],[0]])\n",
    "model = Sequential()\n",
    "model.add(Dense(2, input_dim=2, activation='tanh'))\n",
    "model.add(Dense(8, activation = 'relu'))\n",
    "model.add(Dense(1, activation = 'sigmoid'))\n",
    "model.compile(loss='binary_crossentropy', optimizer=SGD(learning_rate=0.1))\n",
    "model.fit(X, y, batch_size=1, epochs=500)\n",
    "#print(model.predict_proba(X))\n",
    "print(model.predict(X).round())\n",
    "\n",
    "for layer in model.layers:\n",
    "    weights = layer.get_weights()\n",
    "    print(weights)\n",
    "\n",
    "model.save_weights(\"model.h5\")"
   ]
  },
  {
   "cell_type": "code",
   "execution_count": null,
   "id": "a9bfc7c8",
   "metadata": {
    "ExecuteTime": {
     "start_time": "2022-06-25T07:54:30.824Z"
    },
    "scrolled": true
   },
   "outputs": [
    {
     "name": "stdout",
     "output_type": "stream",
     "text": [
      "(100, 2) (100, 2)\n",
      "(100,) (100,)\n"
     ]
    }
   ],
   "source": [
    "# MLP with dropout on the two circles dataset\n",
    "from sklearn.datasets import make_circles\n",
    "from tensorflow.keras.models import Sequential\n",
    "from tensorflow.keras.layers import Dense\n",
    "from tensorflow.keras.layers import Dropout\n",
    "from matplotlib import pyplot\n",
    "# generate 2D classification dataset\n",
    "X, y = make_circles(n_samples=200, noise=0.1, random_state=1)\n",
    "# split into train and test\n",
    "n_train = 100\n",
    "trainX, testX = X[:n_train, :], X[n_train:, :]\n",
    "trainy, testy = y[:n_train], y[n_train:]\n",
    "print(trainX.shape,testX.shape)\n",
    "print(trainy.shape,testy.shape)\n",
    "# define model\n",
    "model = Sequential()\n",
    "model.add(Dense(500, input_dim=2, activation='relu'))\n",
    "model.add(Dropout(0.5))\n",
    "model.add(Dense(1, activation='sigmoid'))\n",
    "model.compile(loss='binary_crossentropy',optimizer='adam',metrics=['accuracy'])\n",
    "# fit model\n",
    "history = model.fit(trainX,trainy,validation_data=(testX,testy),epochs=8000,verbose=0)\n",
    "# evaluate the model\n",
    "_, train_acc = model.evaluate(trainX,trainy,verbose=0)\n",
    "_, test_acc = model.evaluate(testX,testy,verbose=0)\n",
    "print('Train: %.3f, Test: %.3f' % (train_acc,test_acc))\n",
    "# plot history\n",
    "pyplot.plot(history.history['accuracy'], label='train')\n",
    "pyplot.plot(history.history['val_accuracy'], label='test')\n",
    "pyplot.legend()\n",
    "pyplot.show()"
   ]
  },
  {
   "cell_type": "markdown",
   "id": "771ac36b",
   "metadata": {},
   "source": [
    "max_norm(m) will, if the L2-Norm of your weights exceeds m, scale your whole weight matrix by a factor that reduces the norm to m."
   ]
  },
  {
   "cell_type": "code",
   "execution_count": null,
   "id": "26ddf348",
   "metadata": {
    "ExecuteTime": {
     "start_time": "2022-06-25T07:54:30.829Z"
    },
    "scrolled": true
   },
   "outputs": [],
   "source": [
    "# example of dropout on the sonar dataset: hidden layer\n",
    "from pandas import read_csv\n",
    "from tensorflow.keras.models import Sequential\n",
    "from tensorflow.keras.layers import Dense\n",
    "from tensorflow.keras.layers import Dropout\n",
    "from tensorflow.keras.wrappers.scikit_learn import KerasClassifier\n",
    "from tensorflow.keras.constraints import max_norm\n",
    "# from keras.optimizers import SGD\n",
    "from tensorflow.keras.optimizers import SGD\n",
    "from sklearn.model_selection import cross_val_score\n",
    "from sklearn.preprocessing import LabelEncoder\n",
    "from sklearn.model_selection import StratifiedKFold\n",
    "from sklearn.preprocessing import StandardScaler\n",
    "from sklearn.pipeline import Pipeline\n",
    "# load dataset\n",
    "dataframe = read_csv(\"C:/Users/ihlee/testAI/scikitlearn_keras_examples/sonar.csv\", header=None)\n",
    "dataset = dataframe.values\n",
    "# split into input (X) and output (Y) variables\n",
    "X = dataset[:,0:60].astype(float)\n",
    "Y = dataset[:,60]\n",
    "# encode class values as integers\n",
    "encoder = LabelEncoder()\n",
    "encoder.fit(Y)\n",
    "encoded_Y = encoder.transform(Y)\n",
    "# dropout in hidden layers with weight constraint\n",
    "def create_model():\n",
    "    # create model\n",
    "    model = Sequential()\n",
    "    model.add(Dense(60,input_dim=60, activation='relu',kernel_constraint=max_norm(3)))\n",
    "    model.add(Dropout(0.2))\n",
    "    model.add(Dense(30,activation='relu',kernel_constraint=max_norm(3)))\n",
    "    model.add(Dropout(0.2))\n",
    "    model.add(Dense(1,activation='sigmoid'))\n",
    "    # compile model\n",
    "    sgd = SGD(learning_rate=0.1,momentum=0.9)\n",
    "    model.compile(loss='binary_crossentropy',optimizer=sgd,metrics=['accuracy'])\n",
    "    return model\n",
    "estimators = []\n",
    "estimators.append(('standardize', StandardScaler()))\n",
    "estimators.append(('mlp',KerasClassifier(build_fn=create_model,epochs=300,batch_size=16,verbose=0)))\n",
    "pipeline = Pipeline(estimators)\n",
    "kfold = StratifiedKFold(n_splits=10, shuffle=True)\n",
    "results = cross_val_score(pipeline, X, encoded_Y, cv=kfold)\n",
    "print(\"Hidden: %.2f%% (%.2f%%)\" % (results.mean()*100, results.std()*100))"
   ]
  },
  {
   "cell_type": "markdown",
   "id": "8211c481",
   "metadata": {},
   "source": [
    "https://machinelearningmastery.com/stacking-ensemble-for-deep-learning-neural-networks/"
   ]
  },
  {
   "cell_type": "code",
   "execution_count": null,
   "id": "9fecfd6d",
   "metadata": {
    "ExecuteTime": {
     "start_time": "2022-06-25T07:54:30.835Z"
    }
   },
   "outputs": [],
   "source": [
    "# example of saving sub-models for later use in a stacking ensemble\n",
    "from sklearn.datasets import make_blobs\n",
    "from tensorflow.keras.models import Sequential\n",
    "from tensorflow.keras.layers import Dense\n",
    "from matplotlib import pyplot\n",
    "from os import makedirs\n",
    "# stacked generalization with neural net meta model on blobs dataset\n",
    "from sklearn.metrics import accuracy_score\n",
    "from tensorflow.keras.models import load_model\n",
    "from tensorflow.keras.utils import to_categorical\n",
    "from tensorflow.keras.utils import plot_model\n",
    "from tensorflow.keras.models import Model\n",
    "from tensorflow.keras.layers import Input\n",
    "from tensorflow.keras.layers import Dense\n",
    "from tensorflow.keras.layers import concatenate\n",
    "from numpy import argmax\n",
    "# load models from file\n",
    "def load_all_models(n_models):\n",
    "    all_models = list()\n",
    "    for i in range(n_models):\n",
    "        # define filename for this ensemble\n",
    "        filename = 'models/model_' + str(i + 1) + '.h5'\n",
    "        # load model from file\n",
    "        model = load_model(filename)\n",
    "        # add to list of members\n",
    "        all_models.append(model)\n",
    "        print('>loaded %s' % filename)\n",
    "    return all_models\n",
    "# define stacked model from multiple member input models\n",
    "def define_stacked_model(members):\n",
    "    # update all layers in all models to not be trainable\n",
    "    for i in range(len(members)):\n",
    "        model = members[i]\n",
    "        for layer in model.layers:\n",
    "            # make not trainable\n",
    "            layer.trainable = False\n",
    "            # rename to avoid 'unique layer name' issue\n",
    "            layer._name = 'ensemble_' + str(i+1) + '_' + layer.name\n",
    "    # define multi-headed input\n",
    "    ensemble_visible = [model.input for model in members]\n",
    "    # concatenate merge output from each model\n",
    "    ensemble_outputs = [model.output for model in members]\n",
    "    merge = concatenate(ensemble_outputs)\n",
    "    hidden = Dense(10, activation='relu')(merge)\n",
    "    output = Dense(3, activation='softmax')(hidden)\n",
    "    model = Model(inputs=ensemble_visible, outputs=output)\n",
    "    # plot graph of ensemble\n",
    "    #plot_model(model,show_shapes=True,to_file='model_graph.png')\n",
    "    # compile\n",
    "    model.compile(loss='categorical_crossentropy',optimizer='adam',metrics=['accuracy'])\n",
    "    return model\n",
    "# fit a stacked model\n",
    "def fit_stacked_model(model, inputX, inputy):\n",
    "    # prepare input data\n",
    "    X = [inputX for _ in range(len(model.input))]\n",
    "    # encode output data\n",
    "    inputy_enc = to_categorical(inputy)\n",
    "    # fit model\n",
    "    model.fit(X, inputy_enc, epochs=300, verbose=0)\n",
    "# make a prediction with a stacked model\n",
    "def predict_stacked_model(model, inputX):\n",
    "    # prepare input data\n",
    "    X = [inputX for _ in range(len(model.input))]\n",
    "    # make prediction\n",
    "    return model.predict(X, verbose=0)\n",
    "# fit model on dataset\n",
    "def fit_model(trainX, trainy):\n",
    "    # define model\n",
    "    model = Sequential()\n",
    "    model.add(Dense(25, input_dim=2, activation='relu'))\n",
    "    model.add(Dense(3, activation='softmax'))\n",
    "    model.compile(loss='categorical_crossentropy',optimizer='adam',metrics=['accuracy'])\n",
    "    # fit model\n",
    "    model.fit(trainX, trainy, epochs=500, verbose=0)\n",
    "    return model\n",
    "\n",
    "# generate 2D classification dataset\n",
    "X, y = make_blobs(n_samples=1100,centers=3,n_features=2,cluster_std=2,random_state=2)\n",
    "# one hot encode output variable\n",
    "y = to_categorical(y)\n",
    "# split into train and test\n",
    "n_train = 100\n",
    "trainX, testX = X[:n_train, :], X[n_train:, :]\n",
    "trainy, testy = y[:n_train], y[n_train:]\n",
    "print(trainX.shape, testX.shape)\n",
    "import os\n",
    "import shutil\n",
    "# create directory for models\n",
    "if os.path.isdir('C:/Users/ihlee/testAI/20210107/models'):\n",
    "    shutil.rmtree('C:/Users/ihlee/testAI/20210107/models')\n",
    "    print('directory is present')\n",
    "makedirs('models')\n",
    "# fit and save models\n",
    "n_members = 5\n",
    "for i in range(n_members):\n",
    "    # fit model\n",
    "    model = fit_model(trainX, trainy)\n",
    "    # save model\n",
    "    filename = 'models/model_' + str(i + 1) + '.h5'\n",
    "    model.save(filename)\n",
    "    print('>Saved %s' % filename)\n",
    "\n",
    "# generate 2D classification dataset\n",
    "X, y = make_blobs(n_samples=1100,centers=3,n_features=2,cluster_std=2,random_state=2)\n",
    "# split into train and test\n",
    "n_train = 100\n",
    "trainX, testX = X[:n_train, :], X[n_train:, :]\n",
    "trainy, testy = y[:n_train], y[n_train:]\n",
    "print(trainX.shape, testX.shape)\n",
    "# load all models\n",
    "n_members = 5\n",
    "members = load_all_models(n_members)\n",
    "print('Loaded %d models' % len(members))\n",
    "# define ensemble model\n",
    "stacked_model = define_stacked_model(members)\n",
    "# fit stacked model on test dataset\n",
    "fit_stacked_model(stacked_model, testX, testy)\n",
    "# make predictions and evaluate\n",
    "yhat = predict_stacked_model(stacked_model, testX)\n",
    "yhat = argmax(yhat, axis=1)\n",
    "acc = accuracy_score(testy, yhat)\n",
    "print('Stacked Test Accuracy: %.3f' % acc)"
   ]
  },
  {
   "cell_type": "code",
   "execution_count": null,
   "id": "ba4ed871",
   "metadata": {
    "ExecuteTime": {
     "start_time": "2022-06-25T07:54:30.839Z"
    }
   },
   "outputs": [],
   "source": [
    "# generate two moons dataset\n",
    "from sklearn.datasets import make_moons\n",
    "from matplotlib import pyplot\n",
    "from pandas import DataFrame\n",
    "# generate 2D classification dataset\n",
    "X, y = make_moons(n_samples=100, noise=0.2, random_state=1)\n",
    "# scatter plot, dots colored by class value\n",
    "df = DataFrame(dict(x=X[:,0], y=X[:,1], label=y))\n",
    "colors = {0:'red', 1:'blue'}\n",
    "fig, ax = pyplot.subplots()\n",
    "grouped = df.groupby('label')\n",
    "for key, group in grouped:\n",
    "    group.plot(ax=ax, kind='scatter', x='x', y='y', label=key, color=colors[key])\n",
    "pyplot.show()"
   ]
  },
  {
   "cell_type": "code",
   "execution_count": null,
   "id": "15fbf16d",
   "metadata": {
    "ExecuteTime": {
     "start_time": "2022-06-25T07:54:30.843Z"
    }
   },
   "outputs": [],
   "source": [
    "# overfit mlp for the moons dataset plotting history\n",
    "from sklearn.datasets import make_moons\n",
    "from tensorflow.keras.layers import Dense\n",
    "from tensorflow.keras.models import Sequential\n",
    "from matplotlib import pyplot\n",
    "# generate 2D classification dataset\n",
    "X, y = make_moons(n_samples=100, noise=0.2, random_state=1)\n",
    "n_train = 30\n",
    "trainX, testX = X[:n_train, :], X[n_train:, :]\n",
    "trainy, testy = y[:n_train], y[n_train:]\n",
    "model = Sequential()\n",
    "model.add(Dense(500, input_dim=2, activation='relu'))\n",
    "model.add(Dense(1, activation='sigmoid'))\n",
    "model.compile(loss='binary_crossentropy', optimizer='adam', metrics=['accuracy'])\n",
    "history = model.fit(trainX,trainy, validation_data=(testX,testy),epochs=4000,verbose=0)\n",
    "# summarize history for accuracy\n",
    "pyplot.plot(history.history['accuracy'], label='train')\n",
    "pyplot.plot(history.history['val_accuracy'], label='test')\n",
    "pyplot.legend()\n",
    "pyplot.show()"
   ]
  },
  {
   "cell_type": "code",
   "execution_count": null,
   "id": "120ac2e9",
   "metadata": {
    "ExecuteTime": {
     "start_time": "2022-06-25T07:54:30.847Z"
    }
   },
   "outputs": [],
   "source": [
    "# mlp with weight regularization for the moons dataset plotting history\n",
    "from sklearn.datasets import make_moons\n",
    "from tensorflow.keras.layers import Dense\n",
    "from tensorflow.keras.models import Sequential\n",
    "from tensorflow.keras.regularizers import l2\n",
    "from matplotlib import pyplot\n",
    "# generate 2D classification dataset\n",
    "X, y = make_moons(n_samples=100, noise=0.2, random_state=1)\n",
    "n_train = 30\n",
    "trainX, testX = X[:n_train, :], X[n_train:, :]\n",
    "trainy, testy = y[:n_train], y[n_train:]\n",
    "model = Sequential()\n",
    "model.add(Dense(500, input_dim=2, activation='relu', kernel_regularizer=l2(0.001)))\n",
    "model.add(Dense(1, activation='sigmoid'))\n",
    "model.compile(loss='binary_crossentropy', optimizer='adam', metrics=['accuracy'])\n",
    "history = model.fit(trainX,trainy, validation_data=(testX,testy), epochs=4000, verbose=0)\n",
    "# summarize history for accuracy\n",
    "pyplot.plot(history.history['accuracy'], label='train')\n",
    "pyplot.plot(history.history['val_accuracy'], label='test')\n",
    "pyplot.legend()\n",
    "pyplot.show()"
   ]
  },
  {
   "cell_type": "code",
   "execution_count": null,
   "id": "5fb8d242",
   "metadata": {
    "ExecuteTime": {
     "start_time": "2022-06-25T07:54:30.853Z"
    }
   },
   "outputs": [],
   "source": [
    "# grid search regularization values for moons dataset\n",
    "from sklearn.datasets import make_moons\n",
    "from tensorflow.keras.layers import Dense\n",
    "from tensorflow.keras.models import Sequential\n",
    "from tensorflow.keras.regularizers import l2\n",
    "from matplotlib import pyplot\n",
    "# generate 2D classification dataset\n",
    "X, y = make_moons(n_samples=100, noise=0.2, random_state=1)\n",
    "n_train = 30\n",
    "trainX, testX = X[:n_train, :], X[n_train:, :]\n",
    "trainy, testy = y[:n_train], y[n_train:]\n",
    "# grid search values\n",
    "values = [1e-1, 1e-2, 1e-3, 1e-4, 1e-5, 1e-6]\n",
    "all_train, all_test = list(), list()\n",
    "for param in values:\n",
    "    model = Sequential()\n",
    "    model.add(Dense(500, input_dim=2, activation='relu', kernel_regularizer=l2(param)))\n",
    "    model.add(Dense(1, activation='sigmoid'))\n",
    "    model.compile(loss='binary_crossentropy', optimizer='adam', metrics=['accuracy'])\n",
    "    model.fit(trainX, trainy, epochs=4000, verbose=0)\n",
    "    _, train_acc = model.evaluate(trainX, trainy, verbose=0)\n",
    "    _, test_acc = model.evaluate(testX, testy, verbose=0)\n",
    "    print('Param: %f, Train: %.3f, Test: %.3f' % (param, train_acc, test_acc))\n",
    "    all_train.append(train_acc)\n",
    "    all_test.append(test_acc)\n",
    "# plot train and test means\n",
    "pyplot.semilogx(values, all_train, label='train', marker='o')\n",
    "pyplot.semilogx(values, all_test, label='test', marker='o')\n",
    "pyplot.legend()\n",
    "pyplot.show()"
   ]
  },
  {
   "cell_type": "code",
   "execution_count": null,
   "id": "c86cac71",
   "metadata": {
    "ExecuteTime": {
     "start_time": "2022-06-25T07:54:30.859Z"
    }
   },
   "outputs": [],
   "source": [
    "# 3D plot of the test function\n",
    "from numpy import arange\n",
    "from numpy import meshgrid\n",
    "from matplotlib import pyplot\n",
    "# objective function\n",
    "def objective(x, y):\n",
    "    return x**2.0 + y**2.0\n",
    "# define range for input\n",
    "r_min, r_max = -1.0, 1.0\n",
    "# sample input range uniformly at 0.1 increments\n",
    "xaxis = arange(r_min, r_max, 0.1)\n",
    "yaxis = arange(r_min, r_max, 0.1)\n",
    "# create a mesh from the axis\n",
    "x, y = meshgrid(xaxis, yaxis)\n",
    "# compute targets\n",
    "results = objective(x, y)\n",
    "# create a surface plot with the jet color scheme\n",
    "figure = pyplot.figure()\n",
    "axis = figure.gca(projection='3d')\n",
    "axis.plot_surface(x, y, results, cmap='jet')\n",
    "# show the plot\n",
    "pyplot.show()"
   ]
  },
  {
   "cell_type": "markdown",
   "id": "c828003f",
   "metadata": {},
   "source": [
    "https://arxiv.org/pdf/1412.6980.pdf"
   ]
  },
  {
   "cell_type": "code",
   "execution_count": null,
   "id": "e4e5672b",
   "metadata": {
    "ExecuteTime": {
     "start_time": "2022-06-25T07:54:30.866Z"
    },
    "scrolled": true
   },
   "outputs": [],
   "source": [
    "# gradient descent optimization with adam for a two-dimensional test function\n",
    "from math import sqrt\n",
    "from numpy import asarray\n",
    "from numpy.random import rand\n",
    "from numpy.random import seed\n",
    "# objective function\n",
    "def objective(x, y):\n",
    "    return x**2.0 + y**2.0\n",
    "# derivative of objective function\n",
    "def derivative(x, y):\n",
    "    return asarray([x * 2.0, y * 2.0])\n",
    "# gradient descent algorithm with adam\n",
    "def adam(objective, derivative, bounds, n_iter, alpha, beta1, beta2, eps=1e-8):\n",
    "    # generate an initial point\n",
    "    x = bounds[:, 0] + rand(len(bounds)) * (bounds[:, 1] - bounds[:, 0])\n",
    "    score = objective(x[0], x[1])\n",
    "    # initialize first and second moments\n",
    "    m = [0.0 for _ in range(bounds.shape[0])]\n",
    "    v = [0.0 for _ in range(bounds.shape[0])]\n",
    "    # run the gradient descent updates\n",
    "    for t in range(n_iter):\n",
    "        # calculate gradient g(t)\n",
    "        g = derivative(x[0], x[1])\n",
    "        # build a solution one variable at a time\n",
    "        for i in range(x.shape[0]):\n",
    "            # m(t) = beta1 * m(t-1) + (1 - beta1) * g(t)\n",
    "            m[i] = beta1 * m[i] + (1.0 - beta1) * g[i]\n",
    "            # v(t) = beta2 * v(t-1) + (1 - beta2) * g(t)^2\n",
    "            v[i] = beta2 * v[i] + (1.0 - beta2) * g[i]**2\n",
    "            # mhat(t) = m(t) / (1 - beta1(t))\n",
    "            mhat = m[i] / (1.0 - beta1**(t+1))\n",
    "            # vhat(t) = v(t) / (1 - beta2(t))\n",
    "            vhat = v[i] / (1.0 - beta2**(t+1))\n",
    "            # x(t) = x(t-1) - alpha * mhat(t) / (sqrt(vhat(t)) + eps)\n",
    "            x[i] = x[i] - alpha * mhat / (sqrt(vhat) + eps)\n",
    "        # evaluate candidate point\n",
    "        score = objective(x[0], x[1])\n",
    "        # report progress\n",
    "        print('>%d f(%s) = %.5f' % (t, x, score))\n",
    "    return [x, score]\n",
    "\n",
    "# seed the pseudo random number generator\n",
    "seed(1)\n",
    "# define range for input\n",
    "bounds = asarray([[-1.0, 1.0], [-1.0, 1.0]])\n",
    "# define the total iterations\n",
    "n_iter = 60\n",
    "# steps size\n",
    "alpha = 0.02\n",
    "# factor for average gradient\n",
    "beta1 = 0.8\n",
    "# factor for average squared gradient\n",
    "beta2 = 0.999\n",
    "# perform the gradient descent search with adam\n",
    "best, score = adam(objective, derivative, bounds, n_iter, alpha, beta1, beta2)\n",
    "print('Done!')\n",
    "print('f(%s) = %f' % (best, score))"
   ]
  },
  {
   "cell_type": "markdown",
   "id": "f6382d4b",
   "metadata": {},
   "source": [
    "https://machinelearningmastery.com/simple-genetic-algorithm-from-scratch-in-python/"
   ]
  },
  {
   "cell_type": "markdown",
   "id": "54bd154a",
   "metadata": {},
   "source": [
    "https://scikit-learn.org/stable/auto_examples/applications/plot_digits_denoising.html"
   ]
  },
  {
   "cell_type": "code",
   "execution_count": null,
   "id": "8cb938a6",
   "metadata": {
    "ExecuteTime": {
     "start_time": "2022-06-25T07:54:30.871Z"
    }
   },
   "outputs": [],
   "source": [
    "import numpy as np\n",
    "from sklearn.datasets import fetch_openml\n",
    "from sklearn.preprocessing import MinMaxScaler\n",
    "from sklearn.model_selection import train_test_split\n",
    "X, y = fetch_openml(data_id=41082, as_frame=False, return_X_y=True)\n",
    "X = MinMaxScaler().fit_transform(X)"
   ]
  },
  {
   "cell_type": "code",
   "execution_count": null,
   "id": "a464dcd2",
   "metadata": {
    "ExecuteTime": {
     "start_time": "2022-06-25T07:54:30.875Z"
    }
   },
   "outputs": [],
   "source": [
    "X_train,X_test,y_train,y_test=train_test_split(X,y,stratify=y,random_state=0,train_size=1000,test_size=100)\n",
    "rng = np.random.RandomState(0)\n",
    "noise = rng.normal(scale=0.25, size=X_test.shape)\n",
    "X_test_noisy = X_test + noise\n",
    "noise = rng.normal(scale=0.25, size=X_train.shape)\n",
    "X_train_noisy = X_train + noise"
   ]
  },
  {
   "cell_type": "code",
   "execution_count": null,
   "id": "1c4856bc",
   "metadata": {
    "ExecuteTime": {
     "start_time": "2022-06-25T07:54:30.879Z"
    }
   },
   "outputs": [],
   "source": [
    "import matplotlib.pyplot as plt\n",
    "def plot_digits(X, title):\n",
    "    \"\"\"Small helper function to plot 100 digits.\"\"\"\n",
    "    fig, axs = plt.subplots(nrows=10, ncols=10, figsize=(8, 8))\n",
    "    for img, ax in zip(X, axs.ravel()):\n",
    "        ax.imshow(img.reshape((16, 16)), cmap=\"Greys\")\n",
    "        ax.axis(\"off\")\n",
    "    fig.suptitle(title, fontsize=24)"
   ]
  },
  {
   "cell_type": "code",
   "execution_count": null,
   "id": "ecbe7dd1",
   "metadata": {
    "ExecuteTime": {
     "start_time": "2022-06-25T07:54:30.883Z"
    }
   },
   "outputs": [],
   "source": [
    "plot_digits(X_test, \"Uncorrupted test images\")\n",
    "plot_digits(X_test_noisy, f\"Noisy test images\\nMSE: {np.mean((X_test - X_test_noisy) ** 2):.2f}\")"
   ]
  },
  {
   "cell_type": "code",
   "execution_count": null,
   "id": "bff2489f",
   "metadata": {
    "ExecuteTime": {
     "start_time": "2022-06-25T07:54:30.887Z"
    }
   },
   "outputs": [],
   "source": [
    "from sklearn.decomposition import PCA, KernelPCA\n",
    "pca = PCA(n_components=32)\n",
    "kernel_pca = KernelPCA(n_components=400,kernel=\"rbf\",gamma=1e-3,fit_inverse_transform=True,alpha=5e-3)\n",
    "pca.fit(X_train_noisy)\n",
    "_ = kernel_pca.fit(X_train_noisy)"
   ]
  },
  {
   "cell_type": "code",
   "execution_count": null,
   "id": "1dcd9c81",
   "metadata": {
    "ExecuteTime": {
     "start_time": "2022-06-25T07:54:30.891Z"
    }
   },
   "outputs": [],
   "source": [
    "X_reconstructed_kernel_pca=kernel_pca.inverse_transform(kernel_pca.transform(X_test_noisy))\n",
    "X_reconstructed_pca=pca.inverse_transform(pca.transform(X_test_noisy))"
   ]
  },
  {
   "cell_type": "code",
   "execution_count": null,
   "id": "78175db3",
   "metadata": {
    "ExecuteTime": {
     "start_time": "2022-06-25T07:54:30.895Z"
    }
   },
   "outputs": [],
   "source": [
    "plot_digits(X_test, \"Uncorrupted test images\")\n",
    "plot_digits(X_reconstructed_pca,\n",
    "    f\"PCA reconstruction\\nMSE: {np.mean((X_test - X_reconstructed_pca) ** 2):.2f}\",)\n",
    "plot_digits(X_reconstructed_kernel_pca,\n",
    "    \"Kernel PCA reconstruction\\n\"\n",
    "    f\"MSE: {np.mean((X_test - X_reconstructed_kernel_pca) ** 2):.2f}\",)"
   ]
  },
  {
   "cell_type": "code",
   "execution_count": null,
   "id": "9e56e993",
   "metadata": {
    "ExecuteTime": {
     "start_time": "2022-06-25T07:54:30.899Z"
    }
   },
   "outputs": [],
   "source": [
    "# cross-entropy for predicted probability distribution vs label\n",
    "from math import log\n",
    "from matplotlib import pyplot\n",
    "# calculate cross-entropy\n",
    "def cross_entropy(p, q, ets=1e-15):\n",
    "    return -sum([p[i]*log(q[i]+ets) for i in range(len(p))])\n",
    "\n",
    "# define the target distribution for two events\n",
    "target = [0.0, 1.0]\n",
    "# define probabilities for the first event\n",
    "probs = [1.0, 0.9, 0.8, 0.7, 0.6, 0.5, 0.4, 0.3, 0.2, 0.1, 0.0]\n",
    "# create probability distributions for the two events\n",
    "dists = [[1.0 - p, p] for p in probs]\n",
    "# calculate cross-entropy for each distribution\n",
    "ents = [cross_entropy(target, d) for d in dists]\n",
    "# plot probability distribution vs cross-entropy\n",
    "pyplot.plot([1-p for p in probs], ents, marker='.')\n",
    "pyplot.title('Probability Distribution vs Cross-Entropy')\n",
    "pyplot.xticks([1-p for p in probs], ['[%.1f,%.1f]'%(d[0],d[1]) for d in dists], rotation=70)\n",
    "pyplot.subplots_adjust(bottom=0.2)\n",
    "pyplot.xlabel('Probability Distribution')\n",
    "pyplot.ylabel('Cross-Entropy (nats)')\n",
    "pyplot.show()"
   ]
  },
  {
   "cell_type": "code",
   "execution_count": null,
   "id": "16b0a334",
   "metadata": {
    "ExecuteTime": {
     "start_time": "2022-06-25T07:54:30.904Z"
    }
   },
   "outputs": [],
   "source": [
    "# example of calculating the js divergence between two mass functions\n",
    "from math import log2\n",
    "from math import sqrt\n",
    "from numpy import asarray\n",
    "# calculate the KL divergence\n",
    "def kl_divergence(p, q):\n",
    "    return sum(p[i] * log2(p[i]/q[i]) for i in range(len(p)))\n",
    "\n",
    "# calculate the JS divergence\n",
    "def js_divergence(p, q):\n",
    "    m = 0.5 * (p + q)\n",
    "    return 0.5 * kl_divergence(p, m) + 0.5 * kl_divergence(q, m)\n",
    "\n",
    "# define distributions\n",
    "p = asarray([0.10, 0.40, 0.50])\n",
    "q = asarray([0.80, 0.15, 0.05])\n",
    "# calculate JS(P || Q)\n",
    "js_pq = js_divergence(p, q)\n",
    "print('JS(P || Q) divergence: %.3f bits' % js_pq)\n",
    "print('JS(P || Q) distance: %.3f' % sqrt(js_pq))\n",
    "# calculate JS(Q || P)\n",
    "js_qp = js_divergence(q, p)\n",
    "print('JS(Q || P) divergence: %.3f bits' % js_qp)\n",
    "print('JS(Q || P) distance: %.3f' % sqrt(js_qp))"
   ]
  },
  {
   "cell_type": "code",
   "execution_count": null,
   "id": "eec434ce",
   "metadata": {
    "ExecuteTime": {
     "start_time": "2022-06-25T07:54:30.908Z"
    }
   },
   "outputs": [],
   "source": [
    "# explore xgboost random forest number of trees effect on performance\n",
    "from numpy import mean\n",
    "from numpy import std\n",
    "from sklearn.datasets import make_classification\n",
    "from sklearn.model_selection import cross_val_score\n",
    "from sklearn.model_selection import RepeatedStratifiedKFold\n",
    "from xgboost import XGBRFClassifier\n",
    "from matplotlib import pyplot\n",
    "\n",
    "# get the dataset\n",
    "def get_dataset():\n",
    "    X, y = make_classification(n_samples=1000,n_features=20,n_informative=15,n_redundant=5,random_state=7)\n",
    "    return X, y\n",
    "\n",
    "# get a list of models to evaluate\n",
    "def get_models():\n",
    "    models = dict()\n",
    "    # define the number of trees to consider\n",
    "    n_trees = [10, 50, 100, 500, 1000, 5000]\n",
    "    for v in n_trees:\n",
    "        models[str(v)] = XGBRFClassifier(n_estimators=v, subsample=0.9, colsample_bynode=0.2)\n",
    "    return models\n",
    "\n",
    "# evaluate a give model using cross-validation\n",
    "def evaluate_model(model, X, y):\n",
    "    # define the model evaluation procedure\n",
    "    cv = RepeatedStratifiedKFold(n_splits=10, n_repeats=3, random_state=1)\n",
    "    # evaluate the model\n",
    "    scores = cross_val_score(model, X, y, scoring='accuracy', cv=cv, n_jobs=-1)\n",
    "    return scores\n",
    "\n",
    "# define dataset\n",
    "X, y = get_dataset()\n",
    "# get the models to evaluate\n",
    "models = get_models()\n",
    "# evaluate the models and store results\n",
    "results, names = list(), list()\n",
    "for name, model in models.items():\n",
    "    # evaluate the model and collect the results\n",
    "    scores = evaluate_model(model, X, y)\n",
    "    # store the results\n",
    "    results.append(scores)\n",
    "    names.append(name)\n",
    "    # summarize performance along the way\n",
    "    print('>%s %.3f (%.3f)' % (name, mean(scores), std(scores)))\n",
    "# plot model performance for comparison\n",
    "pyplot.boxplot(results, labels=names, showmeans=True)\n",
    "pyplot.show()"
   ]
  },
  {
   "cell_type": "code",
   "execution_count": null,
   "id": "5367640e",
   "metadata": {
    "ExecuteTime": {
     "start_time": "2022-06-25T07:54:30.913Z"
    }
   },
   "outputs": [],
   "source": [
    "# explore lightgbm boosting type effect on performance\n",
    "from numpy import arange\n",
    "from numpy import mean\n",
    "from numpy import std\n",
    "from sklearn.datasets import make_classification\n",
    "from sklearn.model_selection import cross_val_score\n",
    "from sklearn.model_selection import RepeatedStratifiedKFold\n",
    "from lightgbm import LGBMClassifier\n",
    "from matplotlib import pyplot\n",
    "\n",
    "# get the dataset\n",
    "def get_dataset():\n",
    "    X, y = make_classification(n_samples=1000,n_features=20,n_informative=15,n_redundant=5,random_state=7)\n",
    "    return X, y\n",
    "\n",
    "# get a list of models to evaluate\n",
    "def get_models():\n",
    "    models = dict()\n",
    "    types = ['gbdt', 'dart', 'goss']\n",
    "    for t in types:\n",
    "        models[t] = LGBMClassifier(boosting_type=t)\n",
    "    return models\n",
    "\n",
    "# evaluate a give model using cross-validation\n",
    "def evaluate_model(model):\n",
    "    cv = RepeatedStratifiedKFold(n_splits=10,n_repeats=3,random_state=1)\n",
    "    scores = cross_val_score(model, X, y, scoring='accuracy', cv=cv,n_jobs=-1)\n",
    "    return scores\n",
    "\n",
    "# define dataset\n",
    "X, y = get_dataset()\n",
    "# get the models to evaluate\n",
    "models = get_models()\n",
    "# evaluate the models and store results\n",
    "results, names = list(), list()\n",
    "for name, model in models.items():\n",
    "    scores = evaluate_model(model)\n",
    "    results.append(scores)\n",
    "    names.append(name)\n",
    "    print('>%s %.3f (%.3f)' % (name, mean(scores), std(scores)))\n",
    "# plot model performance for comparison\n",
    "pyplot.boxplot(results, labels=names, showmeans=True)\n",
    "pyplot.show()"
   ]
  },
  {
   "cell_type": "code",
   "execution_count": null,
   "id": "32ab68ee",
   "metadata": {
    "ExecuteTime": {
     "start_time": "2022-06-25T07:54:30.917Z"
    }
   },
   "outputs": [],
   "source": [
    "# grid search kernel for gaussian process classifier\n",
    "from sklearn.datasets import make_classification\n",
    "from sklearn.model_selection import GridSearchCV\n",
    "from sklearn.model_selection import RepeatedStratifiedKFold\n",
    "from sklearn.gaussian_process import GaussianProcessClassifier\n",
    "from sklearn.gaussian_process.kernels import RBF\n",
    "from sklearn.gaussian_process.kernels import DotProduct\n",
    "from sklearn.gaussian_process.kernels import Matern\n",
    "from sklearn.gaussian_process.kernels import RationalQuadratic\n",
    "from sklearn.gaussian_process.kernels import WhiteKernel\n",
    "# define dataset\n",
    "X, y = make_classification(n_samples=100,n_features=20,n_informative=15,n_redundant=5,random_state=1)\n",
    "# define model\n",
    "model = GaussianProcessClassifier()\n",
    "# define model evaluation method\n",
    "cv = RepeatedStratifiedKFold(n_splits=10, n_repeats=3, random_state=1)\n",
    "# define grid\n",
    "grid = dict()\n",
    "grid['kernel'] = [1*RBF(), 1*DotProduct(), 1*Matern(),  1*RationalQuadratic(), 1*WhiteKernel()]\n",
    "# define search\n",
    "search = GridSearchCV(model, grid, scoring='accuracy', cv=cv, n_jobs=-1)\n",
    "# perform the search\n",
    "results = search.fit(X, y)\n",
    "# summarize best\n",
    "print('Best Mean Accuracy: %.3f' % results.best_score_)\n",
    "print('Best Config: %s' % results.best_params_)\n",
    "# summarize all\n",
    "means = results.cv_results_['mean_test_score']\n",
    "params = results.cv_results_['params']\n",
    "for mean, param in zip(means, params):\n",
    "    print(\">%.3f with: %r\" % (mean, param))"
   ]
  },
  {
   "cell_type": "code",
   "execution_count": null,
   "id": "16051098",
   "metadata": {
    "ExecuteTime": {
     "start_time": "2022-06-25T07:54:30.921Z"
    }
   },
   "outputs": [],
   "source": [
    "# roc curve and auc\n",
    "from sklearn.datasets import make_classification\n",
    "from sklearn.linear_model import LogisticRegression\n",
    "from sklearn.model_selection import train_test_split\n",
    "from sklearn.metrics import roc_curve\n",
    "from sklearn.metrics import roc_auc_score\n",
    "from matplotlib import pyplot\n",
    "# generate 2 class dataset\n",
    "X, y = make_classification(n_samples=1000, n_classes=2, random_state=1)\n",
    "# split into train/test sets\n",
    "trainX, testX, trainy, testy = train_test_split(X, y, test_size=0.5, random_state=2)\n",
    "# generate a no skill prediction (majority class)\n",
    "ns_probs = [0 for _ in range(len(testy))]\n",
    "# fit a model\n",
    "model = LogisticRegression(solver='lbfgs')\n",
    "model.fit(trainX, trainy)\n",
    "# predict probabilities\n",
    "lr_probs = model.predict_proba(testX)\n",
    "# keep probabilities for the positive outcome only\n",
    "lr_probs = lr_probs[:, 1]\n",
    "# calculate scores\n",
    "ns_auc = roc_auc_score(testy, ns_probs)\n",
    "lr_auc = roc_auc_score(testy, lr_probs)\n",
    "# summarize scores\n",
    "print('No Skill: ROC AUC=%.3f' % (ns_auc))\n",
    "print('Logistic: ROC AUC=%.3f' % (lr_auc))\n",
    "# calculate roc curves\n",
    "ns_fpr, ns_tpr, _ = roc_curve(testy, ns_probs)\n",
    "lr_fpr, lr_tpr, _ = roc_curve(testy, lr_probs)\n",
    "# plot the roc curve for the model\n",
    "pyplot.plot(ns_fpr, ns_tpr, linestyle='--', label='No Skill')\n",
    "pyplot.plot(lr_fpr, lr_tpr, marker='.', label='Logistic')\n",
    "# axis labels\n",
    "pyplot.xlabel('False Positive Rate')\n",
    "pyplot.ylabel('True Positive Rate')\n",
    "# show the legend\n",
    "pyplot.legend()\n",
    "# show the plot\n",
    "pyplot.show()"
   ]
  },
  {
   "cell_type": "markdown",
   "id": "24a64aa2",
   "metadata": {},
   "source": [
    "First, let’s define a synthetic imbalanced binary classification problem with 10,000 examples, 99 percent of which are in the majority class and 1 percent are in the minority class.\n",
    "\n"
   ]
  },
  {
   "cell_type": "markdown",
   "id": "b56e7dd5",
   "metadata": {},
   "source": [
    "pip install imbalanced-learn"
   ]
  },
  {
   "cell_type": "code",
   "execution_count": null,
   "id": "36579209",
   "metadata": {
    "ExecuteTime": {
     "start_time": "2022-06-25T07:54:30.928Z"
    }
   },
   "outputs": [],
   "source": [
    "# easy ensemble for imbalanced classification\n",
    "from numpy import mean\n",
    "from sklearn.datasets import make_classification\n",
    "from sklearn.model_selection import cross_val_score\n",
    "from sklearn.model_selection import RepeatedStratifiedKFold\n",
    "from imblearn.ensemble import EasyEnsembleClassifier\n",
    "# generate dataset\n",
    "X, y = make_classification(n_samples=10000, n_features=2, n_redundant=0,\n",
    "    n_clusters_per_class=1, weights=[0.99], flip_y=0, random_state=4)\n",
    "# define model\n",
    "model = EasyEnsembleClassifier(n_estimators=10)\n",
    "# define evaluation procedure\n",
    "cv = RepeatedStratifiedKFold(n_splits=10, n_repeats=3, random_state=1)\n",
    "# evaluate model\n",
    "scores = cross_val_score(model, X, y, scoring='roc_auc', cv=cv, n_jobs=-1)\n",
    "# summarize performance\n",
    "print('Mean ROC AUC: %.3f' % mean(scores))"
   ]
  },
  {
   "cell_type": "code",
   "execution_count": null,
   "id": "ea4c87a4",
   "metadata": {
    "ExecuteTime": {
     "start_time": "2022-06-25T07:54:30.935Z"
    }
   },
   "outputs": [],
   "source": [
    "# example of Bayesian optimization for a 1D function from scratch\n",
    "from math import sin\n",
    "from math import pi\n",
    "from numpy import arange\n",
    "from numpy import vstack\n",
    "from numpy import argmax\n",
    "from numpy import asarray\n",
    "from numpy.random import normal\n",
    "from numpy.random import random\n",
    "from scipy.stats import norm\n",
    "from sklearn.gaussian_process import GaussianProcessRegressor\n",
    "from warnings import catch_warnings\n",
    "from warnings import simplefilter\n",
    "from matplotlib import pyplot\n",
    "\n",
    "# objective function\n",
    "def objective(x, noise=0.1):\n",
    "    noise = normal(loc=0, scale=noise)\n",
    "    return (x**2 * sin(5 * pi * x)**6.0) + noise\n",
    "\n",
    "# surrogate or approximation for the objective function\n",
    "def surrogate(model, X):\n",
    "    # catch any warning generated when making a prediction\n",
    "    with catch_warnings():\n",
    "        # ignore generated warnings\n",
    "        simplefilter(\"ignore\")\n",
    "        return model.predict(X, return_std=True)\n",
    "\n",
    "# probability of improvement acquisition function\n",
    "def acquisition(X, Xsamples, model):\n",
    "    # calculate the best surrogate score found so far\n",
    "    yhat, _ = surrogate(model, X)\n",
    "    best = max(yhat)\n",
    "    # calculate mean and stdev via surrogate function\n",
    "    mu, std = surrogate(model, Xsamples)\n",
    "    mu = mu[:, 0]\n",
    "    # calculate the probability of improvement\n",
    "    probs = norm.cdf((mu - best) / (std+1E-9))\n",
    "    return probs\n",
    "\n",
    "# optimize the acquisition function\n",
    "def opt_acquisition(X, y, model):\n",
    "    # random search, generate random samples\n",
    "    Xsamples = random(100)\n",
    "    Xsamples = Xsamples.reshape(len(Xsamples), 1)\n",
    "    # calculate the acquisition function for each sample\n",
    "    scores = acquisition(X, Xsamples, model)\n",
    "    # locate the index of the largest scores\n",
    "    ix = argmax(scores)\n",
    "    return Xsamples[ix, 0]\n",
    "\n",
    "# plot real observations vs surrogate function\n",
    "def plot(X, y, model):\n",
    "    # scatter plot of inputs and real objective function\n",
    "    pyplot.scatter(X, y)\n",
    "    # line plot of surrogate function across domain\n",
    "    Xsamples = asarray(arange(0, 1, 0.001))\n",
    "    Xsamples = Xsamples.reshape(len(Xsamples), 1)\n",
    "    ysamples, _ = surrogate(model, Xsamples)\n",
    "    pyplot.plot(Xsamples, ysamples)\n",
    "    # show the plot\n",
    "    pyplot.show()\n",
    "\n",
    "# sample the domain sparsely with noise\n",
    "X = random(100)\n",
    "y = asarray([objective(x) for x in X])\n",
    "# reshape into rows and cols\n",
    "X = X.reshape(len(X), 1)\n",
    "y = y.reshape(len(y), 1)\n",
    "# define the model\n",
    "model = GaussianProcessRegressor()\n",
    "# fit the model\n",
    "model.fit(X, y)\n",
    "# plot before hand\n",
    "plot(X, y, model)\n",
    "# perform the optimization process\n",
    "for i in range(100):\n",
    "    # select the next point to sample\n",
    "    x = opt_acquisition(X, y, model)\n",
    "    # sample the point\n",
    "    actual = objective(x)\n",
    "    # summarize the finding\n",
    "    est, _ = surrogate(model, [[x]])\n",
    "    print('>x=%.3f, f()=%3f, actual=%.3f' % (x, est, actual))\n",
    "    # add the data to the dataset\n",
    "    X = vstack((X, [[x]]))\n",
    "    y = vstack((y, [[actual]]))\n",
    "    # update the model\n",
    "    model.fit(X, y)\n",
    "\n",
    "# plot all samples and the final surrogate function\n",
    "plot(X, y, model)\n",
    "# best result\n",
    "ix = argmax(y)\n",
    "print('Best Result: x=%.3f, y=%.3f' % (X[ix], y[ix]))"
   ]
  },
  {
   "cell_type": "code",
   "execution_count": null,
   "id": "31639430",
   "metadata": {
    "ExecuteTime": {
     "start_time": "2022-06-25T07:54:30.940Z"
    },
    "scrolled": true
   },
   "outputs": [],
   "source": [
    "from bayes_opt import BayesianOptimization\n",
    "import numpy as np\n",
    "def target(x):\n",
    "    return np.exp(-(x-3)**2) + np.exp(-(3*x-2)**2) + 1/(x**2+1)\n",
    "bayes_optimizer = BayesianOptimization(target, {'x': (-2, 6)}, random_state=0)\n",
    "bayes_optimizer.maximize(init_points=2, n_iter=34, acq='ei', xi=0.01)"
   ]
  },
  {
   "cell_type": "code",
   "execution_count": null,
   "id": "f9f7dd8c",
   "metadata": {
    "ExecuteTime": {
     "start_time": "2022-06-25T07:54:30.944Z"
    }
   },
   "outputs": [],
   "source": [
    "import scipy.optimize as optimize\n",
    "from bayes_opt import BayesianOptimization\n",
    "fun = lambda x: (x[0] - 1)**2 + (x[1] - 2.5)**2\n",
    "res = optimize.minimize(fun, (2, 0), method='TNC', tol=1e-10)\n",
    "print(res.x)\n",
    "print(res.fun)\n",
    "def fun(x1,x2):\n",
    "    return -((x1-1)**2+ (x2-2.5)**2)\n",
    "BO = BayesianOptimization(fun, {'x1': (0., 2.), 'x2': (0., 3.) }, verbose=2)\n",
    "BO.maximize(init_points=2, n_iter=40)\n",
    "for i, res in enumerate(BO.res):\n",
    "    print(\"Iteration {}: \\n\\t{}\".format(i, res))\n",
    "print(BO.max)"
   ]
  },
  {
   "cell_type": "code",
   "execution_count": null,
   "id": "736c8055",
   "metadata": {
    "ExecuteTime": {
     "start_time": "2022-06-25T07:54:30.948Z"
    }
   },
   "outputs": [],
   "source": [
    "import lightgbm as lgb\n",
    "from bayes_opt import BayesianOptimization\n",
    "from sklearn.model_selection import cross_val_score\n",
    "from sklearn.model_selection import train_test_split\n",
    "from sklearn.datasets import load_boston\n",
    "from sklearn.metrics import accuracy_score,confusion_matrix\n",
    "import numpy as np\n",
    "def lgb_evaluate(numLeaves, maxDepth, scaleWeight, minChildWeight, subsample, colSam):\n",
    "    reg=lgb.LGBMRegressor(num_leaves=31, max_depth= 2,scale_pos_weight= scaleWeight, min_child_weight= minChildWeight, subsample= 0.4, colsample_bytree= 0.4, learning_rate=0.05,   n_estimators=20)\n",
    "#   scores = cross_val_score(reg, train_x, train_y, cv=5, scoring='roc_auc')\n",
    "    scores = cross_val_score(reg,train_x,train_y,cv=5,scoring='neg_mean_squared_error')\n",
    "    return np.mean(scores)\n",
    "def bayesOpt(train_x, train_y):\n",
    "    lgbBO = BayesianOptimization(lgb_evaluate, {'numLeaves': (5,90),'maxDepth': (2,90),'scaleWeight': (1,10000),'minChildWeight': (0.01,70),'subsample': (0.4,1),'colSam': (0.4,1) })\n",
    "    lgbBO.maximize(init_points=5, n_iter=50)\n",
    "    print(lgbBO.res)\n",
    "boston = load_boston()\n",
    "X, y = boston.data, boston.target\n",
    "train_x, X_test, train_y, y_test = train_test_split(X, y, test_size=0.2)\n",
    "bayesOpt(train_x, train_y)"
   ]
  },
  {
   "cell_type": "code",
   "execution_count": null,
   "id": "050ff6cc",
   "metadata": {
    "ExecuteTime": {
     "start_time": "2022-06-25T07:54:30.952Z"
    }
   },
   "outputs": [],
   "source": [
    "import lightgbm as lgb\n",
    "from bayes_opt import BayesianOptimization\n",
    "from sklearn.model_selection import cross_val_score\n",
    "from sklearn.model_selection import train_test_split\n",
    "from numpy import loadtxt\n",
    "from sklearn.metrics import accuracy_score,confusion_matrix\n",
    "import numpy as np\n",
    "def lgb_evaluate(numLeaves, maxDepth, scaleWeight, minChildWeight, subsample, colSam):\n",
    "    clf = lgb.LGBMClassifier(\n",
    "        objective = 'binary',\n",
    "        metric= 'auc',\n",
    "        reg_alpha= 0,\n",
    "        reg_lambda= 2,\n",
    "#       bagging_fraction= 0.999,\n",
    "        min_split_gain= 0,\n",
    "        min_child_samples= 10,\n",
    "        subsample_freq= 3,\n",
    "#       subsample_for_bin= 50000,\n",
    "#       n_estimators= 9999999,\n",
    "        n_estimators= 99,\n",
    "        num_leaves= int(numLeaves),\n",
    "        max_depth= int(maxDepth),\n",
    "        scale_pos_weight= scaleWeight,\n",
    "        min_child_weight= minChildWeight,\n",
    "        subsample= subsample,\n",
    "        colsample_bytree= colSam,\n",
    "        verbose =-1)\n",
    "    scores = cross_val_score(clf, train_x, train_y, cv=5, scoring='roc_auc')\n",
    "    return np.mean(scores)\n",
    "def bayesOpt(train_x, train_y):\n",
    "    lgbBO = BayesianOptimization(lgb_evaluate, {                                               \n",
    "                                                'numLeaves':  (5, 90),\n",
    "                                                'maxDepth': (2, 90),\n",
    "                                                'scaleWeight': (1, 10000),\n",
    "                                                'minChildWeight': (0.01, 70),\n",
    "                                                'subsample': (0.4, 1),                                               \n",
    "                                                'colSam': (0.4, 1)\n",
    "                                            })\n",
    "    lgbBO.maximize(init_points=5, n_iter=200)\n",
    "    print(lgbBO.res)\n",
    "dataset = loadtxt('C:/Users/ihlee/testAI/scikitlearn_keras_examples/pima-indians-diabetes.csv', delimiter=\",\")\n",
    "X = dataset[:,0:8]\n",
    "y = dataset[:,8]\n",
    "train_x, X_test, train_y, y_test = train_test_split(X, y, test_size=0.2)\n",
    "bayesOpt(train_x, train_y)"
   ]
  },
  {
   "cell_type": "code",
   "execution_count": null,
   "id": "497edd64",
   "metadata": {
    "ExecuteTime": {
     "start_time": "2022-06-25T07:54:30.957Z"
    },
    "scrolled": true
   },
   "outputs": [],
   "source": [
    "# first xgboost model for Pima Indians dataset\n",
    "from numpy import loadtxt\n",
    "from xgboost import XGBClassifier\n",
    "from sklearn.model_selection import train_test_split\n",
    "from sklearn.metrics import accuracy_score\n",
    "# load data\n",
    "dataset = loadtxt('C:/Users/ihlee/testAI/scikitlearn_keras_examples/pima-indians-diabetes.csv', delimiter=\",\")\n",
    "# split data into X and y\n",
    "X = dataset[:,0:8]\n",
    "Y = dataset[:,8]\n",
    "# split data into train and test sets\n",
    "seed = 7\n",
    "test_size = 0.33\n",
    "X_train, X_test, y_train, y_test = train_test_split(X, Y, test_size=test_size, random_state=seed)\n",
    "# fit model no training data\n",
    "model = XGBClassifier()\n",
    "model.fit(X_train, y_train)\n",
    "# make predictions for test data\n",
    "y_pred = model.predict(X_test)\n",
    "predictions = [round(value) for value in y_pred]\n",
    "# evaluate predictions\n",
    "accuracy = accuracy_score(y_test, predictions)\n",
    "print(\"Accuracy: %.2f%%\" % (accuracy * 100.0))"
   ]
  },
  {
   "cell_type": "code",
   "execution_count": null,
   "id": "c927a71b",
   "metadata": {
    "ExecuteTime": {
     "start_time": "2022-06-25T07:54:30.960Z"
    },
    "scrolled": true
   },
   "outputs": [],
   "source": [
    "# plot feature importance using built-in function\n",
    "from numpy import loadtxt\n",
    "from xgboost import XGBClassifier\n",
    "from xgboost import plot_importance\n",
    "from matplotlib import pyplot\n",
    "# load data\n",
    "dataset = loadtxt('C:/Users/ihlee/testAI/scikitlearn_keras_examples/pima-indians-diabetes.csv', delimiter=\",\")\n",
    "# split data into X and y\n",
    "X = dataset[:,0:8]\n",
    "y = dataset[:,8]\n",
    "# fit model no training data\n",
    "model = XGBClassifier()\n",
    "model.fit(X, y)\n",
    "# plot feature importance\n",
    "plot_importance(model)\n",
    "pyplot.show()"
   ]
  },
  {
   "cell_type": "code",
   "execution_count": null,
   "id": "27a6028c",
   "metadata": {
    "ExecuteTime": {
     "start_time": "2022-06-25T07:54:30.964Z"
    },
    "scrolled": false
   },
   "outputs": [],
   "source": [
    "# plot learning curve\n",
    "from numpy import loadtxt\n",
    "from xgboost import XGBClassifier\n",
    "from sklearn.model_selection import train_test_split\n",
    "from sklearn.metrics import accuracy_score\n",
    "from matplotlib import pyplot\n",
    "# load data\n",
    "dataset =loadtxt('C:/Users/ihlee/testAI/scikitlearn_keras_examples/pima-indians-diabetes.csv', delimiter=\",\")\n",
    "# split data into X and y\n",
    "X = dataset[:,0:8]\n",
    "Y = dataset[:,8]\n",
    "# split data into train and test sets\n",
    "X_train, X_test, y_train, y_test = train_test_split(X, Y, test_size=0.33, random_state=7)\n",
    "# fit model no training data\n",
    "model = XGBClassifier()\n",
    "eval_set = [(X_train, y_train), (X_test, y_test)]\n",
    "model.fit(X_train,y_train,eval_metric=[\"error\",\"logloss\"],eval_set=eval_set,verbose=True)\n",
    "# make predictions for test data\n",
    "y_pred = model.predict(X_test)\n",
    "predictions = [round(value) for value in y_pred]\n",
    "# evaluate predictions\n",
    "accuracy = accuracy_score(y_test,predictions)\n",
    "print(\"Accuracy: %.2f%%\" % (accuracy * 100.0))\n",
    "# retrieve performance metrics\n",
    "results = model.evals_result()\n",
    "epochs = len(results['validation_0']['error'])\n",
    "x_axis = range(0, epochs)\n",
    "# plot log loss\n",
    "fig, ax = pyplot.subplots()\n",
    "ax.plot(x_axis, results['validation_0']['logloss'], label='Train')\n",
    "ax.plot(x_axis, results['validation_1']['logloss'], label='Test')\n",
    "ax.legend()\n",
    "pyplot.ylabel('Log Loss')\n",
    "pyplot.title('XGBoost Log Loss')\n",
    "pyplot.show()\n",
    "# plot classification error\n",
    "fig, ax = pyplot.subplots()\n",
    "ax.plot(x_axis, results['validation_0']['error'], label='Train')\n",
    "ax.plot(x_axis, results['validation_1']['error'], label='Test')\n",
    "ax.legend()\n",
    "pyplot.ylabel('Classification Error')\n",
    "pyplot.title('XGBoost Classification Error')\n",
    "pyplot.show()"
   ]
  },
  {
   "cell_type": "code",
   "execution_count": null,
   "id": "6c1b673e",
   "metadata": {
    "ExecuteTime": {
     "start_time": "2022-06-25T07:54:30.968Z"
    }
   },
   "outputs": [],
   "source": [
    "# explore lightgbm number of trees effect on performance\n",
    "from numpy import mean\n",
    "from numpy import std\n",
    "from sklearn.datasets import make_classification\n",
    "from sklearn.model_selection import cross_val_score\n",
    "from sklearn.model_selection import RepeatedStratifiedKFold\n",
    "from lightgbm import LGBMClassifier\n",
    "from matplotlib import pyplot\n",
    "\n",
    "# get the dataset\n",
    "def get_dataset():\n",
    "    X, y = make_classification(n_samples=1000, n_features=20, n_informative=15, n_redundant=5, random_state=7)\n",
    "    return X, y\n",
    "\n",
    "# get a list of models to evaluate\n",
    "def get_models():\n",
    "    models = dict()\n",
    "    trees = [10, 50, 100, 500, 1000, 5000]\n",
    "    for n in trees:\n",
    "        models[str(n)] = LGBMClassifier(n_estimators=n)\n",
    "    return models\n",
    "\n",
    "# evaluate a give model using cross-validation\n",
    "def evaluate_model(model):\n",
    "    cv=RepeatedStratifiedKFold(n_splits=10, n_repeats=3,random_state=1)\n",
    "    scores=cross_val_score(model,X,y,scoring='accuracy',cv=cv,n_jobs=-1)\n",
    "    return scores\n",
    "\n",
    "# define dataset\n",
    "X, y = get_dataset()\n",
    "# get the models to evaluate\n",
    "models = get_models()\n",
    "# evaluate the models and store results\n",
    "results, names = list(), list()\n",
    "for name, model in models.items():\n",
    "    scores = evaluate_model(model)\n",
    "    results.append(scores)\n",
    "    names.append(name)\n",
    "    print('>%s %.3f (%.3f)' % (name, mean(scores), std(scores)))\n",
    "# plot model performance for comparison\n",
    "pyplot.boxplot(results, labels=names, showmeans=True)\n",
    "pyplot.show()"
   ]
  },
  {
   "cell_type": "code",
   "execution_count": null,
   "id": "d00687eb",
   "metadata": {
    "ExecuteTime": {
     "start_time": "2022-06-25T07:54:30.975Z"
    }
   },
   "outputs": [],
   "source": [
    "# Author: Andreas Mueller <amueller@ais.uni-bonn.de>\n",
    "# License: BSD 3 clause\n",
    "from sklearn.pipeline import Pipeline, FeatureUnion\n",
    "from sklearn.model_selection import GridSearchCV\n",
    "from sklearn.svm import SVC\n",
    "from sklearn.datasets import load_iris\n",
    "from sklearn.decomposition import PCA\n",
    "from sklearn.feature_selection import SelectKBest\n",
    "\n",
    "iris = load_iris()\n",
    "X, y = iris.data, iris.target\n",
    "# this dataset is way too high-dimensional. Better do PCA:\n",
    "pca = PCA(n_components=2)\n",
    "# maybe some original features were good, too?\n",
    "selection = SelectKBest(k=1)\n",
    "# build estimator from PCA and Univariate selection:\n",
    "combined_features = FeatureUnion([(\"pca\", pca), (\"univ_select\", selection)])\n",
    "# use combined features to transform dataset:\n",
    "X_features = combined_features.fit(X, y).transform(X)\n",
    "print(\"Combined space has\", X_features.shape[1], \"features\")\n",
    "svm = SVC(kernel=\"linear\")\n",
    "# do grid search over k, n_components and C:\n",
    "pipeline = Pipeline([(\"features\", combined_features), (\"svm\", svm)])\n",
    "param_grid = dict(\n",
    "    features__pca__n_components=[1, 2, 3],\n",
    "    features__univ_select__k=[1, 2],\n",
    "    svm__C=[0.1, 1, 10],)\n",
    "grid_search = GridSearchCV(pipeline, param_grid=param_grid, verbose=10)\n",
    "grid_search.fit(X, y)\n",
    "print(grid_search.best_estimator_)"
   ]
  },
  {
   "cell_type": "code",
   "execution_count": null,
   "id": "2e236a6e",
   "metadata": {
    "ExecuteTime": {
     "start_time": "2022-06-25T07:54:30.982Z"
    }
   },
   "outputs": [],
   "source": [
    "# example of manually specifying the loss function for binary classification\n",
    "from sklearn.datasets import make_classification\n",
    "from xgboost import XGBClassifier\n",
    "# define dataset\n",
    "X, y =make_classification(n_samples=1000,n_features=20,n_informative=15,n_redundant=5,random_state=1)\n",
    "# define the model\n",
    "model = XGBClassifier(objective='binary:logistic')\n",
    "# fit the model\n",
    "model.fit(X, y)\n",
    "# summarize the model loss function\n",
    "print(model.objective)"
   ]
  },
  {
   "cell_type": "code",
   "execution_count": null,
   "id": "0b25a93f",
   "metadata": {
    "ExecuteTime": {
     "start_time": "2022-06-25T07:54:30.987Z"
    }
   },
   "outputs": [],
   "source": [
    "# example of automatically choosing the loss function for multi-class classification\n",
    "from sklearn.datasets import make_classification\n",
    "from xgboost import XGBClassifier\n",
    "# define dataset\n",
    "X, y = make_classification(n_samples=1000,n_features=20,n_informative=15,n_redundant=5,random_state=1,n_classes=3)\n",
    "# define the model\n",
    "model = XGBClassifier()\n",
    "# fit the model\n",
    "model.fit(X, y)\n",
    "# summarize the model loss function\n",
    "print(model.objective)"
   ]
  },
  {
   "cell_type": "code",
   "execution_count": null,
   "id": "205c114a",
   "metadata": {
    "ExecuteTime": {
     "start_time": "2022-06-25T07:54:30.991Z"
    }
   },
   "outputs": [],
   "source": [
    "# example of automatically choosing the loss function for regression\n",
    "from sklearn.datasets import make_regression\n",
    "from xgboost import XGBRegressor\n",
    "# define dataset\n",
    "X, y =make_regression(n_samples=1000,n_features=20,n_informative=15,noise=0.1,random_state=7)\n",
    "# define the model\n",
    "model = XGBRegressor()\n",
    "# fit the model\n",
    "model.fit(X, y)\n",
    "# summarize the model loss function\n",
    "print(model.objective)"
   ]
  },
  {
   "cell_type": "code",
   "execution_count": null,
   "id": "7e3302e7",
   "metadata": {
    "ExecuteTime": {
     "start_time": "2022-06-25T07:54:30.995Z"
    }
   },
   "outputs": [],
   "source": [
    "from sklearn import datasets\n",
    "iris = datasets.load_iris()\n",
    "X = iris.data\n",
    "y = iris.target\n",
    "from sklearn.model_selection import train_test_split\n",
    "X_train,X_test,y_train,y_test =train_test_split(X,y,test_size=0.20,random_state=42)\n",
    "print(\"Train data length:\",len(X_train));\n",
    "print(\"Test data length:\",len(X_test));\n",
    "import xgboost as xgb\n",
    "dtrain = xgb.DMatrix(X_train, label=y_train)\n",
    "dtest = xgb.DMatrix(X_test, label=y_test)\n",
    "parameters = {\n",
    "    'eta': 0.3,\n",
    "    'silent': True,  # option for logging\n",
    "    'objective': 'multi:softprob',  # error evaluation for multiclass tasks\n",
    "    'num_class': 3,  # number of classes to predic\n",
    "    'max_depth': 3  # depth of the trees in the boosting process\n",
    "    }\n",
    "num_round = 20  # the number of training iterations\n",
    "bst = xgb.train(parameters, dtrain, num_round)\n",
    "preds = bst.predict(dtest)\n",
    "print( preds[:5])\n",
    "'''\n",
    "Selecting the column that represents the highest probability\n",
    "(note that, for each line, there is 3 columns, indicating the probability for each class)\n",
    "'''\n",
    "import numpy as np\n",
    "best_preds = np.asarray([np.argmax(line) for line in preds])\n",
    "print(best_preds)\n",
    "from sklearn.metrics import precision_score\n",
    "print(precision_score(y_test,best_preds,average='macro'))"
   ]
  },
  {
   "cell_type": "code",
   "execution_count": null,
   "id": "700a9a95",
   "metadata": {
    "ExecuteTime": {
     "start_time": "2022-06-25T07:54:31.000Z"
    }
   },
   "outputs": [],
   "source": [
    "import numpy as np\n",
    "import xgboost as xgb\n",
    "from sklearn import datasets\n",
    "# from sklearn.cross_validation import train_test_split\n",
    "from sklearn.model_selection import train_test_split\n",
    "from sklearn.datasets import dump_svmlight_file\n",
    "# from sklearn.externals import joblib\n",
    "import joblib\n",
    "from sklearn.metrics import precision_score\n",
    "iris = datasets.load_iris()\n",
    "X = iris.data\n",
    "y = iris.target\n",
    "X_train,X_test,y_train,y_test=train_test_split(X,y,test_size=0.2,random_state=42)\n",
    "# use DMatrix for xgbosot\n",
    "dtrain = xgb.DMatrix(X_train, label=y_train)\n",
    "dtest = xgb.DMatrix(X_test, label=y_test)\n",
    "# use svmlight file for xgboost\n",
    "dump_svmlight_file(X_train,y_train, 'dtrain.svm', zero_based=True)\n",
    "dump_svmlight_file(X_test,y_test, 'dtest.svm', zero_based=True)\n",
    "dtrain_svm = xgb.DMatrix('dtrain.svm')\n",
    "dtest_svm = xgb.DMatrix('dtest.svm')\n",
    "# set xgboost params\n",
    "param = {\n",
    "    'max_depth': 3,  # the maximum depth of each tree\n",
    "    'eta': 0.3,  # the training step for each iteration\n",
    "    'silent': 1,  # logging mode - quiet\n",
    "    'objective': 'multi:softprob',  # error evaluation for multiclass training\n",
    "    'num_class': 3}  # the number of classes that exist in this datset\n",
    "num_round = 20  # the number of training iterations\n",
    "#------------- numpy array ------------------\n",
    "# training and testing - numpy matrices\n",
    "bst = xgb.train(param, dtrain, num_round)\n",
    "preds = bst.predict(dtest)\n",
    "# extracting most confident predictions\n",
    "best_preds = np.asarray([np.argmax(line) for line in preds])\n",
    "print(\"Numpy array precision:\", precision_score(y_test, best_preds, average='macro'))\n",
    "# ------------- svm file ---------------------\n",
    "# training and testing - svm file\n",
    "bst_svm = xgb.train(param, dtrain_svm, num_round)\n",
    "preds = bst.predict(dtest_svm)\n",
    "# extracting most confident predictions\n",
    "best_preds_svm = [np.argmax(line) for line in preds]\n",
    "print(\"Svm file precision:\",precision_score(y_test, best_preds_svm, average='macro'))\n",
    "# --------------------------------------------\n",
    "# dump the models\n",
    "bst.dump_model('dump.raw.txt')\n",
    "bst_svm.dump_model('dump_svm.raw.txt')\n",
    "# save the models for later\n",
    "joblib.dump(bst, 'bst_model.pkl', compress=True)\n",
    "joblib.dump(bst_svm, 'bst_svm_model.pkl', compress=True)"
   ]
  },
  {
   "cell_type": "code",
   "execution_count": null,
   "id": "b2345c30",
   "metadata": {
    "ExecuteTime": {
     "start_time": "2022-06-25T07:54:31.004Z"
    }
   },
   "outputs": [],
   "source": [
    "import matplotlib.pyplot as plt\n",
    "from mpl_toolkits.mplot3d import Axes3D\n",
    "from sklearn import datasets\n",
    "from sklearn.decomposition import PCA\n",
    "import numpy as np\n",
    "import lightgbm as lgb\n",
    "# import some data to play with\n",
    "iris = datasets.load_iris()\n",
    "X = iris.data[:, :2]  # we only take the first two features.\n",
    "y = iris.target\n",
    "x_min, x_max = X[:, 0].min() - .5, X[:, 0].max() + .5\n",
    "y_min, y_max = X[:, 1].min() - .5, X[:, 1].max() + .5\n",
    "plt.figure(2, figsize=(8, 6))\n",
    "plt.clf()\n",
    "# plot the training points\n",
    "plt.scatter(X[:, 0], X[:, 1], c=y, cmap=plt.cm.Set1, edgecolor='k')\n",
    "plt.xlabel('Sepal length')\n",
    "plt.ylabel('Sepal width')\n",
    "plt.xlim(x_min, x_max)\n",
    "plt.ylim(y_min, y_max)\n",
    "plt.xticks(())\n",
    "plt.yticks(())\n",
    "\n",
    "# to getter a better understanding of interaction of the dimensions\n",
    "# plot the first three PCA dimensions\n",
    "fig = plt.figure(1, figsize=(8, 6))\n",
    "ax = Axes3D(fig, elev=-150, azim=110)\n",
    "X_reduced = PCA(n_components=3).fit_transform(iris.data)\n",
    "ax.scatter(X_reduced[:, 0], X_reduced[:, 1], X_reduced[:, 2], c=y,\n",
    "           cmap=plt.cm.Set1, edgecolor='k', s=40)\n",
    "ax.set_title(\"First three PCA directions\")\n",
    "ax.set_xlabel(\"1st eigenvector\")\n",
    "ax.w_xaxis.set_ticklabels([])\n",
    "ax.set_ylabel(\"2nd eigenvector\")\n",
    "ax.w_yaxis.set_ticklabels([])\n",
    "ax.set_zlabel(\"3rd eigenvector\")\n",
    "ax.w_zaxis.set_ticklabels([])\n",
    "plt.show()\n",
    "\n",
    "from sklearn.model_selection import train_test_split\n",
    "from sklearn import preprocessing\n",
    "X = iris.data  # we only take the first two features.\n",
    "y = iris.target\n",
    "print(np.shape(X))\n",
    "print(np.shape(y))\n",
    "le = preprocessing.LabelEncoder() \n",
    "y_label=le.fit_transform(y)\n",
    "classes=le.classes_\n",
    "\n",
    "X_train,X_test,y_train,y_test=train_test_split(X,y_label,test_size=0.30,random_state=42)\n",
    "\n",
    "params = {\n",
    "          \"objective\" : \"multiclass\",\n",
    "          \"num_class\" : 4,\n",
    "          \"num_leaves\" : 60,\n",
    "          \"max_depth\": -1,\n",
    "          \"learning_rate\" : 0.01,\n",
    "          \"bagging_fraction\" : 0.9,  # subsample\n",
    "          \"feature_fraction\" : 0.9,  # colsample_bytree\n",
    "          \"bagging_freq\" : 5,        # subsample_freq\n",
    "          \"bagging_seed\" : 2018,\n",
    "          \"verbosity\" : -1 }\n",
    "\n",
    "\n",
    "lgtrain, lgval = lgb.Dataset(X_train, y_train), lgb.Dataset(X_test, y_test)\n",
    "lgbmodel = lgb.train(params, lgtrain, 2000, valid_sets=[lgtrain, lgval], early_stopping_rounds=100, verbose_eval=200)\n",
    "\n",
    "from sklearn.metrics import confusion_matrix\n",
    "import matplotlib.pyplot as plt\n",
    "from sklearn.utils.multiclass import unique_labels\n",
    "y_pred =np.argmax(lgbmodel.predict(X_test),axis=1)\n",
    "y_true =y_test\n",
    "\n",
    "def plot_confusion_matrix(y_true, y_pred, classes,\n",
    "                          normalize=False,\n",
    "                          title=None,\n",
    "                          cmap=plt.cm.Blues):\n",
    "    \"\"\"\n",
    "    This function prints and plots the confusion matrix.\n",
    "    Normalization can be applied by setting `normalize=True`.\n",
    "    \"\"\"\n",
    "    if not title:\n",
    "        if normalize:\n",
    "            title = 'Normalized confusion matrix'\n",
    "        else:\n",
    "            title = 'Confusion matrix, without normalization'\n",
    "\n",
    "    # compute confusion matrix\n",
    "    cm = confusion_matrix(y_true, y_pred)\n",
    "    # only use the labels that appear in the data\n",
    "    classes = classes[unique_labels(y_true, y_pred)]\n",
    "    if normalize:\n",
    "        cm = cm.astype('float') / cm.sum(axis=1)[:, np.newaxis]\n",
    "        print(\"Normalized confusion matrix\")\n",
    "    else:\n",
    "        print('Confusion matrix, without normalization')\n",
    "\n",
    "    print(cm)\n",
    "\n",
    "    fig, ax = plt.subplots()\n",
    "    im = ax.imshow(cm, interpolation='nearest', cmap=cmap)\n",
    "    ax.figure.colorbar(im, ax=ax)\n",
    "    # we want to show all ticks...\n",
    "    ax.set(xticks=np.arange(cm.shape[1]),\n",
    "           yticks=np.arange(cm.shape[0]),\n",
    "           # ... and label them with the respective list entries\n",
    "           xticklabels=classes, yticklabels=classes,\n",
    "           title=title,\n",
    "           ylabel='True label',\n",
    "           xlabel='Predicted label')\n",
    "\n",
    "    # rotate the tick labels and set their alignment.\n",
    "    plt.setp(ax.get_xticklabels(), rotation=45, ha=\"right\",\n",
    "             rotation_mode=\"anchor\")\n",
    "\n",
    "    # loop over data dimensions and create text annotations.\n",
    "    fmt = '.2f' if normalize else 'd'\n",
    "    thresh = cm.max() / 2.\n",
    "    for i in range(cm.shape[0]):\n",
    "        for j in range(cm.shape[1]):\n",
    "            ax.text(j, i, format(cm[i, j], fmt),\n",
    "                    ha=\"center\", va=\"center\",\n",
    "                    color=\"white\" if cm[i, j] > thresh else \"black\")\n",
    "    fig.tight_layout()\n",
    "    return ax\n",
    "\n",
    "plot_confusion_matrix(y_true, y_pred, classes=classes,\n",
    "                      title='Confusion matrix, without normalization')\n",
    "from sklearn.metrics import accuracy_score\n",
    "print( accuracy_score(y_true, y_pred))"
   ]
  },
  {
   "cell_type": "markdown",
   "id": "ee31087e",
   "metadata": {},
   "source": [
    "AE"
   ]
  },
  {
   "cell_type": "code",
   "execution_count": null,
   "id": "69cbbf24",
   "metadata": {
    "ExecuteTime": {
     "start_time": "2022-06-25T07:54:31.009Z"
    }
   },
   "outputs": [],
   "source": [
    "import numpy as np\n",
    "import matplotlib.pyplot as plt\n",
    "import seaborn as sns\n",
    "from tensorflow.keras.layers import Dense\n",
    "from tensorflow.keras.models import Sequential,Model\n",
    "# from sklearn.preprocessing import MinMaxScaler\n",
    "%matplotlib inline\n",
    "\n",
    "# synthetic classification dataset\n",
    "from sklearn.datasets import make_classification\n",
    "# define dataset\n",
    "X, y = make_classification(n_samples=2000,n_features=30,n_informative=10,n_redundant=10,random_state=7)\n",
    "# summarize the dataset\n",
    "print(X.shape, y.shape)\n",
    "\n",
    "num_inputs = 30\n",
    "num_hidden = 2 \n",
    "num_outputs = num_inputs \n",
    "model = Sequential()\n",
    "model.add(Dense(num_inputs, input_shape=[num_inputs]))\n",
    "model.add(Dense(20,activation='relu'))    # 5 < 20 < num_inputs\n",
    "model.add(Dense(5,activation='relu'))     # 2 < 5 \n",
    "model.add(Dense(num_hidden, activation='relu'))\n",
    "model.add(Dense(5, activation='relu'))   # 2 < 5\n",
    "model.add(Dense(20,activation='relu'))   # 2 < 5 < 20 < num_outputs=num_inputs\n",
    "model.add(Dense(num_outputs))\n",
    "model.compile(optimizer='adam',loss='mse')\n",
    "model.summary()\n",
    "history = model.fit(X, X, validation_split=0.20, epochs=250, batch_size=10, verbose=0)\n",
    "\n",
    "plt.plot(history.history['loss'])\n",
    "plt.plot(history.history['val_loss'])\n",
    "plt.title('model loss', fontsize=20)\n",
    "plt.ylabel('loss', fontsize=20)\n",
    "plt.xlabel('epoch', fontsize=20)\n",
    "plt.legend(['train', 'test'], loc='upper right')\n",
    "plt.show()\n",
    "\n",
    "intermediate_layer_model = Model(inputs=model.input, outputs=model.get_layer(index=3).output)\n",
    "intermediate_output = intermediate_layer_model.predict(X)\n",
    "print(intermediate_output.shape)\n",
    "\n",
    "sns.scatterplot(intermediate_output[:,0],intermediate_output[:,1], hue=y  )"
   ]
  },
  {
   "cell_type": "markdown",
   "id": "7f8f3f5c",
   "metadata": {},
   "source": [
    "VAE"
   ]
  },
  {
   "cell_type": "code",
   "execution_count": null,
   "id": "aa6ecc1e",
   "metadata": {
    "ExecuteTime": {
     "start_time": "2022-06-25T07:54:31.015Z"
    }
   },
   "outputs": [],
   "source": [
    "import numpy as np\n",
    "import tensorflow as tf\n",
    "from tensorflow import keras\n",
    "from tensorflow.keras import layers"
   ]
  },
  {
   "cell_type": "code",
   "execution_count": null,
   "id": "49ab03e8",
   "metadata": {
    "ExecuteTime": {
     "start_time": "2022-06-25T07:54:31.019Z"
    }
   },
   "outputs": [],
   "source": [
    "class Sampling(layers.Layer):\n",
    "    \"\"\"Uses (z_mean, z_log_var) to sample z, the vector encoding a digit.\"\"\"\n",
    "\n",
    "    def call(self, inputs):\n",
    "        z_mean, z_log_var = inputs\n",
    "        batch = tf.shape(z_mean)[0]\n",
    "        dim = tf.shape(z_mean)[1]\n",
    "        epsilon = tf.keras.backend.random_normal(shape=(batch, dim))\n",
    "        return z_mean + tf.exp(0.5 * z_log_var) * epsilon"
   ]
  },
  {
   "cell_type": "code",
   "execution_count": null,
   "id": "2bf44aa6",
   "metadata": {
    "ExecuteTime": {
     "start_time": "2022-06-25T07:54:31.023Z"
    }
   },
   "outputs": [],
   "source": [
    "latent_dim = 2\n",
    "encoder_inputs = keras.Input(shape=(28, 28, 1))\n",
    "x = layers.Conv2D(32, 3, activation=\"relu\", strides=2, padding=\"same\")(encoder_inputs)\n",
    "x = layers.Conv2D(64, 3, activation=\"relu\", strides=2, padding=\"same\")(x)\n",
    "x = layers.Flatten()(x)\n",
    "x = layers.Dense(16, activation=\"relu\")(x)\n",
    "z_mean = layers.Dense(latent_dim, name=\"z_mean\")(x)\n",
    "z_log_var = layers.Dense(latent_dim, name=\"z_log_var\")(x)\n",
    "z = Sampling()([z_mean, z_log_var])\n",
    "encoder = keras.Model(encoder_inputs, [z_mean, z_log_var, z], name=\"encoder\")\n",
    "encoder.summary()"
   ]
  },
  {
   "cell_type": "code",
   "execution_count": null,
   "id": "c5121d03",
   "metadata": {
    "ExecuteTime": {
     "start_time": "2022-06-25T07:54:31.027Z"
    }
   },
   "outputs": [],
   "source": [
    "latent_inputs = keras.Input(shape=(latent_dim,))\n",
    "x = layers.Dense(7 * 7 * 64, activation=\"relu\")(latent_inputs)\n",
    "x = layers.Reshape((7, 7, 64))(x)\n",
    "x = layers.Conv2DTranspose(64, 3, activation=\"relu\", strides=2, padding=\"same\")(x)\n",
    "x = layers.Conv2DTranspose(32, 3, activation=\"relu\", strides=2, padding=\"same\")(x)\n",
    "decoder_outputs = layers.Conv2DTranspose(1, 3, activation=\"sigmoid\", padding=\"same\")(x)\n",
    "decoder = keras.Model(latent_inputs, decoder_outputs, name=\"decoder\")\n",
    "decoder.summary()"
   ]
  },
  {
   "cell_type": "code",
   "execution_count": null,
   "id": "475b964b",
   "metadata": {
    "ExecuteTime": {
     "start_time": "2022-06-25T07:54:31.031Z"
    }
   },
   "outputs": [],
   "source": [
    "class VAE(keras.Model):\n",
    "    def __init__(self, encoder, decoder, **kwargs):\n",
    "        super(VAE, self).__init__(**kwargs)\n",
    "        self.encoder = encoder\n",
    "        self.decoder = decoder\n",
    "        self.total_loss_tracker = keras.metrics.Mean(name=\"total_loss\")\n",
    "        self.reconstruction_loss_tracker = keras.metrics.Mean(\n",
    "            name=\"reconstruction_loss\"\n",
    "        )\n",
    "        self.kl_loss_tracker = keras.metrics.Mean(name=\"kl_loss\")\n",
    "\n",
    "    @property\n",
    "    def metrics(self):\n",
    "        return [\n",
    "            self.total_loss_tracker,\n",
    "            self.reconstruction_loss_tracker,\n",
    "            self.kl_loss_tracker,\n",
    "        ]\n",
    "\n",
    "    def train_step(self, data):\n",
    "        with tf.GradientTape() as tape:\n",
    "            z_mean, z_log_var, z = self.encoder(data)\n",
    "            reconstruction = self.decoder(z)\n",
    "            reconstruction_loss = tf.reduce_mean(\n",
    "                tf.reduce_sum(\n",
    "                    keras.losses.binary_crossentropy(data, reconstruction), axis=(1, 2)\n",
    "                )\n",
    "            )\n",
    "            kl_loss = -0.5 * (1 + z_log_var - tf.square(z_mean) - tf.exp(z_log_var))\n",
    "            kl_loss = tf.reduce_mean(tf.reduce_sum(kl_loss, axis=1))\n",
    "            total_loss = reconstruction_loss + kl_loss\n",
    "        grads = tape.gradient(total_loss, self.trainable_weights)\n",
    "        self.optimizer.apply_gradients(zip(grads, self.trainable_weights))\n",
    "        self.total_loss_tracker.update_state(total_loss)\n",
    "        self.reconstruction_loss_tracker.update_state(reconstruction_loss)\n",
    "        self.kl_loss_tracker.update_state(kl_loss)\n",
    "        return {\n",
    "            \"loss\": self.total_loss_tracker.result(),\n",
    "            \"reconstruction_loss\": self.reconstruction_loss_tracker.result(),\n",
    "            \"kl_loss\": self.kl_loss_tracker.result(),\n",
    "        }"
   ]
  },
  {
   "cell_type": "code",
   "execution_count": null,
   "id": "8dda92a6",
   "metadata": {
    "ExecuteTime": {
     "start_time": "2022-06-25T07:54:31.036Z"
    }
   },
   "outputs": [],
   "source": [
    "(x_train, _), (x_test, _) = keras.datasets.mnist.load_data()\n",
    "mnist_digits = np.concatenate([x_train, x_test], axis=0)\n",
    "mnist_digits = np.expand_dims(mnist_digits, -1).astype(\"float32\") / 255\n",
    "\n",
    "vae = VAE(encoder, decoder)\n",
    "vae.compile(optimizer=keras.optimizers.Adam())\n",
    "vae.fit(mnist_digits, epochs=30, batch_size=128)"
   ]
  },
  {
   "cell_type": "code",
   "execution_count": null,
   "id": "108a91fd",
   "metadata": {
    "ExecuteTime": {
     "start_time": "2022-06-25T07:54:31.040Z"
    }
   },
   "outputs": [],
   "source": [
    "import matplotlib.pyplot as plt\n",
    "def plot_latent_space(vae, n=30, figsize=15):\n",
    "    # display a n*n 2D manifold of digits\n",
    "    digit_size = 28\n",
    "    scale = 1.0\n",
    "    figure = np.zeros((digit_size * n, digit_size * n))\n",
    "    # linearly spaced coordinates corresponding to the 2D plot\n",
    "    # of digit classes in the latent space\n",
    "    grid_x = np.linspace(-scale, scale, n)\n",
    "    grid_y = np.linspace(-scale, scale, n)[::-1]\n",
    "\n",
    "    for i, yi in enumerate(grid_y):\n",
    "        for j, xi in enumerate(grid_x):\n",
    "            z_sample = np.array([[xi, yi]])\n",
    "            x_decoded = vae.decoder.predict(z_sample)\n",
    "            digit = x_decoded[0].reshape(digit_size, digit_size)\n",
    "            figure[\n",
    "                i * digit_size : (i + 1) * digit_size,\n",
    "                j * digit_size : (j + 1) * digit_size,\n",
    "            ] = digit\n",
    "\n",
    "    plt.figure(figsize=(figsize, figsize))\n",
    "    start_range = digit_size // 2\n",
    "    end_range = n * digit_size + start_range\n",
    "    pixel_range = np.arange(start_range, end_range, digit_size)\n",
    "    sample_range_x = np.round(grid_x, 1)\n",
    "    sample_range_y = np.round(grid_y, 1)\n",
    "    plt.xticks(pixel_range, sample_range_x)\n",
    "    plt.yticks(pixel_range, sample_range_y)\n",
    "    plt.xlabel(\"z[0]\")\n",
    "    plt.ylabel(\"z[1]\")\n",
    "    plt.imshow(figure, cmap=\"Greys_r\")\n",
    "    plt.show()\n",
    "plot_latent_space(vae)"
   ]
  },
  {
   "cell_type": "code",
   "execution_count": null,
   "id": "9d572850",
   "metadata": {
    "ExecuteTime": {
     "start_time": "2022-06-25T07:54:31.045Z"
    }
   },
   "outputs": [],
   "source": [
    "def plot_label_clusters(vae, data, labels):\n",
    "    # display a 2D plot of the digit classes in the latent space\n",
    "    z_mean, _, _ = vae.encoder.predict(data)\n",
    "    plt.figure(figsize=(12, 10))\n",
    "    plt.scatter(z_mean[:, 0], z_mean[:, 1], c=labels)\n",
    "    plt.colorbar()\n",
    "    plt.xlabel(\"z[0]\")\n",
    "    plt.ylabel(\"z[1]\")\n",
    "    plt.show()\n",
    "(x_train, y_train), _ = keras.datasets.mnist.load_data()\n",
    "x_train = np.expand_dims(x_train, -1).astype(\"float32\") / 255\n",
    "plot_label_clusters(vae, x_train, y_train)"
   ]
  },
  {
   "cell_type": "markdown",
   "id": "cb7ce13e",
   "metadata": {},
   "source": [
    "ae"
   ]
  },
  {
   "cell_type": "code",
   "execution_count": null,
   "id": "5dc72cc7",
   "metadata": {
    "ExecuteTime": {
     "start_time": "2022-06-25T07:54:31.055Z"
    }
   },
   "outputs": [],
   "source": [
    "from tensorflow.keras.layers import Input, Dense\n",
    "from tensorflow.keras.models import Model\n",
    "# this is the size of our encoded representations\n",
    "encoding_dim = 32 # 32 floats -> compression of factor 24.5, assuming the input is 784 floats, 28*28/32 = 24.5\n",
    "# this is our input placeholder\n",
    "input_img = Input(shape=(784,))\n",
    "# \"encoded\" is the encoded representation of the input\n",
    "encoded = Dense(encoding_dim, activation='relu')(input_img)\n",
    "# \"decoded\" is the lossy reconstruction of the input\n",
    "decoded = Dense(784, activation='sigmoid')(encoded)\n",
    "\n",
    "# this model maps an input to its reconstruction\n",
    "autoencoder = Model(input_img, decoded)\n",
    "# this model maps an input to its encoded representation\n",
    "encoder = Model(input_img, encoded)\n",
    "\n",
    "# create a placeholder for an encoded 32D input\n",
    "encoded_input = Input(shape=(encoding_dim,))\n",
    "# retrieve the last layer of the autoencoder model\n",
    "decoder_layer = autoencoder.layers[-1]\n",
    "# create the decoder model\n",
    "decoder = Model(encoded_input, decoder_layer(encoded_input))\n",
    "\n",
    "autoencoder.compile(optimizer='adam', loss='binary_crossentropy')\n",
    "\n",
    "from keras.datasets import mnist\n",
    "import numpy as np\n",
    "(x_train, _), (x_test, _) = mnist.load_data()\n",
    "x_train = x_train.astype('float32') / 255.\n",
    "x_test = x_test.astype('float32') / 255.\n",
    "x_train = x_train.reshape((len(x_train), np.prod(x_train.shape[1:])))\n",
    "x_test = x_test.reshape((len(x_test), np.prod(x_test.shape[1:])))\n",
    "print(x_train.shape)\n",
    "print(x_test.shape)\n",
    "autoencoder.fit(x_train, x_train, epochs=50, batch_size=256, shuffle=True, validation_data=(x_test,x_test))\n",
    "# encode and decode some digits\n",
    "# note that we take them from the *test* set\n",
    "encoded_imgs = encoder.predict(x_test)\n",
    "decoded_imgs = decoder.predict(encoded_imgs)\n",
    "\n",
    "# use matplotlib\n",
    "import matplotlib.pyplot as plt\n",
    "n = 10                     # how many digits we will display\n",
    "plt.figure(figsize=(20, 4))\n",
    "for i in range(n):\n",
    "    # display original\n",
    "    ax = plt.subplot(2, n, i + 1)\n",
    "    plt.imshow(x_test[i].reshape(28, 28))\n",
    "    plt.gray()\n",
    "    ax.get_xaxis().set_visible(False)\n",
    "    ax.get_yaxis().set_visible(False)\n",
    "\n",
    "    # display reconstruction\n",
    "    ax = plt.subplot(2, n, i + 1 + n)\n",
    "    plt.imshow(decoded_imgs[i].reshape(28, 28))\n",
    "    plt.gray()\n",
    "    ax.get_xaxis().set_visible(False)\n",
    "    ax.get_yaxis().set_visible(False)\n",
    "plt.show()"
   ]
  },
  {
   "cell_type": "markdown",
   "id": "13f84de9",
   "metadata": {},
   "source": [
    "denoising "
   ]
  },
  {
   "cell_type": "code",
   "execution_count": null,
   "id": "420f106f",
   "metadata": {
    "ExecuteTime": {
     "start_time": "2022-06-25T07:54:31.061Z"
    }
   },
   "outputs": [],
   "source": [
    "import matplotlib.pyplot as plt\n",
    "import numpy as np\n",
    "from tensorflow.keras.datasets import mnist\n",
    "from tensorflow.keras.layers import Dense\n",
    "from tensorflow.keras.models import Sequential\n",
    "(x_train, _), (x_test, _) = mnist.load_data()\n",
    "x_train = x_train.astype('float32') / 255.\n",
    "x_test = x_test.astype('float32') / 255.\n",
    "x_train = np.reshape(x_train, (len(x_train), 784))\n",
    "x_test = np.reshape(x_test, (len(x_test), 784))\n",
    "\n",
    "noise_factor = 0.5\n",
    "x_train_noisy = x_train + noise_factor * np.random.normal(loc=0.0, scale=1.0, size=x_train.shape) \n",
    "x_test_noisy = x_test + noise_factor * np.random.normal(loc=0.0, scale=1.0, size=x_test.shape) \n",
    "x_train_noisy = np.clip(x_train_noisy, 0., 1.)\n",
    "x_test_noisy = np.clip(x_test_noisy, 0., 1.)\n",
    "\n",
    "n = 10\n",
    "plt.figure(figsize=(20, 2))\n",
    "for i in range(1, n + 1):\n",
    "    ax = plt.subplot(1, n, i)\n",
    "    plt.imshow(x_test_noisy[i].reshape(28, 28))\n",
    "    plt.gray()\n",
    "    ax.get_xaxis().set_visible(False)\n",
    "    ax.get_yaxis().set_visible(False)\n",
    "plt.show()\n",
    "\n",
    "model = Sequential()\n",
    "model.add(Dense(128, activation='relu', input_dim=784))\n",
    "model.add(Dense(64, activation='relu'))\n",
    "model.add(Dense(32, activation='relu'))\n",
    "model.add(Dense(64, activation='relu'))\n",
    "model.add(Dense(128, activation='relu'))\n",
    "model.add(Dense(784, activation='sigmoid'))\n",
    "model.compile(optimizer='adam', loss='binary_crossentropy')\n",
    "model.fit(x_train_noisy, x_train, epochs=100,batch_size=256, shuffle=True, validation_data=(x_test_noisy,x_test))\n",
    "decoded_imgs = model.predict(x_test)\n",
    "n = 10\n",
    "plt.figure(figsize=(20, 6))\n",
    "for i in range(1, n+1):\n",
    "    # display original\n",
    "    ax = plt.subplot(3, n, i)\n",
    "    plt.imshow(x_test[i].reshape(28, 28))\n",
    "    plt.gray()\n",
    "    ax.get_xaxis().set_visible(False)\n",
    "    ax.get_yaxis().set_visible(False)\n",
    "    # display noisy\n",
    "    ax = plt.subplot(3, n, i + n)\n",
    "    plt.imshow(x_test_noisy[i].reshape(28, 28))\n",
    "    plt.gray()\n",
    "    ax.get_xaxis().set_visible(False)\n",
    "    ax.get_yaxis().set_visible(False)\n",
    "    # display reconstruction\n",
    "    ax = plt.subplot(3, n, i + 2*n)\n",
    "    plt.imshow(decoded_imgs[i].reshape(28, 28))\n",
    "    plt.gray()\n",
    "    ax.get_xaxis().set_visible(False)\n",
    "    ax.get_yaxis().set_visible(False)\n",
    "plt.show()"
   ]
  },
  {
   "cell_type": "markdown",
   "id": "415e7712",
   "metadata": {},
   "source": [
    "1D GAN"
   ]
  },
  {
   "cell_type": "code",
   "execution_count": null,
   "id": "ea478109",
   "metadata": {
    "ExecuteTime": {
     "start_time": "2022-06-25T07:54:31.066Z"
    }
   },
   "outputs": [],
   "source": [
    "import numpy as np\n",
    "def generate_real_samples(n):\n",
    "    '''generate n real samples with class labels'''\n",
    "    x1 = np.random.rand(n) - 0.5 # generate a random number between [-0.5,0.5]\n",
    "    x2 = x1**3                   # generate outputs\n",
    "    x1 = x1.reshape(n, 1)\n",
    "    x2 = x2.reshape(n, 1)\n",
    "    X = np.hstack((x1, x2))      # stack layers\n",
    "    y = np.ones((n, 1))          # generate class label\n",
    "    return X,y"
   ]
  },
  {
   "cell_type": "code",
   "execution_count": null,
   "id": "590ffd20",
   "metadata": {
    "ExecuteTime": {
     "start_time": "2022-06-25T07:54:31.070Z"
    }
   },
   "outputs": [],
   "source": [
    "from tensorflow.keras.models import Sequential\n",
    "from tensorflow.keras.layers import Dense, LeakyReLU\n",
    "from tensorflow.keras.utils import plot_model\n",
    "import matplotlib.pyplot as plt\n",
    "\n",
    "def define_discriminator(inputs = 2):\n",
    "    ''' function to return the compiled discriminator model'''\n",
    "    model = Sequential()\n",
    "    model.add(Dense(25, activation = 'relu', kernel_initializer = 'he_uniform', input_dim = inputs))\n",
    "    model.add(LeakyReLU(alpha = 0.01))\n",
    "    model.add(Dense(15, activation = 'relu', kernel_initializer = 'he_uniform'))\n",
    "    model.add(LeakyReLU(alpha = 0.01))\n",
    "    model.add(Dense(5, activation = 'relu', kernel_initializer = 'he_uniform'))\n",
    "    model.add(LeakyReLU(alpha = 0.01))\n",
    "    model.add(Dense(1, activation = 'sigmoid'))\n",
    "    model.compile(optimizer = 'adam', loss = 'binary_crossentropy', metrics = ['accuracy'])\n",
    "    return model\n",
    "\n",
    "discriminator_model = define_discriminator()\n",
    "discriminator_model.summary()\n",
    "plot_model(discriminator_model,to_file = 'discriminator_model.png',show_shapes = True,show_layer_names = True)"
   ]
  },
  {
   "cell_type": "code",
   "execution_count": null,
   "id": "f6ed18c3",
   "metadata": {
    "ExecuteTime": {
     "start_time": "2022-06-25T07:54:31.075Z"
    }
   },
   "outputs": [],
   "source": [
    "def define_generator(latent_dim, outputs = 2):\n",
    "    model = Sequential()\n",
    "    model.add(Dense(25, activation = 'relu', kernel_initializer= 'he_uniform', input_dim = latent_dim))\n",
    "    model.add(LeakyReLU(alpha = 0.01))\n",
    "    model.add(Dense(15, activation = 'relu', kernel_initializer = 'he_uniform'))\n",
    "    model.add(LeakyReLU(alpha = 0.01))\n",
    "    model.add(Dense(outputs, activation = 'linear'))\n",
    "    return model"
   ]
  },
  {
   "cell_type": "code",
   "execution_count": null,
   "id": "da8009d1",
   "metadata": {
    "ExecuteTime": {
     "start_time": "2022-06-25T07:54:31.078Z"
    }
   },
   "outputs": [],
   "source": [
    "latent_dim = 5\n",
    "generator_model = define_generator(latent_dim)\n",
    "generator_model.summary()\n",
    "plot_model(generator_model, to_file = 'generator_model.png', show_shapes = True, show_layer_names = True)"
   ]
  },
  {
   "cell_type": "code",
   "execution_count": null,
   "id": "7dafb291",
   "metadata": {
    "ExecuteTime": {
     "start_time": "2022-06-25T07:54:31.082Z"
    }
   },
   "outputs": [],
   "source": [
    "def generate_latent_points(latent_dim, n):\n",
    "    '''generate points in latent space as input for the generator'''\n",
    "    x_input = np.random.rand(latent_dim*n) #generate points in latent space\n",
    "    x_input = x_input.reshape(n,latent_dim)  #reshape\n",
    "    return x_input\n",
    "def generate_fake_samples(generator, latent_dim, n):\n",
    "    x_input = generate_latent_points(latent_dim, n) #genarate points in latent space\n",
    "    x = generator.predict(x_input) #predict outputs\n",
    "    y = np.zeros((n, 1))\n",
    "    return x, y"
   ]
  },
  {
   "cell_type": "code",
   "execution_count": null,
   "id": "a8f5b28e",
   "metadata": {
    "ExecuteTime": {
     "start_time": "2022-06-25T07:54:31.086Z"
    }
   },
   "outputs": [],
   "source": [
    "X, _ = generate_fake_samples(generator_model, latent_dim, 100)\n",
    "plt.scatter(X[:,0], X[:,1])\n",
    "plt.show()"
   ]
  },
  {
   "cell_type": "code",
   "execution_count": null,
   "id": "9f6a1b65",
   "metadata": {
    "ExecuteTime": {
     "start_time": "2022-06-25T07:54:31.091Z"
    }
   },
   "outputs": [],
   "source": [
    "def define_gan(generator, discriminator):\n",
    "    '''define the combined generator and discriminator model'''\n",
    "    discriminator.trainable = False\n",
    "    model = Sequential()\n",
    "    model.add(generator)\n",
    "    model.add(discriminator)\n",
    "    model.compile(optimizer = 'adam', loss = 'binary_crossentropy')\n",
    "    return model"
   ]
  },
  {
   "cell_type": "code",
   "execution_count": null,
   "id": "3650a835",
   "metadata": {
    "ExecuteTime": {
     "start_time": "2022-06-25T07:54:31.095Z"
    }
   },
   "outputs": [],
   "source": [
    "gan_model = define_gan(generator_model, discriminator_model)\n",
    "gan_model.summary()\n",
    "plot_model(gan_model, to_file = 'gan_model.png', show_layer_names = True, show_shapes = True)"
   ]
  },
  {
   "cell_type": "code",
   "execution_count": null,
   "id": "b34d0123",
   "metadata": {
    "ExecuteTime": {
     "start_time": "2022-06-25T07:54:31.099Z"
    }
   },
   "outputs": [],
   "source": [
    "def train_gan(g_model,d_model,gan_model,latent_dim, num_epochs = 10000,num_eval = 2000, batch_size = 128):\n",
    "    ''' function to train gan model'''\n",
    "    half_batch = int(batch_size/2)\n",
    "  # run epochs\n",
    "    for i in range(num_epochs):\n",
    "        X_real, y_real = generate_real_samples(half_batch) #generate real examples\n",
    "        d_model.train_on_batch(X_real, y_real)               # train on real data\n",
    "        X_fake, y_fake = generate_fake_samples(g_model, latent_dim, half_batch) #generate fake samples\n",
    "        d_model.train_on_batch(X_fake, y_fake)                #train on fake data\n",
    "        #prepare points in latent space as input for the generator\n",
    "        x_gan = generate_latent_points(latent_dim, batch_size)\n",
    "        y_gan = np.ones((batch_size, 1))    #generate fake labels for gan\n",
    "        gan_model.train_on_batch(x_gan, y_gan)\n",
    "        if (i+1) % num_eval == 0:\n",
    "            summarize_performance(i + 1, g_model, d_model, latent_dim)"
   ]
  },
  {
   "cell_type": "code",
   "execution_count": null,
   "id": "fc49fdc9",
   "metadata": {
    "ExecuteTime": {
     "start_time": "2022-06-25T07:54:31.103Z"
    }
   },
   "outputs": [],
   "source": [
    "def summarize_performance(epoch, generator, discriminator, latent_dim, n = 100):\n",
    "    '''evaluate the discriminator and plot real and fake samples'''\n",
    "    x_real, y_real = generate_real_samples(n)      #generate real samples\n",
    "    _, acc_real = discriminator.evaluate(x_real, y_real, verbose = 1)\n",
    "    x_fake, y_fake = generate_fake_samples(generator, latent_dim, n)\n",
    "    _, acc_fake = discriminator.evaluate(x_fake, y_fake, verbose = 1)\n",
    "    print('Epoch: ' + str(epoch) + ' Real Acc.: ' + str(acc_real) + ' Fake Acc.: '+ str(acc_fake))\n",
    "    plt.scatter(x_real[:,0], x_real[:,1], color = 'red')\n",
    "    plt.scatter(x_fake[:,0], x_fake[:,1], color = 'blue')\n",
    "    plt.show()"
   ]
  },
  {
   "cell_type": "code",
   "execution_count": null,
   "id": "85d1d9d0",
   "metadata": {
    "ExecuteTime": {
     "start_time": "2022-06-25T07:54:31.107Z"
    }
   },
   "outputs": [],
   "source": [
    "train_gan(generator_model, discriminator_model, gan_model, latent_dim)"
   ]
  },
  {
   "cell_type": "code",
   "execution_count": null,
   "id": "43b17ea0",
   "metadata": {
    "ExecuteTime": {
     "start_time": "2022-06-25T07:54:31.111Z"
    }
   },
   "outputs": [],
   "source": [
    "# train a GAN on a 1D function, y=sin(x)\n",
    "from numpy import hstack\n",
    "from numpy import zeros\n",
    "from numpy import ones\n",
    "from numpy import sin,pi\n",
    "from numpy.random import rand, randn\n",
    "from tensorflow.keras.models import Sequential\n",
    "from tensorflow.keras.layers import Dense\n",
    "from matplotlib import pyplot\n",
    "from matplotlib.ticker import MultipleLocator, FormatStrFormatter, AutoMinorLocator\n",
    "\n",
    "# generate points in latent space as input for the generator\n",
    "def generate_latent_points(latent_dim, n):\n",
    "    # generate points in the latent space\n",
    "    z_input = randn(latent_dim * n)\n",
    "    # reshape into a batch of inputs for the network\n",
    "    z_input = z_input.reshape(n, latent_dim)\n",
    "    return z_input\n",
    "\n",
    "# define the standalone generator model\n",
    "def define_generator(latent_dim, n_outputs= 2):\n",
    "    model = Sequential()\n",
    "#   model.add(Dense(15, activation='relu', kernel_initializer='he_uniform', input_dim=latent_dim))\n",
    "    model.add(Dense(15, activation='relu', input_dim=latent_dim))\n",
    "    model.add(Dense(n_outputs, activation='linear'))\n",
    "    return model\n",
    "\n",
    "# define the standalone discriminator model\n",
    "def define_discriminator(n_inputs= 2):\n",
    "    model = Sequential()\n",
    "#   model.add(Dense(25, activation='relu', kernel_initializer='he_uniform', input_dim=n_inputs))\n",
    "    model.add(Dense(25, activation='relu', input_dim=n_inputs))\n",
    "    model.add(Dense(1, activation='sigmoid'))\n",
    "    # compile model\n",
    "    model.compile(loss='binary_crossentropy', optimizer='adam', metrics=['accuracy'])\n",
    "    return model\n",
    "\n",
    "# define the combined generator and discriminator model, for updating the generator\n",
    "def define_gan(generator, discriminator):\n",
    "    # make weights in the discriminator not trainable\n",
    "    discriminator.trainable = False\n",
    "    # connect them\n",
    "    model = Sequential()\n",
    "    # add generator\n",
    "    model.add(generator)\n",
    "    # add the discriminator\n",
    "    model.add(discriminator)\n",
    "    # compile model\n",
    "    model.compile(loss='binary_crossentropy', optimizer='adam')\n",
    "    return model\n",
    "\n",
    "# generate n real samples with class labels\n",
    "def generate_real_samples(n):\n",
    "    # generate inputs in [-0.5, 0.5]*2.*pi\n",
    "    p = (rand(n) - 0.5)*2.*pi\n",
    "    # generate outputs sin(x)\n",
    "    q = sin(p)\n",
    "    # stack arrays\n",
    "    p = p.reshape(n, 1)\n",
    "    q = q.reshape(n, 1)\n",
    "    x = hstack((p, q))\n",
    "    # generate class labels\n",
    "    y = ones((n, 1))\n",
    "    return x, y\n",
    "\n",
    "# use the generator to generate n fake examples, with class labels\n",
    "def generate_fake_samples(generator, latent_dim, n):\n",
    "    # generate points in latent space\n",
    "    z_input = generate_latent_points(latent_dim, n)\n",
    "    # predict outputs\n",
    "    x = generator.predict(z_input)\n",
    "    # create class labels\n",
    "    y = zeros((n, 1))\n",
    "    return x, y\n",
    "\n",
    "# evaluate the discriminator and plot real and fake points\n",
    "def summarize_performance(epoch, generator, discriminator, latent_dim, n=100):\n",
    "    # prepare real samples\n",
    "    x_real, y_real = generate_real_samples(n)\n",
    "    # evaluate discriminator on real examples\n",
    "    _, acc_real = discriminator.evaluate(x_real, y_real, verbose=0)\n",
    "    # prepare fake examples\n",
    "    x_fake, y_fake = generate_fake_samples(generator, latent_dim, n)\n",
    "    # evaluate discriminator on fake examples\n",
    "    _, acc_fake = discriminator.evaluate(x_fake, y_fake, verbose=0)\n",
    "    # summarize discriminator performance\n",
    "    print(epoch, acc_real, acc_fake)\n",
    "    # scatter plot real and fake data points\n",
    "    pyplot.figure(figsize=(6,4))\n",
    "    ax=pyplot.axes()\n",
    "    ax.set_xlabel(r'$alpha$',fontsize=20)\n",
    "    ax.set_ylabel(r'$beta$',fontsize=20)\n",
    "#   ax.legend(fancybox=True, shadow=True, fontsize=15, framealpha=0.8)\n",
    "    majorLocator= MultipleLocator(1)\n",
    "    minorLocator= AutoMinorLocator()\n",
    "    majorFormatter= FormatStrFormatter('%d')\n",
    "    minorFormatter= FormatStrFormatter('%d')\n",
    "    ax.xaxis.set_major_locator(majorLocator)\n",
    "    ax.xaxis.set_major_formatter(majorFormatter)\n",
    "    ax.xaxis.set_minor_locator(minorLocator)\n",
    "    majorLocator= MultipleLocator(1)\n",
    "    minorLocator= AutoMinorLocator()\n",
    "    majorFormatter= FormatStrFormatter('%d')\n",
    "    minorFormatter= FormatStrFormatter('%d')\n",
    "    ax.yaxis.set_major_locator(majorLocator)\n",
    "    ax.yaxis.set_major_formatter(majorFormatter)\n",
    "    ax.yaxis.set_minor_locator(minorLocator)\n",
    "    ax.tick_params(which='major', length=2, color='black')\n",
    "    ax.tick_params(which='minor', length=4, color='brown')\n",
    "    ax.set_facecolor(\"beige\")\n",
    "    pyplot.grid(True)\n",
    "    pyplot.scatter(x_real[:, 0], x_real[:, 1], color='red', s=5)\n",
    "    pyplot.scatter(x_fake[:, 0], x_fake[:, 1], color='blue', s=5)\n",
    "    pyplot.tight_layout()\n",
    "    str1='sin'+str(epoch)+'.pdf'\n",
    "    pyplot.savefig(str1,dpi=150)\n",
    "#   pyplot.show()\n",
    "\n",
    "# train the generator and discriminator\n",
    "def train(g_model, d_model, gan_model, latent_dim, n_epochs=100000, n_batch=128, n_eval=2000):\n",
    "    # determine half the size of one batch, for updating the discriminator\n",
    "    half_batch = int(n_batch / 2)\n",
    "    # manually enumerate epochs\n",
    "    for i in range(n_epochs):\n",
    "        # prepare real samples\n",
    "        x_real, y_real = generate_real_samples(half_batch)\n",
    "        # prepare fake examples\n",
    "        x_fake, y_fake = generate_fake_samples(g_model, latent_dim, half_batch)\n",
    "        # update discriminator\n",
    "        d_model.train_on_batch(x_real, y_real)\n",
    "        d_model.train_on_batch(x_fake, y_fake)\n",
    "        # prepare points in latent space as input for the generator\n",
    "        x_gan = generate_latent_points(latent_dim, n_batch)\n",
    "        # create inverted labels for the fake samples\n",
    "        y_gan = ones((n_batch, 1))\n",
    "        # update the generator via the discriminator's error\n",
    "        gan_model.train_on_batch(x_gan, y_gan)\n",
    "        # evaluate the model every n_eval epochs\n",
    "        if (i+1) % n_eval == 0:\n",
    "            summarize_performance(i, g_model, d_model, latent_dim)\n",
    "\n",
    "# size of the latent space\n",
    "latent_dim = 10\n",
    "# create the discriminator\n",
    "discriminator = define_discriminator()\n",
    "# create the generator\n",
    "generator = define_generator(latent_dim)\n",
    "# create the GAN\n",
    "gan_model = define_gan(generator, discriminator)\n",
    "# train model\n",
    "train(generator, discriminator, gan_model, latent_dim)"
   ]
  },
  {
   "cell_type": "markdown",
   "id": "6a3265f5",
   "metadata": {},
   "source": [
    " \n",
    "MinMaxScaler: 0~1\n",
    "\n",
    "StandardScaler:  mean =0, variance=1"
   ]
  },
  {
   "cell_type": "markdown",
   "id": "5e64bdf6",
   "metadata": {},
   "source": [
    "https://www.kaggle.com/code/muammerhuseyinoglu/prediction-of-wine-quality/notebook"
   ]
  },
  {
   "cell_type": "code",
   "execution_count": null,
   "id": "4c0cc31f",
   "metadata": {
    "ExecuteTime": {
     "start_time": "2022-06-25T07:54:31.116Z"
    },
    "scrolled": true
   },
   "outputs": [],
   "source": [
    "import pandas as pd\n",
    "import matplotlib.pyplot as plt\n",
    "import seaborn as sns\n",
    "%matplotlib inline"
   ]
  },
  {
   "cell_type": "code",
   "execution_count": null,
   "id": "b6fe26c9",
   "metadata": {
    "ExecuteTime": {
     "start_time": "2022-06-25T07:54:31.120Z"
    },
    "scrolled": true
   },
   "outputs": [],
   "source": [
    "# loading dataset\n",
    "df = pd.read_csv('C:/Users/ihlee/testAI/winequality-red.csv')\n",
    "df.head(3)"
   ]
  },
  {
   "cell_type": "code",
   "execution_count": null,
   "id": "b498e6d6",
   "metadata": {
    "ExecuteTime": {
     "start_time": "2022-06-25T07:54:31.125Z"
    }
   },
   "outputs": [],
   "source": [
    "quality = df[\"quality\"].values\n",
    "category = []\n",
    "for num in quality:\n",
    "    if num<=5:\n",
    "        category.append(\"Bad\")\n",
    "    elif num>6:\n",
    "        category.append(\"Good\")\n",
    "    else:\n",
    "        category.append(\"Mid\")"
   ]
  },
  {
   "cell_type": "code",
   "execution_count": null,
   "id": "f4e54b12",
   "metadata": {
    "ExecuteTime": {
     "start_time": "2022-06-25T07:54:31.129Z"
    }
   },
   "outputs": [],
   "source": [
    "# information about the data columns\n",
    "df.info()"
   ]
  },
  {
   "cell_type": "code",
   "execution_count": null,
   "id": "19208b06",
   "metadata": {
    "ExecuteTime": {
     "start_time": "2022-06-25T07:54:31.133Z"
    }
   },
   "outputs": [],
   "source": [
    "# create new data\n",
    "category = pd.DataFrame(data=category, columns=[\"category\"])\n",
    "data = pd.concat([df,category],axis=1)\n",
    "data.drop(columns=\"quality\",axis=1,inplace=True)"
   ]
  },
  {
   "cell_type": "code",
   "execution_count": null,
   "id": "b3efc1e4",
   "metadata": {
    "ExecuteTime": {
     "start_time": "2022-06-25T07:54:31.138Z"
    }
   },
   "outputs": [],
   "source": [
    "# here we see that its quite a downing trend in the volatile acidity as we go higher the quality \n",
    "fig = plt.figure(figsize = (10,6))\n",
    "sns.barplot(x = 'quality', y = 'volatile acidity', data = df)"
   ]
  },
  {
   "cell_type": "code",
   "execution_count": null,
   "id": "a14e83bd",
   "metadata": {
    "ExecuteTime": {
     "start_time": "2022-06-25T07:54:31.142Z"
    }
   },
   "outputs": [],
   "source": [
    "data.head(3)"
   ]
  },
  {
   "cell_type": "code",
   "execution_count": null,
   "id": "0d03854e",
   "metadata": {
    "ExecuteTime": {
     "start_time": "2022-06-25T07:54:31.146Z"
    }
   },
   "outputs": [],
   "source": [
    "plt.figure(figsize=(10,6))\n",
    "sns.countplot(data[\"category\"],palette=\"muted\")\n",
    "data[\"category\"].value_counts()"
   ]
  },
  {
   "cell_type": "code",
   "execution_count": null,
   "id": "fcc6a947",
   "metadata": {
    "ExecuteTime": {
     "start_time": "2022-06-25T07:54:31.151Z"
    }
   },
   "outputs": [],
   "source": [
    "plt.figure(figsize=(12,6))\n",
    "sns.heatmap(df.corr(),annot=True)"
   ]
  },
  {
   "cell_type": "code",
   "execution_count": null,
   "id": "25882689",
   "metadata": {
    "ExecuteTime": {
     "start_time": "2022-06-25T07:54:31.158Z"
    }
   },
   "outputs": [],
   "source": [
    "plt.figure(figsize=(12,6))\n",
    "sns.barplot(x=df[\"quality\"],y=df[\"alcohol\"],palette=\"Reds\")"
   ]
  },
  {
   "cell_type": "code",
   "execution_count": null,
   "id": "1c37e1e7",
   "metadata": {
    "ExecuteTime": {
     "start_time": "2022-06-25T07:54:31.163Z"
    }
   },
   "outputs": [],
   "source": [
    "plt.figure(figsize=(12,6))\n",
    "sns.jointplot(y=df[\"density\"],x=df[\"alcohol\"],kind=\"hex\")"
   ]
  },
  {
   "cell_type": "code",
   "execution_count": null,
   "id": "1fd733fc",
   "metadata": {
    "ExecuteTime": {
     "start_time": "2022-06-25T07:54:31.169Z"
    }
   },
   "outputs": [],
   "source": [
    "X= data.iloc[:,:-1].values\n",
    "y=data.iloc[:,-1].values"
   ]
  },
  {
   "cell_type": "code",
   "execution_count": null,
   "id": "c0775878",
   "metadata": {
    "ExecuteTime": {
     "start_time": "2022-06-25T07:54:31.176Z"
    }
   },
   "outputs": [],
   "source": [
    "feature_names = [f\"feature {i}\" for i in range(X.shape[1])]\n",
    "print(feature_names)"
   ]
  },
  {
   "cell_type": "code",
   "execution_count": null,
   "id": "64a9126f",
   "metadata": {
    "ExecuteTime": {
     "start_time": "2022-06-25T07:54:31.182Z"
    }
   },
   "outputs": [],
   "source": [
    "from sklearn.preprocessing import LabelEncoder\n",
    "labelencoder_y =LabelEncoder()\n",
    "y= labelencoder_y.fit_transform(y)"
   ]
  },
  {
   "cell_type": "code",
   "execution_count": null,
   "id": "7d477bf3",
   "metadata": {
    "ExecuteTime": {
     "start_time": "2022-06-25T07:54:31.186Z"
    }
   },
   "outputs": [],
   "source": [
    "from imblearn.over_sampling import SMOTE\n",
    "oversample = SMOTE(k_neighbors=4)\n",
    "# transform the dataset\n",
    "X, y = oversample.fit_resample(X, y)"
   ]
  },
  {
   "cell_type": "code",
   "execution_count": null,
   "id": "afadfb80",
   "metadata": {
    "ExecuteTime": {
     "start_time": "2022-06-25T07:54:31.190Z"
    }
   },
   "outputs": [],
   "source": [
    "from sklearn.model_selection import train_test_split\n",
    "X_train, X_test, y_train, y_test = train_test_split(X, y, test_size = 0.2,random_state=0)"
   ]
  },
  {
   "cell_type": "code",
   "execution_count": null,
   "id": "722dfc62",
   "metadata": {
    "ExecuteTime": {
     "start_time": "2022-06-25T07:54:31.194Z"
    }
   },
   "outputs": [],
   "source": [
    "from sklearn.preprocessing import StandardScaler\n",
    "sc_X = StandardScaler()\n",
    "X_train = sc_X.fit_transform(X_train)\n",
    "X_test = sc_X.transform(X_test)"
   ]
  },
  {
   "cell_type": "markdown",
   "id": "3856e431",
   "metadata": {},
   "source": [
    "from sklearn.decomposition import PCA\n",
    "pca = PCA()\n",
    "x_pca = pca.fit_transform(X)\n",
    "#plot the graph to find the principal components\n",
    "plt.figure(figsize=(10,10))\n",
    "plt.plot(np.cumsum(pca.explained_variance_ratio_), 'ro-')\n",
    "plt.grid()"
   ]
  },
  {
   "cell_type": "markdown",
   "id": "4a4cdd2d",
   "metadata": {},
   "source": [
    "#AS per the graph, we can see that 8 principal components attribute for 90% of variation in the data. \n",
    "#we shall pick the first 8 components for our prediction.\n",
    "pca_new = PCA(n_components=8)\n",
    "x_new = pca_new.fit_transform(X)\n",
    "from sklearn.cross_validation import train_test_split\n",
    "X_train, X_test, y_train, y_test = train_test_split(x_new, y, test_size = 0.25)"
   ]
  },
  {
   "cell_type": "code",
   "execution_count": null,
   "id": "25d25243",
   "metadata": {
    "ExecuteTime": {
     "start_time": "2022-06-25T07:54:31.204Z"
    }
   },
   "outputs": [],
   "source": [
    "from sklearn.svm import SVC\n",
    "svc = SVC()\n",
    "svc.fit(X_train,y_train)\n",
    "pred_svc =svc.predict(X_test)"
   ]
  },
  {
   "cell_type": "code",
   "execution_count": null,
   "id": "b7c50ad3",
   "metadata": {
    "ExecuteTime": {
     "start_time": "2022-06-25T07:54:31.209Z"
    }
   },
   "outputs": [],
   "source": [
    "from sklearn.model_selection import cross_val_score\n",
    "from sklearn.metrics import accuracy_score\n",
    "from sklearn.metrics import plot_confusion_matrix\n",
    "from sklearn.metrics import confusion_matrix\n",
    "\n",
    "# predicting Cross Validation Score\n",
    "cv_dt = cross_val_score(estimator = svc, X = X_train, y = y_train, cv = 10)\n",
    "print(\"CV: \", cv_dt.mean())\n",
    "\n",
    "y_pred_dt_train = svc.predict(X_train)\n",
    "accuracy_dt_train = accuracy_score(y_train, y_pred_dt_train)\n",
    "print(\"Training set: \", accuracy_dt_train)\n",
    "\n",
    "y_pred_dt_test = svc.predict(X_test)\n",
    "accuracy_dt_test = accuracy_score(y_test, y_pred_dt_test)\n",
    "print(\"Test set: \", accuracy_dt_test)"
   ]
  },
  {
   "cell_type": "code",
   "execution_count": null,
   "id": "ecf2f53a",
   "metadata": {
    "ExecuteTime": {
     "start_time": "2022-06-25T07:54:31.213Z"
    }
   },
   "outputs": [],
   "source": [
    "con_mat = confusion_matrix(y_test,pred_svc)\n",
    "print('\\nCONFUSION MATRIX')\n",
    "plt.figure(figsize= (6,4))\n",
    "sns.heatmap(con_mat, annot = True,fmt='d',cmap=\"YlGnBu\")"
   ]
  },
  {
   "cell_type": "code",
   "execution_count": null,
   "id": "ef28732f",
   "metadata": {
    "ExecuteTime": {
     "start_time": "2022-06-25T07:54:31.218Z"
    }
   },
   "outputs": [],
   "source": [
    "from sklearn.metrics import classification_report,accuracy_score\n",
    "print(classification_report(y_test,pred_svc))"
   ]
  },
  {
   "cell_type": "code",
   "execution_count": null,
   "id": "2f4c1c73",
   "metadata": {
    "ExecuteTime": {
     "start_time": "2022-06-25T07:54:31.222Z"
    },
    "scrolled": true
   },
   "outputs": [],
   "source": [
    "from sklearn.ensemble import RandomForestClassifier\n",
    "rfc = RandomForestClassifier(n_estimators=250)\n",
    "rfc.fit(X_train, y_train)\n",
    "pred_rfc = rfc.predict(X_test)\n",
    "print(classification_report(y_test, pred_rfc))"
   ]
  },
  {
   "cell_type": "code",
   "execution_count": null,
   "id": "e2c78c6c",
   "metadata": {
    "ExecuteTime": {
     "start_time": "2022-06-25T07:54:31.227Z"
    },
    "scrolled": false
   },
   "outputs": [],
   "source": [
    "import numpy as np\n",
    "importances = rfc.feature_importances_\n",
    "std = np.std([tree.feature_importances_ for tree in rfc.estimators_], axis=0)\n",
    "forest_importances = pd.Series(importances, index=feature_names)\n",
    "\n",
    "fig, ax = plt.subplots()\n",
    "forest_importances.plot.bar(yerr=std, ax=ax)\n",
    "ax.set_title(\"Feature importances using MDI\")\n",
    "ax.set_ylabel(\"Mean decrease in impurity\")\n",
    "fig.tight_layout()"
   ]
  },
  {
   "cell_type": "code",
   "execution_count": null,
   "id": "2dd80950",
   "metadata": {
    "ExecuteTime": {
     "start_time": "2022-06-25T07:54:31.231Z"
    }
   },
   "outputs": [],
   "source": [
    "feat_importances = pd.Series(rfc.feature_importances_,index =feature_names)\n",
    "feat_importances.nlargest(11).plot(kind=\"barh\")\n",
    "plt.show()"
   ]
  },
  {
   "cell_type": "markdown",
   "id": "8d3b5857",
   "metadata": {},
   "source": [
    "pip install scikit-plot"
   ]
  },
  {
   "cell_type": "code",
   "execution_count": null,
   "id": "4a3bf4b2",
   "metadata": {
    "ExecuteTime": {
     "start_time": "2022-06-25T07:54:31.236Z"
    }
   },
   "outputs": [],
   "source": [
    "# predicting Cross Validation Score\n",
    "cv_dt = cross_val_score(estimator = rfc, X = X_train, y = y_train, cv = 10)\n",
    "print(\"CV: \", cv_dt.mean())\n",
    "\n",
    "y_pred_dt_train = rfc.predict(X_train)\n",
    "accuracy_dt_train = accuracy_score(y_train, y_pred_dt_train)\n",
    "print(\"Training set: \", accuracy_dt_train)\n",
    "\n",
    "y_pred_dt_test = rfc.predict(X_test)\n",
    "accuracy_dt_test = accuracy_score(y_test, y_pred_dt_test)\n",
    "print(\"Test set: \", accuracy_dt_test)"
   ]
  },
  {
   "cell_type": "code",
   "execution_count": null,
   "id": "fed7394d",
   "metadata": {
    "ExecuteTime": {
     "start_time": "2022-06-25T07:54:31.240Z"
    }
   },
   "outputs": [],
   "source": [
    "con_mat = confusion_matrix(y_test,pred_rfc)\n",
    "print('\\nCONFUSION MATRIX')\n",
    "plt.figure(figsize= (6,4))\n",
    "sns.heatmap(con_mat, annot = True,fmt='d',cmap=\"YlGnBu\")"
   ]
  },
  {
   "cell_type": "code",
   "execution_count": null,
   "id": "6de35686",
   "metadata": {
    "ExecuteTime": {
     "start_time": "2022-06-25T07:54:31.247Z"
    },
    "scrolled": true
   },
   "outputs": [],
   "source": [
    "from sklearn.neighbors import KNeighborsClassifier\n",
    "knn = KNeighborsClassifier()\n",
    "knn.fit(X_train,y_train)\n",
    "pred_knn=knn.predict(X_test)\n",
    "print(classification_report(y_test, pred_knn))"
   ]
  },
  {
   "cell_type": "code",
   "execution_count": null,
   "id": "f9cf6d99",
   "metadata": {
    "ExecuteTime": {
     "start_time": "2022-06-25T07:54:31.254Z"
    }
   },
   "outputs": [],
   "source": [
    "# predicting cross validation score\n",
    "cv_dt = cross_val_score(estimator = knn, X = X_train, y = y_train, cv = 10)\n",
    "print(\"CV: \", cv_dt.mean())\n",
    "\n",
    "y_pred_dt_train = knn.predict(X_train)\n",
    "accuracy_dt_train = accuracy_score(y_train, y_pred_dt_train)\n",
    "print(\"Training set: \", accuracy_dt_train)\n",
    "\n",
    "y_pred_dt_test = knn.predict(X_test)\n",
    "accuracy_dt_test = accuracy_score(y_test, y_pred_dt_test)\n",
    "print(\"Test set: \", accuracy_dt_test)"
   ]
  },
  {
   "cell_type": "code",
   "execution_count": null,
   "id": "2e3b4e53",
   "metadata": {
    "ExecuteTime": {
     "start_time": "2022-06-25T07:54:31.261Z"
    }
   },
   "outputs": [],
   "source": [
    "con_mat = confusion_matrix(y_test,pred_knn)\n",
    "print('\\nCONFUSION MATRIX')\n",
    "plt.figure(figsize= (6,4))\n",
    "sns.heatmap(con_mat, annot = True,fmt='d',cmap=\"YlGnBu\")"
   ]
  },
  {
   "cell_type": "code",
   "execution_count": null,
   "id": "0541f5ee",
   "metadata": {
    "ExecuteTime": {
     "start_time": "2022-06-25T07:54:31.267Z"
    }
   },
   "outputs": [],
   "source": [
    "conclusion = pd.DataFrame({'models': [\"SVC\",\"Random Forest\",\"KNN\"],\n",
    "     'accuracies': [accuracy_score(y_test,pred_svc),accuracy_score(y_test,pred_rfc),accuracy_score(y_test,pred_knn)]})\n",
    "conclusion"
   ]
  },
  {
   "cell_type": "code",
   "execution_count": null,
   "id": "fbd8e508",
   "metadata": {
    "ExecuteTime": {
     "start_time": "2022-06-25T07:54:31.274Z"
    },
    "scrolled": true
   },
   "outputs": [],
   "source": [
    "from xgboost import XGBClassifier\n",
    "xgb = XGBClassifier(learning_rate = 0.1, loss = 'deviance', n_estimators = 100)\n",
    "xgb.fit(X_train, y_train)"
   ]
  },
  {
   "cell_type": "code",
   "execution_count": null,
   "id": "f9658ea9",
   "metadata": {
    "ExecuteTime": {
     "start_time": "2022-06-25T07:54:31.281Z"
    }
   },
   "outputs": [],
   "source": [
    "# predicting cross validation score\n",
    "cv_dt = cross_val_score(estimator = xgb, X = X_train, y = y_train, cv = 10)\n",
    "print(\"CV: \", cv_dt.mean())\n",
    "\n",
    "y_pred_dt_train = xgb.predict(X_train)\n",
    "accuracy_dt_train = accuracy_score(y_train, y_pred_dt_train)\n",
    "print(\"Training set: \", accuracy_dt_train)\n",
    "\n",
    "y_pred_dt_test = xgb.predict(X_test)\n",
    "accuracy_dt_test = accuracy_score(y_test, y_pred_dt_test)\n",
    "print(\"Test set: \", accuracy_dt_test)"
   ]
  },
  {
   "cell_type": "code",
   "execution_count": null,
   "id": "031d20be",
   "metadata": {
    "ExecuteTime": {
     "start_time": "2022-06-25T07:54:31.286Z"
    }
   },
   "outputs": [],
   "source": [
    "con_mat = confusion_matrix(y_test,y_pred_dt_test)\n",
    "print('\\nCONFUSION MATRIX')\n",
    "plt.figure(figsize= (6,4))\n",
    "sns.heatmap(con_mat, annot = True,fmt='d',cmap=\"YlGnBu\")"
   ]
  },
  {
   "cell_type": "code",
   "execution_count": null,
   "id": "5250eaa9",
   "metadata": {
    "ExecuteTime": {
     "start_time": "2022-06-25T07:54:31.291Z"
    }
   },
   "outputs": [],
   "source": [
    "from lightgbm import LGBMClassifier\n",
    "lgbm = LGBMClassifier()\n",
    "lgbm.fit(X_train, y_train)"
   ]
  },
  {
   "cell_type": "code",
   "execution_count": null,
   "id": "bcedfb09",
   "metadata": {
    "ExecuteTime": {
     "start_time": "2022-06-25T07:54:31.296Z"
    },
    "scrolled": true
   },
   "outputs": [],
   "source": [
    "# predicting cross validation score\n",
    "cv_dt = cross_val_score(estimator = lgbm, X = X_train, y = y_train, cv = 10)\n",
    "print(\"CV: \", cv_dt.mean())\n",
    "\n",
    "y_pred_dt_train = lgbm.predict(X_train)\n",
    "accuracy_dt_train = accuracy_score(y_train, y_pred_dt_train)\n",
    "print(\"Training set: \", accuracy_dt_train)\n",
    "\n",
    "y_pred_dt_test = lgbm.predict(X_test)\n",
    "accuracy_dt_test = accuracy_score(y_test, y_pred_dt_test)\n",
    "print(\"Test set: \", accuracy_dt_test)"
   ]
  },
  {
   "cell_type": "code",
   "execution_count": null,
   "id": "a5deaabf",
   "metadata": {
    "ExecuteTime": {
     "start_time": "2022-06-25T07:54:31.302Z"
    }
   },
   "outputs": [],
   "source": [
    "con_mat = confusion_matrix(y_test,y_pred_dt_test)\n",
    "print('\\nCONFUSION MATRIX')\n",
    "plt.figure(figsize= (6,4))\n",
    "sns.heatmap(con_mat, annot = True,fmt='d',cmap=\"YlGnBu\")"
   ]
  },
  {
   "cell_type": "code",
   "execution_count": null,
   "id": "7b2363b9",
   "metadata": {
    "ExecuteTime": {
     "start_time": "2022-06-25T07:54:31.306Z"
    },
    "scrolled": true
   },
   "outputs": [],
   "source": [
    "from catboost import CatBoostClassifier\n",
    "cat = CatBoostClassifier()\n",
    "cat.fit(X_train, y_train)"
   ]
  },
  {
   "cell_type": "code",
   "execution_count": null,
   "id": "1f289e0f",
   "metadata": {
    "ExecuteTime": {
     "start_time": "2022-06-25T07:54:31.310Z"
    }
   },
   "outputs": [],
   "source": [
    "# predicting cross validation score\n",
    "cv_dt = cross_val_score(estimator = cat, X = X_train, y = y_train, cv = 10)\n",
    "print(\"CV: \", cv_dt.mean())\n",
    "\n",
    "y_pred_dt_train = cat.predict(X_train)\n",
    "accuracy_dt_train = accuracy_score(y_train, y_pred_dt_train)\n",
    "print(\"Training set: \", accuracy_dt_train)\n",
    "\n",
    "y_pred_dt_test = cat.predict(X_test)\n",
    "accuracy_dt_test = accuracy_score(y_test, y_pred_dt_test)\n",
    "print(\"Test set: \", accuracy_dt_test)"
   ]
  },
  {
   "cell_type": "code",
   "execution_count": null,
   "id": "a7791fb7",
   "metadata": {
    "ExecuteTime": {
     "start_time": "2022-06-25T07:54:31.314Z"
    }
   },
   "outputs": [],
   "source": [
    "con_mat = confusion_matrix(y_test,y_pred_dt_test)\n",
    "print('\\nCONFUSION MATRIX')\n",
    "plt.figure(figsize= (6,4))\n",
    "sns.heatmap(con_mat, annot = True,fmt='d',cmap=\"YlGnBu\")"
   ]
  },
  {
   "cell_type": "code",
   "execution_count": null,
   "id": "c0d641c2",
   "metadata": {
    "ExecuteTime": {
     "start_time": "2022-06-25T07:54:31.319Z"
    }
   },
   "outputs": [],
   "source": [
    "# oversample and plot imbalanced dataset with SMOTE\n",
    "from collections import Counter\n",
    "from sklearn.datasets import make_classification\n",
    "from imblearn.over_sampling import SMOTE\n",
    "from matplotlib import pyplot\n",
    "from numpy import where\n",
    "# define dataset\n",
    "X, y = make_classification(n_samples=10000, n_features=2, n_redundant=0,\n",
    "    n_clusters_per_class=1, weights=[0.99], flip_y=0, random_state=1)\n",
    "# summarize class distribution\n",
    "counter = Counter(y)\n",
    "print(counter)\n",
    "# transform the dataset\n",
    "oversample = SMOTE()\n",
    "X, y = oversample.fit_resample(X, y)\n",
    "# summarize the new class distribution\n",
    "counter = Counter(y)\n",
    "print(counter)\n",
    "# scatter plot of examples by class label\n",
    "for label, _ in counter.items():\n",
    "    row_ix = where(y == label)[0]\n",
    "    pyplot.scatter(X[row_ix, 0], X[row_ix, 1], label=str(label))\n",
    "pyplot.legend()\n",
    "pyplot.show()"
   ]
  },
  {
   "cell_type": "code",
   "execution_count": null,
   "id": "062ef787",
   "metadata": {
    "ExecuteTime": {
     "start_time": "2022-06-25T07:54:31.323Z"
    }
   },
   "outputs": [],
   "source": [
    "# decision tree evaluated on imbalanced dataset\n",
    "from numpy import mean\n",
    "from sklearn.datasets import make_classification\n",
    "from sklearn.model_selection import cross_val_score\n",
    "from sklearn.model_selection import RepeatedStratifiedKFold\n",
    "from sklearn.tree import DecisionTreeClassifier\n",
    "# define dataset\n",
    "X, y = make_classification(n_samples=10000, n_features=2, n_redundant=0,\n",
    "    n_clusters_per_class=1, weights=[0.99], flip_y=0, random_state=1)\n",
    "# define model\n",
    "model = DecisionTreeClassifier()\n",
    "# evaluate pipeline\n",
    "cv = RepeatedStratifiedKFold(n_splits=10, n_repeats=3, random_state=1)\n",
    "scores = cross_val_score(model, X, y, scoring='roc_auc', cv=cv, n_jobs=-1)\n",
    "print('Mean ROC AUC: %.3f' % mean(scores))"
   ]
  },
  {
   "cell_type": "code",
   "execution_count": null,
   "id": "a80a6e03",
   "metadata": {
    "ExecuteTime": {
     "start_time": "2022-06-25T07:54:31.327Z"
    }
   },
   "outputs": [],
   "source": [
    "# decision tree evaluated on imbalanced dataset with SMOTE oversampling\n",
    "from numpy import mean\n",
    "from sklearn.datasets import make_classification\n",
    "from sklearn.model_selection import cross_val_score\n",
    "from sklearn.model_selection import RepeatedStratifiedKFold\n",
    "from sklearn.tree import DecisionTreeClassifier\n",
    "from imblearn.pipeline import Pipeline\n",
    "from imblearn.over_sampling import SMOTE\n",
    "# define dataset\n",
    "X, y = make_classification(n_samples=10000, n_features=2, n_redundant=0,\n",
    "    n_clusters_per_class=1, weights=[0.99], flip_y=0, random_state=1)\n",
    "# define pipeline\n",
    "steps = [('over', SMOTE()), ('model', DecisionTreeClassifier())]\n",
    "pipeline = Pipeline(steps=steps)\n",
    "# evaluate pipeline\n",
    "cv = RepeatedStratifiedKFold(n_splits=10, n_repeats=3, random_state=1)\n",
    "scores = cross_val_score(pipeline, X, y, scoring='roc_auc', cv=cv, n_jobs=-1)\n",
    "print('Mean ROC AUC: %.3f' % mean(scores))"
   ]
  },
  {
   "cell_type": "code",
   "execution_count": null,
   "id": "6ca2e946",
   "metadata": {
    "ExecuteTime": {
     "start_time": "2022-06-25T07:54:31.331Z"
    }
   },
   "outputs": [],
   "source": [
    "from sklearn.preprocessing import LabelEncoder\n",
    "import pandas as pd\n",
    "items = [\"tv\", \"radio\", \"microwave\", \"mixer\", \"fan\", \"monitor\", \"keyboard\"]\n",
    "encoder = LabelEncoder()\n",
    "encoder.fit(items)\n",
    "labels = encoder.transform(items)\n",
    "print(labels)"
   ]
  },
  {
   "cell_type": "code",
   "execution_count": null,
   "id": "a0aeeb48",
   "metadata": {
    "ExecuteTime": {
     "start_time": "2022-06-25T07:54:31.335Z"
    }
   },
   "outputs": [],
   "source": [
    "print(encoder.classes_)"
   ]
  },
  {
   "cell_type": "code",
   "execution_count": null,
   "id": "9c6667b4",
   "metadata": {
    "ExecuteTime": {
     "start_time": "2022-06-25T07:54:31.338Z"
    }
   },
   "outputs": [],
   "source": [
    "print(encoder.inverse_transform([4, 5, 3, 2, 4, 2, 0, 1, 1]))"
   ]
  },
  {
   "cell_type": "code",
   "execution_count": null,
   "id": "071f2a23",
   "metadata": {
    "ExecuteTime": {
     "start_time": "2022-06-25T07:54:31.342Z"
    }
   },
   "outputs": [],
   "source": [
    "df = pd.DataFrame({'items': items})\n",
    "print(df)\n",
    "print(pd.get_dummies(df))"
   ]
  },
  {
   "cell_type": "code",
   "execution_count": null,
   "id": "ad786365",
   "metadata": {
    "ExecuteTime": {
     "start_time": "2022-06-25T07:54:31.346Z"
    }
   },
   "outputs": [],
   "source": [
    "from sklearn.datasets import load_iris\n",
    "from sklearn.tree import DecisionTreeClassifier\n",
    "from sklearn.model_selection import train_test_split\n",
    "from sklearn.metrics import accuracy_score  \n",
    "from sklearn.tree import export_graphviz\n",
    "#import graphviz\n",
    "iris = load_iris()\n",
    "iris_data = iris.data\n",
    "iris_target = iris.target\n",
    "\n",
    "X_train, X_test, y_train, y_test = train_test_split(iris_data, iris_target, test_size=0.2, random_state=1)\n",
    "\n",
    "clf = DecisionTreeClassifier(random_state=999)\n",
    "clf.fit(X_train, y_train)\n",
    "pred = clf.predict(X_test)\n",
    "\n",
    "score = accuracy_score(y_test, pred)\n",
    "print(score)"
   ]
  },
  {
   "cell_type": "code",
   "execution_count": null,
   "id": "ce5ab931",
   "metadata": {
    "ExecuteTime": {
     "start_time": "2022-06-25T07:54:31.350Z"
    }
   },
   "outputs": [],
   "source": [
    "import pandas as pd\n",
    "from sklearn.ensemble import VotingClassifier\n",
    "from sklearn.linear_model import LogisticRegression\n",
    "from sklearn.neighbors import KNeighborsClassifier\n",
    "from sklearn.datasets import load_breast_cancer\n",
    "from sklearn.model_selection import train_test_split\n",
    "from sklearn.metrics import accuracy_score\n",
    "cancer = load_breast_cancer()\n",
    "\n",
    "df = pd.DataFrame(cancer.data, columns=cancer.feature_names)\n",
    "\n",
    "lr_clf = LogisticRegression(solver=\"liblinear\")\n",
    "knn_clf = KNeighborsClassifier(n_neighbors=8)\n",
    "vo_clf = VotingClassifier(estimators=[(\"LR\", lr_clf), (\"KNN\", knn_clf)], voting=\"soft\")\n",
    "X_train, X_test, y_train, y_test = train_test_split(cancer.data, cancer.target, test_size=0.2, random_state=999)\n",
    "\n",
    "classifiers = [vo_clf, lr_clf, knn_clf]\n",
    "for classifier in classifiers:\n",
    "    classifier.fit(X_train, y_train)\n",
    "    pred = classifier.predict(X_test)\n",
    "    name = classifier.__class__.__name__\n",
    "    print(f\"{name} accuracy : {accuracy_score(y_test, pred)}\")"
   ]
  },
  {
   "cell_type": "code",
   "execution_count": null,
   "id": "b9c575a0",
   "metadata": {
    "ExecuteTime": {
     "start_time": "2022-06-25T07:54:31.353Z"
    }
   },
   "outputs": [],
   "source": [
    "from sklearn.datasets import load_breast_cancer\n",
    "from sklearn.ensemble import RandomForestClassifier\n",
    "from sklearn.model_selection import train_test_split\n",
    "import numpy as np\n",
    "from sklearn.model_selection import GridSearchCV\n",
    "cancer = load_breast_cancer()\n",
    "np.random.seed(9)\n",
    "X_train, X_test, y_train, y_test = train_test_split(cancer.data, cancer.target, stratify=cancer.target)\n",
    "\n",
    "params = {'n_estimators': [100], 'max_depth': [6, 8, 10, 12], 'min_samples_leaf': [8, 12, 18],\n",
    "          'min_samples_split': [8, 16, 20]}\n",
    "\n",
    "clf = RandomForestClassifier(n_estimators=100)\n",
    "grid_clf = GridSearchCV(clf, param_grid=params, cv=2, n_jobs=-1)  # -1 : represent for using CPU\n",
    "grid_clf.fit(X_train, y_train)\n",
    "\n",
    "print(f\"optimal parameters\\n{grid_clf.best_params_}\")\n",
    "print(f\"best score: {grid_clf.best_score_}\")"
   ]
  },
  {
   "cell_type": "code",
   "execution_count": null,
   "id": "b0b9bedb",
   "metadata": {
    "ExecuteTime": {
     "start_time": "2022-06-25T07:54:31.357Z"
    }
   },
   "outputs": [],
   "source": [
    "# MLP for Pima Indians dataset saved to single file\n",
    "from numpy import loadtxt\n",
    "from tensorflow.keras.models import Sequential\n",
    "from tensorflow.keras.layers import Dense\n",
    "# load pima indians dataset\n",
    "dataset = loadtxt(\"C:/Users/ihlee/testAI/scikitlearn_keras_examples/pima-indians-diabetes.csv\", delimiter=\",\")\n",
    "# split into input (X) and output (Y) variables\n",
    "X = dataset[:,0:8]\n",
    "Y = dataset[:,8]\n",
    "# define model\n",
    "model = Sequential()\n",
    "model.add(Dense(12, input_dim=8, activation='relu'))\n",
    "model.add(Dense(8, activation='relu'))\n",
    "model.add(Dense(1, activation='sigmoid'))\n",
    "# compile model\n",
    "model.compile(loss='binary_crossentropy', optimizer='adam', metrics=['accuracy'])\n",
    "# fit the model\n",
    "model.fit(X, Y, epochs=150, batch_size=10, verbose=0)\n",
    "# evaluate the model\n",
    "scores = model.evaluate(X, Y, verbose=0)\n",
    "print(\"%s: %.2f%%\" % (model.metrics_names[1], scores[1]*100))\n",
    "# save model and architecture to single file\n",
    "model.save(\"model.h5\")\n",
    "print(\"Saved model to disk\")"
   ]
  },
  {
   "cell_type": "code",
   "execution_count": null,
   "id": "a09a9eba",
   "metadata": {
    "ExecuteTime": {
     "start_time": "2022-06-25T07:54:31.361Z"
    },
    "scrolled": true
   },
   "outputs": [],
   "source": [
    "# load and evaluate a saved model\n",
    "from numpy import loadtxt\n",
    "from tensorflow.keras.models import load_model\n",
    "\n",
    "# load model\n",
    "model = load_model('model.h5')\n",
    "# summarize model.\n",
    "model.summary()\n",
    "# load dataset\n",
    "dataset = loadtxt(\"C:/Users/ihlee/testAI/scikitlearn_keras_examples/pima-indians-diabetes.csv\", delimiter=\",\")\n",
    "# split into input (X) and output (Y) variables\n",
    "X = dataset[:,0:8]\n",
    "Y = dataset[:,8]\n",
    "# evaluate the model\n",
    "score = model.evaluate(X, Y, verbose=0)\n",
    "print(\"%s: %.2f%%\" % (model.metrics_names[1], score[1]*100))"
   ]
  },
  {
   "cell_type": "code",
   "execution_count": null,
   "id": "7c491175",
   "metadata": {
    "ExecuteTime": {
     "start_time": "2022-06-25T07:54:31.365Z"
    }
   },
   "outputs": [],
   "source": [
    "# use scikit-learn to grid search the batch size and epochs\n",
    "import numpy\n",
    "from sklearn.model_selection import GridSearchCV\n",
    "from tensorflow.keras.models import Sequential\n",
    "from tensorflow.keras.layers import Dense\n",
    "from tensorflow.keras.wrappers.scikit_learn import KerasClassifier\n",
    "# function to create model, required for KerasClassifier\n",
    "def create_model(optimizer='adam'):\n",
    "    # create model\n",
    "    model = Sequential()\n",
    "    model.add(Dense(12, input_dim=8, activation='relu'))\n",
    "    model.add(Dense(1, activation='sigmoid'))\n",
    "    # compile model\n",
    "    model.compile(loss='binary_crossentropy', optimizer=optimizer, metrics=['accuracy'])\n",
    "    return model\n",
    "# fix random seed for reproducibility\n",
    "seed = 7\n",
    "numpy.random.seed(seed)\n",
    "# load dataset\n",
    "dataset = numpy.loadtxt(\"C:/Users/ihlee/testAI/scikitlearn_keras_examples/pima-indians-diabetes.csv\", delimiter=\",\")\n",
    "# split into input (X) and output (Y) variables\n",
    "X = dataset[:,0:8]\n",
    "Y = dataset[:,8]\n",
    "# create model\n",
    "model = KerasClassifier(build_fn=create_model, epochs=100, batch_size=10, verbose=0)\n",
    "# define the grid search parameters\n",
    "optimizer = ['SGD', 'RMSprop', 'Adagrad', 'Adadelta', 'Adam', 'Adamax', 'Nadam']\n",
    "param_grid = dict(optimizer=optimizer)\n",
    "grid = GridSearchCV(estimator=model, param_grid=param_grid, n_jobs=-1, cv=3)\n",
    "grid_result = grid.fit(X, Y)\n",
    "# summarize results\n",
    "print(\"Best: %f using %s\" % (grid_result.best_score_, grid_result.best_params_))\n",
    "means = grid_result.cv_results_['mean_test_score']\n",
    "stds = grid_result.cv_results_['std_test_score']\n",
    "params = grid_result.cv_results_['params']\n",
    "for mean, stdev, param in zip(means, stds, params):\n",
    "    print(\"%f (%f) with: %r\" % (mean, stdev, param))"
   ]
  },
  {
   "cell_type": "markdown",
   "id": "a64c8b74",
   "metadata": {},
   "source": [
    "import joblib\n",
    "\n",
    "save model\n",
    "joblib.dump(my_model, 'lgb.pkl')\n",
    "\n",
    "load model\n",
    "gbm_pickle = joblib.load('lgb.pkl')"
   ]
  },
  {
   "cell_type": "code",
   "execution_count": null,
   "id": "fa69e1cb",
   "metadata": {
    "ExecuteTime": {
     "start_time": "2022-06-25T07:54:31.369Z"
    }
   },
   "outputs": [],
   "source": [
    "import joblib\n",
    "import lightgbm as lgb\n",
    "from sklearn.datasets import make_regression\n",
    "X, y = make_regression(n_samples=1000, n_features=10)\n",
    "reg = lgb.LGBMRegressor(n_estimators=10,verbose=-1,)\n",
    "reg.fit(X, y)\n",
    "joblib.dump(reg, 'lgb.pkl')"
   ]
  },
  {
   "cell_type": "code",
   "execution_count": null,
   "id": "d290bf23",
   "metadata": {
    "ExecuteTime": {
     "start_time": "2022-06-25T07:54:31.373Z"
    }
   },
   "outputs": [],
   "source": [
    "import joblib\n",
    "from sklearn.datasets import make_regression\n",
    "X, y = make_regression(n_samples=1000, n_features=10)\n",
    "reg = joblib.load('lgb.pkl')\n",
    "preds = reg.predict(X)\n",
    "print(preds)"
   ]
  },
  {
   "cell_type": "markdown",
   "id": "de34b5b7",
   "metadata": {
    "ExecuteTime": {
     "end_time": "2022-06-24T12:23:09.811840Z",
     "start_time": "2022-06-24T12:23:02.976092Z"
    }
   },
   "source": [
    "!pip install pydot"
   ]
  },
  {
   "cell_type": "markdown",
   "id": "4af9fdbf",
   "metadata": {
    "ExecuteTime": {
     "end_time": "2022-06-24T12:23:19.564795Z",
     "start_time": "2022-06-24T12:23:12.531039Z"
    }
   },
   "source": [
    "!pip install graphviz"
   ]
  },
  {
   "cell_type": "markdown",
   "id": "2e3e010f",
   "metadata": {
    "ExecuteTime": {
     "end_time": "2022-06-24T12:39:44.386612Z",
     "start_time": "2022-06-24T12:29:29.719436Z"
    }
   },
   "source": [
    "!conda install graphviz python-graphviz"
   ]
  },
  {
   "cell_type": "markdown",
   "id": "4c453c26",
   "metadata": {},
   "source": [
    "https://github.com/microsoft/LightGBM/blob/master/examples/python-guide/plot_example.py"
   ]
  },
  {
   "cell_type": "code",
   "execution_count": null,
   "id": "a449a3d5",
   "metadata": {
    "ExecuteTime": {
     "start_time": "2022-06-25T07:54:31.380Z"
    }
   },
   "outputs": [],
   "source": [
    "# coding: utf-8\n",
    "import lightgbm as lgb\n",
    "import pandas as pd\n",
    "\n",
    "if lgb.compat.MATPLOTLIB_INSTALLED:\n",
    "    import matplotlib.pyplot as plt\n",
    "else:\n",
    "    raise ImportError('You need to install matplotlib for plot_example.py.')\n",
    "\n",
    "print('Loading data...')\n",
    "# load or create your dataset\n",
    "df_train = pd.read_csv('C:/Users/ihlee/testAI/regression/regression.train', header=None, sep='\\t')\n",
    "df_test = pd.read_csv('C:/Users/ihlee/testAI/regression/regression.test', header=None, sep='\\t')\n",
    "\n",
    "y_train = df_train[0]\n",
    "y_test = df_test[0]\n",
    "X_train = df_train.drop(0, axis=1)\n",
    "X_test = df_test.drop(0, axis=1)\n",
    "\n",
    "# create dataset for lightgbm\n",
    "lgb_train = lgb.Dataset(X_train, y_train)\n",
    "lgb_test = lgb.Dataset(X_test, y_test, reference=lgb_train)\n",
    "\n",
    "# specify your configurations as a dict\n",
    "params = {\n",
    "    'num_leaves': 5,\n",
    "    'metric': ('l1', 'l2'),\n",
    "    'verbose': 0\n",
    "}\n",
    "\n",
    "evals_result = {}  # to record eval results for plotting\n",
    "\n",
    "print('Starting training...')\n",
    "# train\n",
    "gbm = lgb.train(params,\n",
    "                lgb_train,\n",
    "                num_boost_round=100,\n",
    "                valid_sets=[lgb_train, lgb_test],\n",
    "                feature_name=['f' + str(i + 1) for i in range(X_train.shape[-1])],\n",
    "                categorical_feature=[21],\n",
    "                evals_result=evals_result,\n",
    "                verbose_eval=10)\n",
    "\n",
    "if False:\n",
    "    print('Plotting metrics recorded during training...')\n",
    "    ax = lgb.plot_metric(evals_result, metric='l1')\n",
    "    plt.show()\n",
    "\n",
    "    print('Plotting feature importances...')\n",
    "    ax = lgb.plot_importance(gbm, max_num_features=10)\n",
    "    plt.show()\n",
    "\n",
    "    print('Plotting split value histogram...')\n",
    "    ax = lgb.plot_split_value_histogram(gbm, feature='f26', bins='auto')\n",
    "    plt.show()\n",
    "\n",
    "    print('Plotting 54th tree...')  # one tree use categorical feature to split\n",
    "    ax = lgb.plot_tree(gbm, tree_index=53, figsize=(15, 15), show_info=['split_gain'])\n",
    "    plt.show()\n",
    "\n",
    "    print('Plotting 54th tree with graphviz...')\n",
    "    graph = lgb.create_tree_digraph(gbm, tree_index=53, name='Tree54')\n",
    "    graph.render(view=True)"
   ]
  },
  {
   "cell_type": "markdown",
   "id": "93078af9",
   "metadata": {},
   "source": [
    "https://raw.githubusercontent.com/microsoft/LightGBM/master/examples/python-guide/simple_example.py"
   ]
  },
  {
   "cell_type": "code",
   "execution_count": null,
   "id": "96c2320e",
   "metadata": {
    "ExecuteTime": {
     "start_time": "2022-06-25T07:54:31.385Z"
    }
   },
   "outputs": [],
   "source": [
    "# coding: utf-8\n",
    "import lightgbm as lgb\n",
    "import pandas as pd\n",
    "from sklearn.metrics import mean_squared_error\n",
    "\n",
    "print('Loading data...')\n",
    "# load or create your dataset\n",
    "df_train = pd.read_csv('C:/Users/ihlee/testAI/regression/regression.train', header=None, sep='\\t')\n",
    "df_test = pd.read_csv('C:/Users/ihlee/testAI/regression/regression.test', header=None, sep='\\t')\n",
    "\n",
    "y_train = df_train[0]\n",
    "y_test = df_test[0]\n",
    "X_train = df_train.drop(0, axis=1)\n",
    "X_test = df_test.drop(0, axis=1)\n",
    "\n",
    "# create dataset for lightgbm\n",
    "lgb_train = lgb.Dataset(X_train, y_train)\n",
    "lgb_eval = lgb.Dataset(X_test, y_test, reference=lgb_train)\n",
    "\n",
    "# specify your configurations as a dict\n",
    "params = {\n",
    "    'boosting_type': 'gbdt',\n",
    "    'objective': 'regression',\n",
    "    'metric': {'l2', 'l1'},\n",
    "    'num_leaves': 31,\n",
    "    'learning_rate': 0.05,\n",
    "    'feature_fraction': 0.9,\n",
    "    'bagging_fraction': 0.8,\n",
    "    'bagging_freq': 5,\n",
    "    'verbose': 0\n",
    "}\n",
    "\n",
    "print('Starting training...')\n",
    "# train\n",
    "gbm = lgb.train(params,\n",
    "                lgb_train,\n",
    "                num_boost_round=20,\n",
    "                valid_sets=lgb_eval,\n",
    "                early_stopping_rounds=5)\n",
    "\n",
    "print('Saving model...')\n",
    "# save model to file\n",
    "gbm.save_model('model.txt')\n",
    "\n",
    "print('Starting predicting...')\n",
    "# predict\n",
    "y_pred = gbm.predict(X_test, num_iteration=gbm.best_iteration)\n",
    "# eval\n",
    "print('The rmse of prediction is:', mean_squared_error(y_test, y_pred) ** 0.5)"
   ]
  },
  {
   "cell_type": "code",
   "execution_count": null,
   "id": "d3cb8986",
   "metadata": {
    "ExecuteTime": {
     "start_time": "2022-06-25T07:54:31.388Z"
    }
   },
   "outputs": [],
   "source": [
    "# example of plotting learning curves\n",
    "from sklearn.datasets import make_classification\n",
    "from tensorflow.keras import Sequential\n",
    "from tensorflow.keras.layers import Dense\n",
    "from tensorflow.keras.optimizers import SGD\n",
    "from tensorflow.keras.utils import plot_model\n",
    "from matplotlib import pyplot\n",
    "X, y = make_classification(n_samples=1000, n_classes=2, random_state=1)\n",
    "n_features = X.shape[1]\n",
    "model = Sequential()\n",
    "model.add(Dense(10, activation='relu', kernel_initializer='he_normal', input_shape=(n_features,)))\n",
    "model.add(Dense(1, activation='sigmoid'))\n",
    "sgd = SGD(learning_rate=0.001, momentum=0.8)\n",
    "model.compile(optimizer=sgd, loss='binary_crossentropy')\n",
    "history = model.fit(X,y, epochs=300,batch_size=32,verbose=0,validation_split=0.3)\n",
    "pyplot.title('Learning Curves')\n",
    "pyplot.xlabel('Epoch')\n",
    "pyplot.ylabel('Cross Entropy')\n",
    "pyplot.plot(history.history['loss'], label='train')\n",
    "pyplot.plot(history.history['val_loss'], label='val')\n",
    "pyplot.legend()\n",
    "pyplot.show()\n",
    "plot_model(model,'model.png', show_shapes=True)"
   ]
  },
  {
   "cell_type": "code",
   "execution_count": null,
   "id": "b40202b2",
   "metadata": {
    "ExecuteTime": {
     "start_time": "2022-06-25T07:54:31.393Z"
    }
   },
   "outputs": [],
   "source": [
    "# binary classification\n",
    "# a training program with keras\n",
    "import time\n",
    "from sklearn.model_selection import train_test_split\n",
    "from sklearn.utils import shuffle\n",
    "from tensorflow.keras.models import Sequential\n",
    "from tensorflow.keras.layers import Dense\n",
    "from tensorflow.keras.layers import Dropout\n",
    "import numpy as np\n",
    "import random\n",
    "import tensorflow as tf\n",
    "np.random.seed(34)\n",
    "# fix random seed for reproducibility\n",
    "# np.random.seed(7)\n",
    "# load pima indians dataset\n",
    "dataset = np.loadtxt(\"C:/Users/ihlee/testAI/scikitlearn_keras_examples/pima-indians-diabetes.csv\", delimiter=\",\")\n",
    "# split into input (X) and output (Y) variables\n",
    "X = dataset[:,0:8]\n",
    "Y = dataset[:,8]\n",
    "X, Y = shuffle(X,Y,random_state=0)\n",
    "x_train, x_test, y_train, y_test= train_test_split(X,Y, test_size=0.2)\n",
    "model = Sequential()\n",
    "model.add(Dense(16, input_dim=8, activation='relu'))\n",
    "for i in range(2):\n",
    "    model.add(Dense(8, activation='relu'))\n",
    "    model.add(Dropout(0.2))\n",
    "model.add(Dense(1, activation='sigmoid'))\n",
    "model.summary()\n",
    "model.compile(loss='binary_crossentropy', optimizer='adam', metrics=['accuracy'])\n",
    "model.fit(x_train, y_train, validation_split=0.10, epochs=300, batch_size=5, verbose=2)\n",
    "# evaluate the model\n",
    "scores = model.evaluate(x_test, y_test)\n",
    "print(\"\\n%s: %.2f%%\" % (model.metrics_names[1], scores[1]*100))\n",
    "predictions=model.predict(x_test)\n",
    "rounded=[round(x[0]) for x in predictions]\n",
    "print(rounded)\n",
    "if True:\n",
    "# serialize model to JSON\n",
    "    model_json = model.to_json()\n",
    "    with open(\"model.json\", \"w\") as json_file:\n",
    "        json_file.write(model_json)\n",
    "# serialize weights to HDF5\n",
    "    model.save_weights(\"model.h5\")\n",
    "    print(\"Saved model to disk\")"
   ]
  },
  {
   "cell_type": "code",
   "execution_count": null,
   "id": "a4020e42",
   "metadata": {
    "ExecuteTime": {
     "start_time": "2022-06-25T07:54:31.397Z"
    }
   },
   "outputs": [],
   "source": [
    "import tensorflow\n",
    "print(tensorflow.__version__)\n",
    "import tensorflow.python.platform.build_info as build\n",
    "print(build.build_info)\n",
    "\n",
    "import tensorflow as tf\n",
    "tf.test.is_gpu_available()\n",
    "tf.test.is_built_with_cuda()\n",
    "\n",
    "tf.config.list_physical_devices('GPU')\n",
    "tf.config.list_physical_devices('CPU')\n",
    "\n",
    "from tensorflow.python.client import device_lib\n",
    "print(device_lib.list_local_devices())"
   ]
  },
  {
   "cell_type": "code",
   "execution_count": null,
   "id": "1b27c92c",
   "metadata": {
    "ExecuteTime": {
     "start_time": "2022-06-25T07:54:31.400Z"
    }
   },
   "outputs": [],
   "source": [
    "import tensorflow as tf\n",
    "print(tf.test.is_gpu_available())\n",
    "print(tf.test.gpu_device_name())\n",
    "tf.config.experimental.list_physical_devices(device_type='GPU')"
   ]
  },
  {
   "cell_type": "code",
   "execution_count": null,
   "id": "fddf4372",
   "metadata": {
    "ExecuteTime": {
     "start_time": "2022-06-25T07:54:31.404Z"
    }
   },
   "outputs": [],
   "source": [
    "import os\n",
    "import tensorflow as tf\n",
    "os.environ[\"CUDA_VISIBLE_DEVICES\"]=\"0\"\n",
    "gpus = tf.config.experimental.list_physical_devices('GPU')\n",
    "if gpus:\n",
    "    try:\n",
    "        tf.config.experimental.set_memory_growth(gpus[0], True)\n",
    "    except RuntimeError as e:\n",
    "        print(e)"
   ]
  },
  {
   "cell_type": "code",
   "execution_count": null,
   "id": "d495395c",
   "metadata": {
    "ExecuteTime": {
     "start_time": "2022-06-25T07:54:31.409Z"
    },
    "scrolled": true
   },
   "outputs": [],
   "source": [
    "%matplotlib inline\n",
    "import warnings\n",
    "warnings.simplefilter(action='ignore', category=FutureWarning)\n",
    "import matplotlib.pyplot as plt\n",
    "import sys\n",
    "import tensorflow as tf\n",
    "#import keras\n",
    "from tensorflow import keras\n",
    "from tensorflow.keras.models import Sequential\n",
    "from tensorflow.keras.layers import Dense, Dropout, Flatten\n",
    "from tensorflow.keras.layers.convolutional import Conv2D, MaxPooling2D\n",
    "import numpy as np\n",
    "np.random.seed(7)\n",
    "print('Python version : ', sys.version)\n",
    "print('TensorFlow version : ', tf.__version__)\n",
    "print('Keras version : ', keras.__version__)\n",
    "img_rows = 28\n",
    "img_cols = 28\n",
    "#(x_train, y_train), (x_test, y_test) = keras.datasets.mnist.load_data()\n",
    "(x_train, y_train), (x_test, y_test) = tf.keras.datasets.mnist.load_data()\n",
    "input_shape = (img_rows, img_cols, 1)\n",
    "x_train = x_train.reshape(x_train.shape[0], img_rows, img_cols, 1)\n",
    "x_test = x_test.reshape(x_test.shape[0], img_rows, img_cols, 1)\n",
    "x_train = x_train.astype('float32') / 255.\n",
    "x_test = x_test.astype('float32') / 255.\n",
    "print('x_train shape:', x_train.shape)\n",
    "print(x_train.shape[0], 'train samples')\n",
    "print(x_test.shape[0], 'test samples')\n",
    "batch_size = 128\n",
    "num_classes = 10\n",
    "epochs = 12\n",
    "y_train = keras.utils.to_categorical(y_train, num_classes)\n",
    "y_test = keras.utils.to_categorical(y_test, num_classes)\n",
    "model = Sequential()\n",
    "model.add(Conv2D(32,kernel_size=(5,5),strides=(1,1),padding='same',activation='relu',input_shape=input_shape))\n",
    "model.add(MaxPooling2D(pool_size=(2,2),strides=(2,2)))\n",
    "model.add(Conv2D(64, (2, 2), activation='relu', padding='same'))\n",
    "model.add(MaxPooling2D(pool_size=(2, 2)))\n",
    "model.add(Dropout(0.25))\n",
    "model.add(Flatten())\n",
    "model.add(Dense(1000, activation='relu'))\n",
    "model.add(Dropout(0.5))\n",
    "model.add(Dense(num_classes, activation='softmax'))\n",
    "model.summary()\n",
    "from IPython.display import SVG\n",
    "from keras.utils.vis_utils import model_to_dot\n",
    "SVG(model_to_dot(model, show_shapes=True).create(prog='dot', format='svg'))\n",
    "model.compile(loss='categorical_crossentropy', optimizer='adam', metrics=['accuracy'])\n",
    "hist = model.fit(x_train, y_train,batch_size=batch_size, epochs=epochs,verbose=1, validation_data=(x_test, y_test))\n",
    "score = model.evaluate(x_test, y_test, verbose=0)\n",
    "print('Test loss:', score[0])\n",
    "print('Test accuracy:', score[1])\n",
    "model.save('MNIST_CNN_model.h5')\n",
    "n = 0\n",
    "plt.imshow(x_test[n].reshape(28, 28), cmap='Greys', interpolation='nearest')\n",
    "plt.show()\n",
    "\n",
    "print('The Answer is ', model.predict_classes(x_test[n].reshape((1, 28, 28, 1))))\n",
    "import random\n",
    "predicted_result = model.predict(x_test)\n",
    "predicted_labels = np.argmax(predicted_result, axis=1)\n",
    "test_labels = np.argmax(y_test, axis=1)\n",
    "wrong_result = []\n",
    "for n in range(0, len(test_labels)):\n",
    "    if predicted_labels[n] != test_labels[n]:\n",
    "        wrong_result.append(n)\n",
    "samples = random.choices(population=wrong_result, k=16)\n",
    "count = 0\n",
    "nrows = ncols = 4\n",
    "plt.figure(figsize=(12,8))\n",
    "for n in samples:\n",
    "    count += 1\n",
    "    plt.subplot(nrows, ncols, count)\n",
    "    plt.imshow(x_test[n].reshape(28, 28), cmap='Greys', interpolation='nearest')\n",
    "    tmp = \"Label:\" + str(test_labels[n]) + \", Prediction:\" + str(predicted_labels[n])\n",
    "    plt.title(tmp)\n",
    "\n",
    "plt.tight_layout()\n",
    "plt.show()"
   ]
  },
  {
   "cell_type": "code",
   "execution_count": null,
   "id": "7498f3bd",
   "metadata": {
    "ExecuteTime": {
     "start_time": "2022-06-25T07:54:31.413Z"
    }
   },
   "outputs": [],
   "source": [
    "%matplotlib inline\n",
    "import warnings\n",
    "warnings.simplefilter(action='ignore', category=FutureWarning)\n",
    "import sys\n",
    "import tensorflow as tf\n",
    "#import keras\n",
    "from tensorflow import keras\n",
    "print('Python version : ', sys.version)\n",
    "print('TensorFlow version : ', tf.__version__)\n",
    "print('Keras version : ', keras.__version__)\n",
    "#from keras.models import load_model\n",
    "model = tf.keras.models.load_model('MNIST_CNN_model.h5')\n",
    "model.summary()\n",
    "import matplotlib.pyplot as plt\n",
    "\n",
    "if False:\n",
    "    test1 = plt.imread('./my_num/re_1.jpg')\n",
    "    plt.imshow(test1);\n",
    "    test_num = plt.imread('./my_num/re_1.jpg')\n",
    "    test_num = test_num[:,:,0]\n",
    "    test_num = (test_num > 125) * test_num\n",
    "    test_num = test_num.astype('float32') / 255.\n",
    "    plt.imshow(test_num, cmap='Greys', interpolation='nearest');\n",
    "    test_num = test_num.reshape((1, 28, 28, 1))\n",
    "    print('The Answer is ', model.predict_classes(test_num))"
   ]
  },
  {
   "cell_type": "code",
   "execution_count": null,
   "id": "2c99beec",
   "metadata": {
    "ExecuteTime": {
     "start_time": "2022-06-25T07:54:31.417Z"
    }
   },
   "outputs": [],
   "source": [
    "# simple CNN model for the CIFAR-10 Dataset\n",
    "from keras.datasets import cifar10\n",
    "from keras.models import Sequential\n",
    "from keras.layers import Dense\n",
    "from keras.layers import Dropout\n",
    "from keras.layers import Flatten\n",
    "from keras.constraints import maxnorm\n",
    "from keras.optimizers import SGD\n",
    "from keras.layers.convolutional import Conv2D\n",
    "from keras.layers.convolutional import MaxPooling2D\n",
    "from keras.utils import np_utils\n",
    "(X_train, y_train), (X_test, y_test) = cifar10.load_data()\n",
    "# normalize inputs from 0-255 to 0.0-1.0\n",
    "X_train = X_train.astype('float32')\n",
    "X_test = X_test.astype('float32')\n",
    "X_train = X_train / 255.0\n",
    "X_test = X_test / 255.0\n",
    "# one hot encode outputs\n",
    "y_train = np_utils.to_categorical(y_train)\n",
    "y_test = np_utils.to_categorical(y_test)\n",
    "num_classes = y_test.shape[1]\n",
    "model = Sequential()\n",
    "model.add(Conv2D(32,(3,3),input_shape=(32,32,3),padding='same',activation='relu',kernel_constraint=maxnorm(3)))\n",
    "model.add(Dropout(0.2))\n",
    "model.add(Conv2D(32,(3,3),activation='relu',padding='same',kernel_constraint=maxnorm(3)))\n",
    "model.add(MaxPooling2D())\n",
    "model.add(Flatten())\n",
    "model.add(Dense(512,activation='relu',kernel_constraint=maxnorm(3)))\n",
    "model.add(Dropout(0.5))\n",
    "model.add(Dense(num_classes,activation='softmax'))\n",
    "epochs = 25\n",
    "lrate = 0.01\n",
    "decay = lrate/epochs\n",
    "sgd = SGD(learning_rate=lrate, momentum=0.9, decay=decay, nesterov=False)\n",
    "model.compile(loss='categorical_crossentropy', optimizer=sgd, metrics=['accuracy'])\n",
    "model.summary()\n",
    "model.fit(X_train,y_train, validation_data=(X_test,y_test), epochs=epochs, batch_size=32)\n",
    "# final evaluation of the model\n",
    "scores = model.evaluate(X_test, y_test, verbose=0)\n",
    "print(\"Accuracy: %.2f%%\" % (scores[1]*100))"
   ]
  },
  {
   "cell_type": "code",
   "execution_count": null,
   "id": "12337e29",
   "metadata": {
    "ExecuteTime": {
     "start_time": "2022-06-25T07:54:31.421Z"
    }
   },
   "outputs": [],
   "source": [
    "# large CNN model for the CIFAR-10 Dataset\n",
    "from tensorflow.keras.datasets import cifar10\n",
    "from tensorflow.keras.models import Sequential\n",
    "from tensorflow.keras.layers import Dense\n",
    "from tensorflow.keras.layers import Dropout\n",
    "from tensorflow.keras.layers import Flatten\n",
    "from tensorflow.keras.constraints import max_norm\n",
    "from tensorflow.keras.optimizers import SGD\n",
    "from tensorflow.keras.layers.convolutional import Conv2D\n",
    "from tensorflow.keras.layers.convolutional import MaxPooling2D\n",
    "from tensorflow.keras.utils import np_utils\n",
    "(X_train, y_train), (X_test, y_test) = cifar10.load_data()\n",
    "# normalize inputs from 0-255 to 0.0-1.0\n",
    "X_train = X_train.astype('float32')\n",
    "X_test = X_test.astype('float32')\n",
    "X_train = X_train / 255.0\n",
    "X_test = X_test / 255.0\n",
    "# one hot encode outputs\n",
    "y_train = np_utils.to_categorical(y_train)\n",
    "y_test = np_utils.to_categorical(y_test)\n",
    "num_classes = y_test.shape[1]\n",
    "model = Sequential()\n",
    "model.add(Conv2D(32,(3,3),input_shape=(32,32,3),activation='relu',padding='same'))\n",
    "model.add(Dropout(0.2))\n",
    "model.add(Conv2D(32,(3, 3),activation='relu',padding='same'))\n",
    "model.add(MaxPooling2D())\n",
    "model.add(Conv2D(64,(3,3),activation='relu',padding='same'))\n",
    "model.add(Dropout(0.2))\n",
    "model.add(Conv2D(64,(3,3),activation='relu',padding='same'))\n",
    "model.add(MaxPooling2D())\n",
    "model.add(Conv2D(128,(3,3),activation='relu',padding='same'))\n",
    "model.add(Dropout(0.2))\n",
    "model.add(Conv2D(128,(3,3),activation='relu',padding='same'))\n",
    "model.add(MaxPooling2D())\n",
    "model.add(Flatten())\n",
    "model.add(Dropout(0.2))\n",
    "model.add(Dense(1024, activation='relu',kernel_constraint=max_norm(3)))\n",
    "model.add(Dropout(0.2))\n",
    "model.add(Dense(512, activation='relu',kernel_constraint=max_norm(3)))\n",
    "model.add(Dropout(0.2))\n",
    "model.add(Dense(num_classes,activation='softmax'))\n",
    "epochs = 25\n",
    "lrate = 0.01\n",
    "decay = lrate/epochs\n",
    "sgd = SGD(learning_rate=lrate, momentum=0.9, decay=decay, nesterov=False)\n",
    "model.compile(loss='categorical_crossentropy', optimizer=sgd, metrics=['accuracy'])\n",
    "model.summary()\n",
    "model.fit(X_train,y_train,validation_data=(X_test,y_test),epochs=epochs,batch_size=64)\n",
    "# Final evaluation of the model\n",
    "scores = model.evaluate(X_test, y_test, verbose=0)\n",
    "print(\"Accuracy: %.2f%%\" % (scores[1]*100))"
   ]
  },
  {
   "cell_type": "code",
   "execution_count": null,
   "id": "0eb6a62e",
   "metadata": {
    "ExecuteTime": {
     "start_time": "2022-06-25T07:54:31.425Z"
    }
   },
   "outputs": [],
   "source": [
    "# genetic algorithm search for continuous function optimization\n",
    "from numpy.random import randint\n",
    "from numpy.random import rand\n",
    "# objective function\n",
    "def objective(x):\n",
    "    return x[0]**2.0 + x[1]**2.0\n",
    "# decode bitstring to numbers\n",
    "def decode(bounds, n_bits, bitstring):\n",
    "    decoded = list()\n",
    "    largest = 2**n_bits\n",
    "    for i in range(len(bounds)):\n",
    "        # extract the substring\n",
    "        start, end = i * n_bits, (i * n_bits)+n_bits\n",
    "        substring = bitstring[start:end]\n",
    "        # convert bitstring to a string of chars\n",
    "        chars = ''.join([str(s) for s in substring])\n",
    "        # convert string to integer\n",
    "        integer = int(chars, 2)\n",
    "        # scale integer to desired range\n",
    "        value = bounds[i][0] + (integer/largest) * (bounds[i][1] - bounds[i][0])\n",
    "        # store\n",
    "        decoded.append(value)\n",
    "    return decoded\n",
    "# tournament selection\n",
    "def selection(pop, scores, k=3):\n",
    "    # first random selection\n",
    "    selection_ix = randint(len(pop))\n",
    "    for ix in randint(0, len(pop), k-1):\n",
    "        # check if better (e.g. perform a tournament)\n",
    "        if scores[ix] < scores[selection_ix]:\n",
    "            selection_ix = ix\n",
    "    return pop[selection_ix]\n",
    "# crossover two parents to create two children\n",
    "def crossover(p1, p2, r_cross):\n",
    "    # children are copies of parents by default\n",
    "    c1, c2 = p1.copy(), p2.copy()\n",
    "    # check for recombination\n",
    "    if rand() < r_cross:\n",
    "        # select crossover point that is not on the end of the string\n",
    "        pt = randint(1, len(p1)-2)\n",
    "        # perform crossover\n",
    "        c1 = p1[:pt] + p2[pt:]\n",
    "        c2 = p2[:pt] + p1[pt:]\n",
    "    return [c1, c2]\n",
    "# mutation operator\n",
    "def mutation(bitstring, r_mut):\n",
    "    for i in range(len(bitstring)):\n",
    "        # check for a mutation\n",
    "        if rand() < r_mut:\n",
    "            # flip the bit\n",
    "            bitstring[i] = 1 - bitstring[i]\n",
    "# genetic algorithm\n",
    "def genetic_algorithm(objective, bounds, n_bits, n_iter, n_pop, r_cross, r_mut):\n",
    "    # initial population of random bitstring\n",
    "    pop = [randint(0, 2, n_bits*len(bounds)).tolist() for _ in range(n_pop)]\n",
    "    # keep track of best solution\n",
    "    best, best_eval = 0, objective(decode(bounds, n_bits, pop[0]))\n",
    "    # enumerate generations\n",
    "    for gen in range(n_iter):\n",
    "        # decode population\n",
    "        decoded = [decode(bounds, n_bits, p) for p in pop]\n",
    "        # evaluate all candidates in the population\n",
    "        scores = [objective(d) for d in decoded]\n",
    "        # check for new best solution\n",
    "        for i in range(n_pop):\n",
    "            if scores[i] < best_eval:\n",
    "                best, best_eval = pop[i], scores[i]\n",
    "                print(\">%d, new best f(%s) = %f\" % (gen,  decoded[i], scores[i]))\n",
    "        # select parents\n",
    "        selected = [selection(pop, scores) for _ in range(n_pop)]\n",
    "        # create the next generation\n",
    "        children = list()\n",
    "        for i in range(0, n_pop, 2):\n",
    "            # get selected parents in pairs\n",
    "            p1, p2 = selected[i], selected[i+1]\n",
    "            # crossover and mutation\n",
    "            for c in crossover(p1, p2, r_cross):\n",
    "                # mutation\n",
    "                mutation(c, r_mut)\n",
    "                # store for next generation\n",
    "                children.append(c)\n",
    "        # replace population\n",
    "        pop = children\n",
    "    return [best, best_eval]\n",
    "\n",
    "# define range for input\n",
    "bounds = [[-5.0, 5.0], [-5.0, 5.0]]\n",
    "# define the total iterations\n",
    "n_iter = 100\n",
    "# bits per variable\n",
    "n_bits = 16\n",
    "# define the population size\n",
    "n_pop = 100\n",
    "# crossover rate\n",
    "r_cross = 0.9\n",
    "# mutation rate\n",
    "r_mut = 1.0 / (float(n_bits) * len(bounds))\n",
    "# perform the genetic algorithm search\n",
    "best, score = genetic_algorithm(objective, bounds, n_bits, n_iter, n_pop, r_cross, r_mut)\n",
    "print('Done!')\n",
    "decoded = decode(bounds, n_bits, best)\n",
    "print('f(%s) = %f' % (decoded, score))"
   ]
  },
  {
   "cell_type": "code",
   "execution_count": null,
   "id": "87978c26",
   "metadata": {},
   "outputs": [],
   "source": []
  }
 ],
 "metadata": {
  "kernelspec": {
   "display_name": "testAI",
   "language": "python",
   "name": "testai"
  },
  "language_info": {
   "codemirror_mode": {
    "name": "ipython",
    "version": 3
   },
   "file_extension": ".py",
   "mimetype": "text/x-python",
   "name": "python",
   "nbconvert_exporter": "python",
   "pygments_lexer": "ipython3",
   "version": "3.9.12"
  }
 },
 "nbformat": 4,
 "nbformat_minor": 5
}
