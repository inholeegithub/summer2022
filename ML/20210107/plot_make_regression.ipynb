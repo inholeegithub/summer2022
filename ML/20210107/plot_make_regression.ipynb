{
 "cells": [
  {
   "cell_type": "code",
   "execution_count": 1,
   "metadata": {},
   "outputs": [
    {
     "name": "stdout",
     "output_type": "stream",
     "text": [
      "(100,)\n",
      "(100, 1)\n",
      "(100, 1)\n"
     ]
    },
    {
     "data": {
      "image/png": "[encoded data removed]",
      "text/plain": [
       "<Figure size 432x288 with 1 Axes>"
      ]
     },
     "metadata": {
      "needs_background": "light"
     },
     "output_type": "display_data"
    },
    {
     "data": {
      "text/plain": [
       "array([[-8.78107893e-01],\n",
       "       [ 1.35963386e+00],\n",
       "       [ 1.64027081e+00],\n",
       "       [ 5.42352572e-01],\n",
       "       [ 8.24703005e-01],\n",
       "       [-5.96159700e-01],\n",
       "       [-5.62668272e-02],\n",
       "       [-1.32328898e-01],\n",
       "       [-2.43476758e+00],\n",
       "       [-4.03892269e-01],\n",
       "       [ 3.81866234e-01],\n",
       "       [ 1.36723542e+00],\n",
       "       [-7.47870949e-01],\n",
       "       [-3.81516482e-01],\n",
       "       [ 8.42456282e-01],\n",
       "       [-7.72186654e-02],\n",
       "       [ 4.33496330e-01],\n",
       "       [-2.17135269e-01],\n",
       "       [ 1.46767801e+00],\n",
       "       [ 1.12726505e-01],\n",
       "       [ 1.73118467e+00],\n",
       "       [-3.35677339e-01],\n",
       "       [-1.09873895e+00],\n",
       "       [-8.41747366e-01],\n",
       "       [ 5.66275441e-01],\n",
       "       [-1.05795222e+00],\n",
       "       [ 6.95119605e-01],\n",
       "       [ 5.39058321e-01],\n",
       "       [ 5.01857207e-01],\n",
       "       [-1.43943903e+00],\n",
       "       [-1.89469265e-01],\n",
       "       [-7.44707629e-02],\n",
       "       [-1.79343559e+00],\n",
       "       [ 2.23136679e+00],\n",
       "       [ 4.15393930e-02],\n",
       "       [ 1.17353150e+00],\n",
       "       [-1.38451867e+00],\n",
       "       [ 2.16116006e-01],\n",
       "       [-9.14526229e-02],\n",
       "       [ 1.27837923e+00],\n",
       "       [-2.13619610e+00],\n",
       "       [-2.36184031e-01],\n",
       "       [-1.85861239e+00],\n",
       "       [ 3.26003433e-01],\n",
       "       [ 9.76147160e-06],\n",
       "       [-3.75669423e-01],\n",
       "       [ 1.04082395e+00],\n",
       "       [-3.38821966e-01],\n",
       "       [-6.77675577e-01],\n",
       "       [ 1.21788563e+00],\n",
       "       [-1.24528809e+00],\n",
       "       [-8.29135289e-01],\n",
       "       [-4.19316482e-01],\n",
       "       [ 3.80471970e-01],\n",
       "       [-1.86809065e+00],\n",
       "       [ 1.58448706e+00],\n",
       "       [ 6.11340780e-01],\n",
       "       [ 1.00036589e+00],\n",
       "       [-9.09007615e-01],\n",
       "       [-3.95702397e-02],\n",
       "       [-1.91304965e-02],\n",
       "       [-1.42121723e+00],\n",
       "       [ 3.50888494e-01],\n",
       "       [-9.88779049e-01],\n",
       "       [ 4.62555231e-02],\n",
       "       [-3.81092518e-01],\n",
       "       [ 7.35279576e-01],\n",
       "       [-6.37655012e-01],\n",
       "       [-2.65944946e+00],\n",
       "       [-4.16757847e-01],\n",
       "       [ 2.56570452e-01],\n",
       "       [ 3.70444537e-01],\n",
       "       [-6.34679305e-01],\n",
       "       [ 4.79705919e-02],\n",
       "       [-2.34360319e+00],\n",
       "       [ 5.08396243e-01],\n",
       "       [-6.53250268e-01],\n",
       "       [-8.44213704e-01],\n",
       "       [-4.62005348e-01],\n",
       "       [ 2.04207979e-01],\n",
       "       [ 5.02881417e-01],\n",
       "       [-2.69056960e-01],\n",
       "       [-1.11792545e+00],\n",
       "       [ 5.24296430e-01],\n",
       "       [ 8.77102184e-02],\n",
       "       [ 5.51454045e-01],\n",
       "       [-2.03346655e+00],\n",
       "       [-3.13508197e-01],\n",
       "       [ 1.17500122e+00],\n",
       "       [ 6.64890091e-02],\n",
       "       [ 1.24821292e+00],\n",
       "       [-1.18761229e+00],\n",
       "       [ 1.40669624e+00],\n",
       "       [-1.56434170e-01],\n",
       "       [ 2.29220801e+00],\n",
       "       [-1.73795950e+00],\n",
       "       [-2.04032305e+00],\n",
       "       [ 7.71011738e-01],\n",
       "       [ 9.02525097e-03],\n",
       "       [-1.53495196e-01]])"
      ]
     },
     "execution_count": 1,
     "metadata": {},
     "output_type": "execute_result"
    }
   ],
   "source": [
    "%matplotlib inline\n",
    "from sklearn.datasets import make_regression\n",
    "import numpy as np\n",
    "import matplotlib.pyplot as plt\n",
    "X, y = make_regression(n_samples=100, n_features=1, bias=10.0, noise=13.0, random_state=2)\n",
    "print(y.shape)\n",
    "y = np.expand_dims(y, axis=1)\n",
    "print(X.shape)\n",
    "print(y.shape)\n",
    "plt.scatter(X, y)\n",
    "plt.show()\n",
    "y\n",
    "X"
   ]
  },
  {
   "cell_type": "code",
   "execution_count": null,
   "metadata": {},
   "outputs": [],
   "source": []
  }
 ],
 "metadata": {
  "kernelspec": {
   "display_name": "testAI",
   "language": "python",
   "name": "testai"
  },
  "language_info": {
   "codemirror_mode": {
    "name": "ipython",
    "version": 3
   },
   "file_extension": ".py",
   "mimetype": "text/x-python",
   "name": "python",
   "nbconvert_exporter": "python",
   "pygments_lexer": "ipython3",
   "version": "3.8.5"
  }
 },
 "nbformat": 4,
 "nbformat_minor": 4
}
