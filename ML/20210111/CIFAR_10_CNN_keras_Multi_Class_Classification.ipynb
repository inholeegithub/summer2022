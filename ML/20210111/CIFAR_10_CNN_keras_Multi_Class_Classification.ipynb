{
 "cells": [
  {
   "cell_type": "markdown",
   "metadata": {},
   "source": [
    "color images\n",
    "The CIFAR-10 dataset consists of 60000 32x32 colour images in 10 classes, with 6000 images per class. There are 50000 training images and 10000 test images."
   ]
  },
  {
   "cell_type": "code",
   "execution_count": 1,
   "metadata": {
    "ExecuteTime": {
     "end_time": "2022-06-24T02:07:29.984281Z",
     "start_time": "2022-06-24T02:05:46.167263Z"
    }
   },
   "outputs": [
    {
     "name": "stderr",
     "output_type": "stream",
     "text": [
      "C:\\Users\\ihlee\\anaconda3\\envs\\testAI\\lib\\site-packages\\numpy\\_distributor_init.py:30: UserWarning: loaded more than 1 DLL from .libs:\n",
      "C:\\Users\\ihlee\\anaconda3\\envs\\testAI\\lib\\site-packages\\numpy\\.libs\\libopenblas.el2c6ple4zyw3eceviv3oxxgrn2nrfm2.gfortran-win_amd64.dll\n",
      "C:\\Users\\ihlee\\anaconda3\\envs\\testAI\\lib\\site-packages\\numpy\\.libs\\libopenblas.WCDJNK7YVMPZQ2ME2ZZHJJRJ3JIKNDB7.gfortran-win_amd64.dll\n",
      "  warnings.warn(\"loaded more than 1 DLL from .libs:\"\n"
     ]
    },
    {
     "name": "stdout",
     "output_type": "stream",
     "text": [
      "2.5.0\n",
      "OrderedDict([('cpu_compiler', 'C:/Program Files (x86)/Microsoft Visual Studio/2019/Community/VC/Tools/MSVC/14.29.30037/bin/HostX64/x64/cl.exe'), ('cuda_compute_capabilities', ['compute_35', 'compute_52', 'compute_60', 'compute_61', 'compute_70', 'compute_75', 'compute_80']), ('cuda_version', '64_113'), ('cudart_dll_name', 'cudart64_113.dll'), ('cudnn_dll_name', 'cudnn64_8.dll'), ('cudnn_version', '64_8'), ('is_cuda_build', True), ('is_rocm_build', False), ('is_tensorrt_build', False), ('msvcp_dll_names', 'msvcp140.dll,msvcp140_1.dll'), ('nvcuda_dll_name', 'nvcuda.dll')])\n",
      "WARNING:tensorflow:From C:\\Users\\ihlee\\AppData\\Local\\Temp/ipykernel_9932/1126564506.py:7: is_gpu_available (from tensorflow.python.framework.test_util) is deprecated and will be removed in a future version.\n",
      "Instructions for updating:\n",
      "Use `tf.config.list_physical_devices('GPU')` instead.\n",
      "[name: \"/device:CPU:0\"\n",
      "device_type: \"CPU\"\n",
      "memory_limit: 268435456\n",
      "locality {\n",
      "}\n",
      "incarnation: 4214581268501823199\n",
      ", name: \"/device:GPU:0\"\n",
      "device_type: \"GPU\"\n",
      "memory_limit: 1417120974\n",
      "locality {\n",
      "  bus_id: 1\n",
      "  links {\n",
      "  }\n",
      "}\n",
      "incarnation: 4390554369227849776\n",
      "physical_device_desc: \"device: 0, name: NVIDIA GeForce GTX 750 Ti, pci bus id: 0000:01:00.0, compute capability: 5.0\"\n",
      "]\n"
     ]
    }
   ],
   "source": [
    "import tensorflow\n",
    "print(tensorflow.__version__)\n",
    "import tensorflow.python.platform.build_info as build\n",
    "print(build.build_info)\n",
    "\n",
    "import tensorflow as tf\n",
    "tf.test.is_gpu_available()\n",
    "tf.test.is_built_with_cuda()\n",
    "\n",
    "tf.config.list_physical_devices('GPU')\n",
    "tf.config.list_physical_devices('CPU')\n",
    "\n",
    "from tensorflow.python.client import device_lib\n",
    "print(device_lib.list_local_devices())"
   ]
  },
  {
   "cell_type": "code",
   "execution_count": 2,
   "metadata": {
    "ExecuteTime": {
     "end_time": "2022-06-24T02:07:30.029119Z",
     "start_time": "2022-06-24T02:07:29.990274Z"
    }
   },
   "outputs": [
    {
     "name": "stdout",
     "output_type": "stream",
     "text": [
      "True\n",
      "/device:GPU:0\n"
     ]
    },
    {
     "data": {
      "text/plain": [
       "[PhysicalDevice(name='/physical_device:GPU:0', device_type='GPU')]"
      ]
     },
     "execution_count": 2,
     "metadata": {},
     "output_type": "execute_result"
    }
   ],
   "source": [
    "import tensorflow as tf\n",
    "print(tf.test.is_gpu_available())\n",
    "print(tf.test.gpu_device_name())\n",
    "tf.config.experimental.list_physical_devices(device_type='GPU')"
   ]
  },
  {
   "cell_type": "code",
   "execution_count": 3,
   "metadata": {
    "ExecuteTime": {
     "end_time": "2022-06-24T02:07:30.043945Z",
     "start_time": "2022-06-24T02:07:30.031119Z"
    }
   },
   "outputs": [],
   "source": [
    "import os\n",
    "import tensorflow as tf\n",
    "os.environ[\"CUDA_VISIBLE_DEVICES\"]=\"0\"\n",
    "gpus = tf.config.experimental.list_physical_devices('GPU')\n",
    "if gpus:\n",
    "    try:\n",
    "        tf.config.experimental.set_memory_growth(gpus[0], True)\n",
    "    except RuntimeError as e:\n",
    "        print(e)"
   ]
  },
  {
   "cell_type": "code",
   "execution_count": 4,
   "metadata": {
    "ExecuteTime": {
     "end_time": "2022-06-24T02:17:22.718391Z",
     "start_time": "2022-06-24T02:07:30.044962Z"
    }
   },
   "outputs": [
    {
     "name": "stderr",
     "output_type": "stream",
     "text": [
      "C:\\Users\\ihlee\\anaconda3\\envs\\testAI\\lib\\site-packages\\tensorflow\\python\\keras\\optimizer_v2\\optimizer_v2.py:374: UserWarning: The `lr` argument is deprecated, use `learning_rate` instead.\n",
      "  warnings.warn(\n"
     ]
    },
    {
     "name": "stdout",
     "output_type": "stream",
     "text": [
      "Model: \"sequential\"\n",
      "_________________________________________________________________\n",
      "Layer (type)                 Output Shape              Param #   \n",
      "=================================================================\n",
      "conv2d (Conv2D)              (None, 32, 32, 32)        896       \n",
      "_________________________________________________________________\n",
      "dropout (Dropout)            (None, 32, 32, 32)        0         \n",
      "_________________________________________________________________\n",
      "conv2d_1 (Conv2D)            (None, 32, 32, 32)        9248      \n",
      "_________________________________________________________________\n",
      "max_pooling2d (MaxPooling2D) (None, 16, 16, 32)        0         \n",
      "_________________________________________________________________\n",
      "flatten (Flatten)            (None, 8192)              0         \n",
      "_________________________________________________________________\n",
      "dense (Dense)                (None, 512)               4194816   \n",
      "_________________________________________________________________\n",
      "dropout_1 (Dropout)          (None, 512)               0         \n",
      "_________________________________________________________________\n",
      "dense_1 (Dense)              (None, 10)                5130      \n",
      "=================================================================\n",
      "Total params: 4,210,090\n",
      "Trainable params: 4,210,090\n",
      "Non-trainable params: 0\n",
      "_________________________________________________________________\n",
      "Epoch 1/25\n",
      "1563/1563 [==============================] - 27s 15ms/step - loss: 1.7320 - accuracy: 0.3753 - val_loss: 1.4443 - val_accuracy: 0.4892\n",
      "Epoch 2/25\n",
      "1563/1563 [==============================] - 24s 15ms/step - loss: 1.3744 - accuracy: 0.5065 - val_loss: 1.2329 - val_accuracy: 0.5500\n",
      "Epoch 3/25\n",
      "1563/1563 [==============================] - 23s 15ms/step - loss: 1.1998 - accuracy: 0.5706 - val_loss: 1.1532 - val_accuracy: 0.5895\n",
      "Epoch 4/25\n",
      "1563/1563 [==============================] - 24s 15ms/step - loss: 1.0803 - accuracy: 0.6158 - val_loss: 1.0527 - val_accuracy: 0.6287\n",
      "Epoch 5/25\n",
      "1563/1563 [==============================] - 24s 15ms/step - loss: 0.9901 - accuracy: 0.6486 - val_loss: 1.0082 - val_accuracy: 0.6413\n",
      "Epoch 6/25\n",
      "1563/1563 [==============================] - 24s 15ms/step - loss: 0.9155 - accuracy: 0.6764 - val_loss: 0.9695 - val_accuracy: 0.6552\n",
      "Epoch 7/25\n",
      "1563/1563 [==============================] - 23s 15ms/step - loss: 0.8441 - accuracy: 0.7005 - val_loss: 0.9495 - val_accuracy: 0.6644\n",
      "Epoch 8/25\n",
      "1563/1563 [==============================] - 24s 15ms/step - loss: 0.7826 - accuracy: 0.7233 - val_loss: 0.9541 - val_accuracy: 0.6639\n",
      "Epoch 9/25\n",
      "1563/1563 [==============================] - 23s 15ms/step - loss: 0.7240 - accuracy: 0.7429 - val_loss: 0.9394 - val_accuracy: 0.6715\n",
      "Epoch 10/25\n",
      "1563/1563 [==============================] - 23s 15ms/step - loss: 0.6755 - accuracy: 0.7594 - val_loss: 0.9504 - val_accuracy: 0.6729\n",
      "Epoch 11/25\n",
      "1563/1563 [==============================] - 23s 15ms/step - loss: 0.6273 - accuracy: 0.7797 - val_loss: 0.9498 - val_accuracy: 0.6759\n",
      "Epoch 12/25\n",
      "1563/1563 [==============================] - 23s 15ms/step - loss: 0.5869 - accuracy: 0.7907 - val_loss: 0.9440 - val_accuracy: 0.6849\n",
      "Epoch 13/25\n",
      "1563/1563 [==============================] - 23s 15ms/step - loss: 0.5462 - accuracy: 0.8072 - val_loss: 0.9385 - val_accuracy: 0.6871\n",
      "Epoch 14/25\n",
      "1563/1563 [==============================] - 23s 15ms/step - loss: 0.5173 - accuracy: 0.8176 - val_loss: 0.9477 - val_accuracy: 0.6864\n",
      "Epoch 15/25\n",
      "1563/1563 [==============================] - 23s 15ms/step - loss: 0.4822 - accuracy: 0.8282 - val_loss: 0.9486 - val_accuracy: 0.6926\n",
      "Epoch 16/25\n",
      "1563/1563 [==============================] - 23s 15ms/step - loss: 0.4490 - accuracy: 0.8416 - val_loss: 0.9607 - val_accuracy: 0.6907\n",
      "Epoch 17/25\n",
      "1563/1563 [==============================] - 23s 15ms/step - loss: 0.4267 - accuracy: 0.8493 - val_loss: 0.9869 - val_accuracy: 0.6906\n",
      "Epoch 18/25\n",
      "1563/1563 [==============================] - 23s 15ms/step - loss: 0.3997 - accuracy: 0.8571 - val_loss: 0.9715 - val_accuracy: 0.6947\n",
      "Epoch 19/25\n",
      "1563/1563 [==============================] - 23s 15ms/step - loss: 0.3780 - accuracy: 0.8668 - val_loss: 0.9983 - val_accuracy: 0.6922\n",
      "Epoch 20/25\n",
      "1563/1563 [==============================] - 23s 15ms/step - loss: 0.3592 - accuracy: 0.8749 - val_loss: 1.0146 - val_accuracy: 0.6894\n",
      "Epoch 21/25\n",
      "1563/1563 [==============================] - 23s 15ms/step - loss: 0.3401 - accuracy: 0.8795 - val_loss: 1.0152 - val_accuracy: 0.6964\n",
      "Epoch 22/25\n",
      "1563/1563 [==============================] - 23s 15ms/step - loss: 0.3217 - accuracy: 0.8875 - val_loss: 1.0279 - val_accuracy: 0.6946\n",
      "Epoch 23/25\n",
      "1563/1563 [==============================] - 24s 15ms/step - loss: 0.3106 - accuracy: 0.8901 - val_loss: 1.0124 - val_accuracy: 0.6962\n",
      "Epoch 24/25\n",
      "1563/1563 [==============================] - 24s 15ms/step - loss: 0.2922 - accuracy: 0.8976 - val_loss: 1.0278 - val_accuracy: 0.6967\n",
      "Epoch 25/25\n",
      "1563/1563 [==============================] - 23s 15ms/step - loss: 0.2823 - accuracy: 0.9010 - val_loss: 1.0481 - val_accuracy: 0.7007\n",
      "Accuracy: 70.07%\n"
     ]
    }
   ],
   "source": [
    "# Simple CNN model for the CIFAR-10 Dataset\n",
    "from keras.datasets import cifar10\n",
    "from keras.models import Sequential\n",
    "from keras.layers import Dense\n",
    "from keras.layers import Dropout\n",
    "from keras.layers import Flatten\n",
    "from keras.constraints import maxnorm\n",
    "from keras.optimizers import SGD\n",
    "from keras.layers.convolutional import Conv2D\n",
    "from keras.layers.convolutional import MaxPooling2D\n",
    "from keras.utils import np_utils\n",
    "(X_train, y_train), (X_test, y_test) = cifar10.load_data()\n",
    "# normalize inputs from 0-255 to 0.0-1.0\n",
    "X_train = X_train.astype('float32')\n",
    "X_test = X_test.astype('float32')\n",
    "X_train = X_train / 255.0\n",
    "X_test = X_test / 255.0\n",
    "# one hot encode outputs\n",
    "y_train = np_utils.to_categorical(y_train)\n",
    "y_test = np_utils.to_categorical(y_test)\n",
    "num_classes = y_test.shape[1]\n",
    "model = Sequential()\n",
    "model.add(Conv2D(32,(3,3),input_shape=(32,32,3),padding='same',activation='relu',kernel_constraint=maxnorm(3)))\n",
    "model.add(Dropout(0.2))\n",
    "model.add(Conv2D(32,(3,3),activation='relu',padding='same',kernel_constraint=maxnorm(3)))\n",
    "model.add(MaxPooling2D())\n",
    "model.add(Flatten())\n",
    "model.add(Dense(512,activation='relu',kernel_constraint=maxnorm(3)))\n",
    "model.add(Dropout(0.5))\n",
    "model.add(Dense(num_classes,activation='softmax'))\n",
    "epochs = 25\n",
    "lrate = 0.01\n",
    "decay = lrate/epochs\n",
    "sgd = SGD(lr=lrate, momentum=0.9, decay=decay, nesterov=False)\n",
    "model.compile(loss='categorical_crossentropy', optimizer=sgd, metrics=['accuracy'])\n",
    "model.summary()\n",
    "model.fit(X_train,y_train, validation_data=(X_test,y_test), epochs=epochs, batch_size=32)\n",
    "# Final evaluation of the model\n",
    "scores = model.evaluate(X_test, y_test, verbose=0)\n",
    "print(\"Accuracy: %.2f%%\" % (scores[1]*100))"
   ]
  },
  {
   "cell_type": "code",
   "execution_count": 5,
   "metadata": {
    "ExecuteTime": {
     "end_time": "2022-06-24T02:27:59.298912Z",
     "start_time": "2022-06-24T02:17:22.719393Z"
    },
    "scrolled": true
   },
   "outputs": [
    {
     "name": "stdout",
     "output_type": "stream",
     "text": [
      "Model: \"sequential_1\"\n",
      "_________________________________________________________________\n",
      "Layer (type)                 Output Shape              Param #   \n",
      "=================================================================\n",
      "conv2d_2 (Conv2D)            (None, 32, 32, 32)        896       \n",
      "_________________________________________________________________\n",
      "dropout_2 (Dropout)          (None, 32, 32, 32)        0         \n",
      "_________________________________________________________________\n",
      "conv2d_3 (Conv2D)            (None, 32, 32, 32)        9248      \n",
      "_________________________________________________________________\n",
      "max_pooling2d_1 (MaxPooling2 (None, 16, 16, 32)        0         \n",
      "_________________________________________________________________\n",
      "conv2d_4 (Conv2D)            (None, 16, 16, 64)        18496     \n",
      "_________________________________________________________________\n",
      "dropout_3 (Dropout)          (None, 16, 16, 64)        0         \n",
      "_________________________________________________________________\n",
      "conv2d_5 (Conv2D)            (None, 16, 16, 64)        36928     \n",
      "_________________________________________________________________\n",
      "max_pooling2d_2 (MaxPooling2 (None, 8, 8, 64)          0         \n",
      "_________________________________________________________________\n",
      "conv2d_6 (Conv2D)            (None, 8, 8, 128)         73856     \n",
      "_________________________________________________________________\n",
      "dropout_4 (Dropout)          (None, 8, 8, 128)         0         \n",
      "_________________________________________________________________\n",
      "conv2d_7 (Conv2D)            (None, 8, 8, 128)         147584    \n",
      "_________________________________________________________________\n",
      "max_pooling2d_3 (MaxPooling2 (None, 4, 4, 128)         0         \n",
      "_________________________________________________________________\n",
      "flatten_1 (Flatten)          (None, 2048)              0         \n",
      "_________________________________________________________________\n",
      "dropout_5 (Dropout)          (None, 2048)              0         \n",
      "_________________________________________________________________\n",
      "dense_2 (Dense)              (None, 1024)              2098176   \n",
      "_________________________________________________________________\n",
      "dropout_6 (Dropout)          (None, 1024)              0         \n",
      "_________________________________________________________________\n",
      "dense_3 (Dense)              (None, 512)               524800    \n",
      "_________________________________________________________________\n",
      "dropout_7 (Dropout)          (None, 512)               0         \n",
      "_________________________________________________________________\n",
      "dense_4 (Dense)              (None, 10)                5130      \n",
      "=================================================================\n",
      "Total params: 2,915,114\n",
      "Trainable params: 2,915,114\n",
      "Non-trainable params: 0\n",
      "_________________________________________________________________\n",
      "Epoch 1/25\n",
      "782/782 [==============================] - 27s 33ms/step - loss: 1.9915 - accuracy: 0.2608 - val_loss: 1.8262 - val_accuracy: 0.3512\n",
      "Epoch 2/25\n",
      "782/782 [==============================] - 25s 32ms/step - loss: 1.5593 - accuracy: 0.4312 - val_loss: 1.3770 - val_accuracy: 0.5047\n",
      "Epoch 3/25\n",
      "782/782 [==============================] - 25s 32ms/step - loss: 1.3596 - accuracy: 0.5057 - val_loss: 1.3111 - val_accuracy: 0.5341\n",
      "Epoch 4/25\n",
      "782/782 [==============================] - 25s 32ms/step - loss: 1.2307 - accuracy: 0.5564 - val_loss: 1.1438 - val_accuracy: 0.5836\n",
      "Epoch 5/25\n",
      "782/782 [==============================] - 25s 32ms/step - loss: 1.1231 - accuracy: 0.5968 - val_loss: 1.0248 - val_accuracy: 0.6333\n",
      "Epoch 6/25\n",
      "782/782 [==============================] - 25s 32ms/step - loss: 1.0300 - accuracy: 0.6344 - val_loss: 0.9649 - val_accuracy: 0.6594\n",
      "Epoch 7/25\n",
      "782/782 [==============================] - 25s 32ms/step - loss: 0.9485 - accuracy: 0.6619 - val_loss: 0.9047 - val_accuracy: 0.6835\n",
      "Epoch 8/25\n",
      "782/782 [==============================] - 25s 32ms/step - loss: 0.8757 - accuracy: 0.6880 - val_loss: 0.8605 - val_accuracy: 0.6951\n",
      "Epoch 9/25\n",
      "782/782 [==============================] - 25s 32ms/step - loss: 0.8258 - accuracy: 0.7084 - val_loss: 0.8576 - val_accuracy: 0.6992\n",
      "Epoch 10/25\n",
      "782/782 [==============================] - 25s 32ms/step - loss: 0.7799 - accuracy: 0.7231 - val_loss: 0.7803 - val_accuracy: 0.7321\n",
      "Epoch 11/25\n",
      "782/782 [==============================] - 25s 32ms/step - loss: 0.7340 - accuracy: 0.7386 - val_loss: 0.7628 - val_accuracy: 0.7343\n",
      "Epoch 12/25\n",
      "782/782 [==============================] - 25s 32ms/step - loss: 0.6995 - accuracy: 0.7526 - val_loss: 0.7517 - val_accuracy: 0.7359\n",
      "Epoch 13/25\n",
      "782/782 [==============================] - 25s 32ms/step - loss: 0.6648 - accuracy: 0.7650 - val_loss: 0.7220 - val_accuracy: 0.7481\n",
      "Epoch 14/25\n",
      "782/782 [==============================] - 25s 33ms/step - loss: 0.6412 - accuracy: 0.7740 - val_loss: 0.6906 - val_accuracy: 0.7616\n",
      "Epoch 15/25\n",
      "782/782 [==============================] - 25s 32ms/step - loss: 0.6109 - accuracy: 0.7839 - val_loss: 0.6914 - val_accuracy: 0.7619\n",
      "Epoch 16/25\n",
      "782/782 [==============================] - 25s 32ms/step - loss: 0.5887 - accuracy: 0.7922 - val_loss: 0.6704 - val_accuracy: 0.7673\n",
      "Epoch 17/25\n",
      "782/782 [==============================] - 25s 32ms/step - loss: 0.5625 - accuracy: 0.7988 - val_loss: 0.6689 - val_accuracy: 0.7708\n",
      "Epoch 18/25\n",
      "782/782 [==============================] - 25s 32ms/step - loss: 0.5428 - accuracy: 0.8075 - val_loss: 0.6594 - val_accuracy: 0.7737\n",
      "Epoch 19/25\n",
      "782/782 [==============================] - 25s 32ms/step - loss: 0.5271 - accuracy: 0.8127 - val_loss: 0.6475 - val_accuracy: 0.7762\n",
      "Epoch 20/25\n",
      "782/782 [==============================] - 25s 32ms/step - loss: 0.5076 - accuracy: 0.8204 - val_loss: 0.6531 - val_accuracy: 0.7803\n",
      "Epoch 21/25\n",
      "782/782 [==============================] - 25s 32ms/step - loss: 0.4930 - accuracy: 0.8258 - val_loss: 0.6383 - val_accuracy: 0.7832\n",
      "Epoch 22/25\n",
      "782/782 [==============================] - 25s 32ms/step - loss: 0.4756 - accuracy: 0.8308 - val_loss: 0.6303 - val_accuracy: 0.7857\n",
      "Epoch 23/25\n",
      "782/782 [==============================] - 26s 33ms/step - loss: 0.4617 - accuracy: 0.8359 - val_loss: 0.6412 - val_accuracy: 0.7848\n",
      "Epoch 24/25\n",
      "782/782 [==============================] - 26s 33ms/step - loss: 0.4469 - accuracy: 0.8427 - val_loss: 0.6357 - val_accuracy: 0.7866\n",
      "Epoch 25/25\n",
      "782/782 [==============================] - 26s 33ms/step - loss: 0.4335 - accuracy: 0.8453 - val_loss: 0.6407 - val_accuracy: 0.7862\n",
      "Accuracy: 78.62%\n"
     ]
    }
   ],
   "source": [
    "# Large CNN model for the CIFAR-10 Dataset\n",
    "from keras.datasets import cifar10\n",
    "from keras.models import Sequential\n",
    "from keras.layers import Dense\n",
    "from keras.layers import Dropout\n",
    "from keras.layers import Flatten\n",
    "from keras.constraints import maxnorm\n",
    "from keras.optimizers import SGD\n",
    "from keras.layers.convolutional import Conv2D\n",
    "from keras.layers.convolutional import MaxPooling2D\n",
    "from keras.utils import np_utils\n",
    "(X_train, y_train), (X_test, y_test) = cifar10.load_data()\n",
    "# normalize inputs from 0-255 to 0.0-1.0\n",
    "X_train = X_train.astype('float32')\n",
    "X_test = X_test.astype('float32')\n",
    "X_train = X_train / 255.0\n",
    "X_test = X_test / 255.0\n",
    "# one hot encode outputs\n",
    "y_train = np_utils.to_categorical(y_train)\n",
    "y_test = np_utils.to_categorical(y_test)\n",
    "num_classes = y_test.shape[1]\n",
    "model = Sequential()\n",
    "model.add(Conv2D(32,(3,3),input_shape=(32,32,3),activation='relu',padding='same'))\n",
    "model.add(Dropout(0.2))\n",
    "model.add(Conv2D(32,(3, 3),activation='relu',padding='same'))\n",
    "model.add(MaxPooling2D())\n",
    "model.add(Conv2D(64,(3,3),activation='relu',padding='same'))\n",
    "model.add(Dropout(0.2))\n",
    "model.add(Conv2D(64,(3,3),activation='relu',padding='same'))\n",
    "model.add(MaxPooling2D())\n",
    "model.add(Conv2D(128,(3,3),activation='relu',padding='same'))\n",
    "model.add(Dropout(0.2))\n",
    "model.add(Conv2D(128,(3,3),activation='relu',padding='same'))\n",
    "model.add(MaxPooling2D())\n",
    "model.add(Flatten())\n",
    "model.add(Dropout(0.2))\n",
    "model.add(Dense(1024, activation='relu',kernel_constraint=maxnorm(3)))\n",
    "model.add(Dropout(0.2))\n",
    "model.add(Dense(512, activation='relu',kernel_constraint=maxnorm(3)))\n",
    "model.add(Dropout(0.2))\n",
    "model.add(Dense(num_classes,activation='softmax'))\n",
    "epochs = 25\n",
    "lrate = 0.01\n",
    "decay = lrate/epochs\n",
    "sgd = SGD(lr=lrate, momentum=0.9, decay=decay, nesterov=False)\n",
    "model.compile(loss='categorical_crossentropy', optimizer=sgd, metrics=['accuracy'])\n",
    "model.summary()\n",
    "model.fit(X_train,y_train,validation_data=(X_test,y_test),epochs=epochs,batch_size=64)\n",
    "# Final evaluation of the model\n",
    "scores = model.evaluate(X_test, y_test, verbose=0)\n",
    "print(\"Accuracy: %.2f%%\" % (scores[1]*100))"
   ]
  },
  {
   "cell_type": "code",
   "execution_count": null,
   "metadata": {},
   "outputs": [],
   "source": []
  }
 ],
 "metadata": {
  "kernelspec": {
   "display_name": "testAI",
   "language": "python",
   "name": "testai"
  },
  "language_info": {
   "codemirror_mode": {
    "name": "ipython",
    "version": 3
   },
   "file_extension": ".py",
   "mimetype": "text/x-python",
   "name": "python",
   "nbconvert_exporter": "python",
   "pygments_lexer": "ipython3",
   "version": "3.9.7"
  }
 },
 "nbformat": 4,
 "nbformat_minor": 4
}
